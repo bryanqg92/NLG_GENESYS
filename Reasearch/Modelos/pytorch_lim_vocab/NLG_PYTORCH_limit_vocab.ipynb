{
  "cells": [
    {
      "cell_type": "code",
      "execution_count": null,
      "metadata": {
        "colab": {
          "base_uri": "https://localhost:8080/"
        },
        "id": "vFH7RZJIIkT9",
        "outputId": "aa079d83-d7ca-44e5-df89-495fd013cd90"
      },
      "outputs": [],
      "source": [
        "from google.colab import drive\n",
        "drive.mount('/content/drive')"
      ]
    },
    {
      "cell_type": "code",
      "execution_count": 1,
      "metadata": {
        "id": "YvxTjRjX9tPt"
      },
      "outputs": [],
      "source": [
        "import pandas as pd\n",
        "import numpy as np\n",
        "from tensorflow.keras.preprocessing.text import Tokenizer\n",
        "from sklearn.model_selection import train_test_split\n",
        "from sklearn.preprocessing import StandardScaler\n",
        "from tensorflow.keras.preprocessing.sequence import pad_sequences"
      ]
    },
    {
      "cell_type": "code",
      "execution_count": 2,
      "metadata": {
        "colab": {
          "base_uri": "https://localhost:8080/"
        },
        "id": "AQgynOSEpSI9",
        "outputId": "43491431-43d4-4cc0-daf0-d4cd2902d0ee"
      },
      "outputs": [
        {
          "name": "stdout",
          "output_type": "stream",
          "text": [
            "          P         D         L         R P_fuzzy_set  P_membership   \n",
            "0  0.034703  0.179485 -0.157921  0.596941          ok      0.913242  \\\n",
            "1 -0.968946  0.807242  0.626053 -0.091888   muy lejos      0.948244   \n",
            "2  0.981956 -0.211177 -0.239774 -0.226477   muy cerca      0.969927   \n",
            "3  0.011567 -0.036521  0.307282  0.218994          ok      0.971082   \n",
            "4 -0.930729  0.269826  0.619958 -0.084030   muy lejos      0.884549   \n",
            "\n",
            "   D_fuzzy_set  D_membership                L_fuzzy_set  L_membership   \n",
            "0  acercandose      0.897426      muy lento hacia atrás      0.710396  \\\n",
            "1  acercandose      1.000000  rápidamente hacia delante      0.869735   \n",
            "2   alejandose      1.000000      despacito hacia atrás      0.698869   \n",
            "3   sin cambio      0.817397    despacito hacia delante      0.963589   \n",
            "4  acercandose      1.000000  rápidamente hacia delante      0.900209   \n",
            "\n",
            "                 R_fuzzy_set  R_membership   \n",
            "0  rápidamente hacia delante      0.969408  \\\n",
            "1      muy lento hacia atrás      0.959438   \n",
            "2      despacito hacia atrás      0.632387   \n",
            "3    despacito hacia delante      0.594971   \n",
            "4      muy lento hacia atrás      0.920148   \n",
            "\n",
            "                                               FRASE  CAT  \n",
            "0  Cuando estés a la distancia requerida, pero te...    3  \n",
            "1  Cuando estés muy lejos de la pared, pero te es...    1  \n",
            "2  Cuando estés muy cerca a la pared, pero te est...   15  \n",
            "3  Cuando estés a la distancia requerida, y ni te...    8  \n",
            "4  Cuando estés muy lejos de la pared, pero te es...    1  \n"
          ]
        }
      ],
      "source": [
        "# Cargar el dataset\n",
        "data = pd.read_csv('C:\\\\Users\\\\leand\\\\Documents\\\\LEANDRO\\\\UBA\\\\CEIA\\\\PROYECTO DE GRADO\\\\data\\\\dataset.csv')\n",
        "    \n",
        "# Mostrar las primeras filas del dataset\n",
        "print(data.head())"
      ]
    },
    {
      "cell_type": "code",
      "execution_count": 3,
      "metadata": {},
      "outputs": [
        {
          "name": "stdout",
          "output_type": "stream",
          "text": [
            "<class 'pandas.core.frame.DataFrame'>\n",
            "RangeIndex: 9999 entries, 0 to 9998\n",
            "Data columns (total 14 columns):\n",
            " #   Column        Non-Null Count  Dtype  \n",
            "---  ------        --------------  -----  \n",
            " 0   P             9999 non-null   float64\n",
            " 1   D             9999 non-null   float64\n",
            " 2   L             9999 non-null   float64\n",
            " 3   R             9999 non-null   float64\n",
            " 4   P_fuzzy_set   9999 non-null   object \n",
            " 5   P_membership  9999 non-null   float64\n",
            " 6   D_fuzzy_set   9999 non-null   object \n",
            " 7   D_membership  9999 non-null   float64\n",
            " 8   L_fuzzy_set   9999 non-null   object \n",
            " 9   L_membership  9999 non-null   float64\n",
            " 10  R_fuzzy_set   9999 non-null   object \n",
            " 11  R_membership  9999 non-null   float64\n",
            " 12  FRASE         9999 non-null   object \n",
            " 13  CAT           9999 non-null   int64  \n",
            "dtypes: float64(8), int64(1), object(5)\n",
            "memory usage: 1.1+ MB\n"
          ]
        }
      ],
      "source": [
        "data.info()"
      ]
    },
    {
      "cell_type": "code",
      "execution_count": 4,
      "metadata": {
        "id": "kpic9ASVgrlE"
      },
      "outputs": [],
      "source": [
        "X = data[['P','D','L','R','CAT']]\n",
        "y = data['FRASE']\n",
        "z = data[['P_fuzzy_set', 'D_fuzzy_set', 'L_fuzzy_set', 'R_fuzzy_set']].apply(lambda x: ' '.join(x), axis=1)"
      ]
    },
    {
      "cell_type": "code",
      "execution_count": 5,
      "metadata": {},
      "outputs": [
        {
          "data": {
            "text/plain": [
              "P      0\n",
              "D      0\n",
              "L      0\n",
              "R      0\n",
              "CAT    0\n",
              "dtype: int64"
            ]
          },
          "execution_count": 5,
          "metadata": {},
          "output_type": "execute_result"
        }
      ],
      "source": [
        "X.isna().sum()\n"
      ]
    },
    {
      "cell_type": "code",
      "execution_count": 6,
      "metadata": {
        "id": "RTEQp3BugrlH"
      },
      "outputs": [],
      "source": [
        "tokenizer = Tokenizer()\n",
        "tokenizer.fit_on_texts(y)\n",
        "num_decoder_tokens = len(tokenizer.word_index) + 1\n",
        "\n",
        "y = tokenizer.texts_to_sequences(y)\n",
        "z = tokenizer.texts_to_sequences(z)\n",
        "\n",
        "max_len = max(len(s) for s in y)\n",
        "\n",
        "y = pad_sequences(y, maxlen=num_decoder_tokens, padding='post', truncating='post')\n",
        "z = pad_sequences(z, maxlen=num_decoder_tokens, padding='post', truncating='post')"
      ]
    },
    {
      "cell_type": "code",
      "execution_count": 7,
      "metadata": {},
      "outputs": [
        {
          "data": {
            "text/plain": [
              "41"
            ]
          },
          "execution_count": 7,
          "metadata": {},
          "output_type": "execute_result"
        }
      ],
      "source": [
        "num_decoder_tokens"
      ]
    },
    {
      "cell_type": "code",
      "execution_count": 12,
      "metadata": {
        "id": "_jxPUXh9rH4Q"
      },
      "outputs": [],
      "source": [
        "# Dividir los datos en conjunto de entrenamiento y prueba\n",
        "X_train, X_test, y_train, y_test = train_test_split(X, y, stratify = X['CAT'], test_size=0.2, random_state=42)\n",
        "\n",
        "# Dividir el conjunto de entrenamiento en conjunto de entrenamiento y validación\n",
        "X_train, X_val, y_train, y_val = train_test_split(X_train, y_train, test_size=0.25, random_state=42)\n",
        "\n",
        "# Obtener el índice de las filas de X_train, X_val y X_test\n",
        "idx_train = X_train.index\n",
        "idx_val = X_val.index\n",
        "idx_test = X_test.index"
      ]
    },
    {
      "cell_type": "code",
      "execution_count": 9,
      "metadata": {},
      "outputs": [
        {
          "data": {
            "image/png": "[encoded data removed]",
            "text/plain": [
              "<Figure size 640x480 with 1 Axes>"
            ]
          },
          "metadata": {},
          "output_type": "display_data"
        }
      ],
      "source": [
        "import matplotlib.pyplot as plt\n",
        "# Paso 2: Extraer la columna objetivo de X_test\n",
        "cats = X_test['CAT']\n",
        "\n",
        "# Paso 3: Calcular la frecuencia de cada clase\n",
        "class_counts = cats.value_counts()\n",
        "\n",
        "# Paso 4: Graficar la distribución de clases\n",
        "plt.bar(class_counts.index, class_counts.values)\n",
        "plt.xlabel('Categorías')\n",
        "plt.ylabel('Frecuencia')\n",
        "plt.show()"
      ]
    },
    {
      "cell_type": "code",
      "execution_count": 5,
      "metadata": {
        "id": "DIILcf0OgrlK"
      },
      "outputs": [],
      "source": [
        "# Dividir z en z_train, z_val y z_test\n",
        "z_train = z[idx_train]\n",
        "z_val = z[idx_val]\n",
        "z_test = z[idx_test]"
      ]
    },
    {
      "cell_type": "code",
      "execution_count": null,
      "metadata": {
        "colab": {
          "base_uri": "https://localhost:8080/",
          "height": 74
        },
        "id": "O_yu_i2Usgz5",
        "outputId": "58bc2a23-cf40-4830-d440-663878f88afb"
      },
      "outputs": [],
      "source": [
        "# Ajusta las columnas numéricas con StandardScaler\n",
        "scaler_values = StandardScaler()\n",
        "scaler_values.fit(X_train[['P','D','L','R']])"
      ]
    },
    {
      "cell_type": "code",
      "execution_count": 18,
      "metadata": {
        "id": "vX_8qyCFbKsg"
      },
      "outputs": [
        {
          "ename": "NameError",
          "evalue": "name 'scaler_values' is not defined",
          "output_type": "error",
          "traceback": [
            "\u001b[1;31m---------------------------------------------------------------------------\u001b[0m",
            "\u001b[1;31mNameError\u001b[0m                                 Traceback (most recent call last)",
            "Cell \u001b[1;32mIn[18], line 1\u001b[0m\n\u001b[1;32m----> 1\u001b[0m X_train[[\u001b[39m'\u001b[39m\u001b[39mP\u001b[39m\u001b[39m'\u001b[39m,\u001b[39m'\u001b[39m\u001b[39mD\u001b[39m\u001b[39m'\u001b[39m,\u001b[39m'\u001b[39m\u001b[39mL\u001b[39m\u001b[39m'\u001b[39m,\u001b[39m'\u001b[39m\u001b[39mR\u001b[39m\u001b[39m'\u001b[39m]] \u001b[39m=\u001b[39m scaler_values\u001b[39m.\u001b[39mtransform(X_train[[\u001b[39m'\u001b[39m\u001b[39mP\u001b[39m\u001b[39m'\u001b[39m,\u001b[39m'\u001b[39m\u001b[39mD\u001b[39m\u001b[39m'\u001b[39m,\u001b[39m'\u001b[39m\u001b[39mL\u001b[39m\u001b[39m'\u001b[39m,\u001b[39m'\u001b[39m\u001b[39mR\u001b[39m\u001b[39m'\u001b[39m]])\n\u001b[0;32m      2\u001b[0m X_val[[\u001b[39m'\u001b[39m\u001b[39mP\u001b[39m\u001b[39m'\u001b[39m,\u001b[39m'\u001b[39m\u001b[39mD\u001b[39m\u001b[39m'\u001b[39m,\u001b[39m'\u001b[39m\u001b[39mL\u001b[39m\u001b[39m'\u001b[39m,\u001b[39m'\u001b[39m\u001b[39mR\u001b[39m\u001b[39m'\u001b[39m]] \u001b[39m=\u001b[39m scaler_values\u001b[39m.\u001b[39mtransform(X_val[[\u001b[39m'\u001b[39m\u001b[39mP\u001b[39m\u001b[39m'\u001b[39m,\u001b[39m'\u001b[39m\u001b[39mD\u001b[39m\u001b[39m'\u001b[39m,\u001b[39m'\u001b[39m\u001b[39mL\u001b[39m\u001b[39m'\u001b[39m,\u001b[39m'\u001b[39m\u001b[39mR\u001b[39m\u001b[39m'\u001b[39m]])\n\u001b[0;32m      3\u001b[0m X_test[[\u001b[39m'\u001b[39m\u001b[39mP\u001b[39m\u001b[39m'\u001b[39m,\u001b[39m'\u001b[39m\u001b[39mD\u001b[39m\u001b[39m'\u001b[39m,\u001b[39m'\u001b[39m\u001b[39mL\u001b[39m\u001b[39m'\u001b[39m,\u001b[39m'\u001b[39m\u001b[39mR\u001b[39m\u001b[39m'\u001b[39m]] \u001b[39m=\u001b[39m scaler_values\u001b[39m.\u001b[39mtransform(X_test[[\u001b[39m'\u001b[39m\u001b[39mP\u001b[39m\u001b[39m'\u001b[39m,\u001b[39m'\u001b[39m\u001b[39mD\u001b[39m\u001b[39m'\u001b[39m,\u001b[39m'\u001b[39m\u001b[39mL\u001b[39m\u001b[39m'\u001b[39m,\u001b[39m'\u001b[39m\u001b[39mR\u001b[39m\u001b[39m'\u001b[39m]])\n",
            "\u001b[1;31mNameError\u001b[0m: name 'scaler_values' is not defined"
          ]
        }
      ],
      "source": [
        "X_train[['P','D','L','R']] = scaler_values.transform(X_train[['P','D','L','R']])\n",
        "X_val[['P','D','L','R']] = scaler_values.transform(X_val[['P','D','L','R']])\n",
        "X_test[['P','D','L','R']] = scaler_values.transform(X_test[['P','D','L','R']])"
      ]
    },
    {
      "cell_type": "code",
      "execution_count": 6,
      "metadata": {
        "id": "JwRtZWu3grlO"
      },
      "outputs": [],
      "source": [
        "X_train = X_train[['P','D','L','R']].values\n",
        "X_val = X_val[['P','D','L','R']].values\n",
        "X_test = X_test[['P','D','L','R']].values"
      ]
    },
    {
      "cell_type": "code",
      "execution_count": 13,
      "metadata": {},
      "outputs": [],
      "source": [
        "np.savetxt(\"C:/Users/leand/Documents/LEANDRO/UBA/CEIA/PROYECTO DE GRADO/src/X_test.txt\", X_test, fmt='%.6f')\n",
        "\n"
      ]
    },
    {
      "cell_type": "code",
      "execution_count": 20,
      "metadata": {
        "colab": {
          "base_uri": "https://localhost:8080/"
        },
        "id": "BzzSmRNU8--y",
        "outputId": "b4341a3f-9d68-4adc-8dba-f49c671e5e22"
      },
      "outputs": [
        {
          "name": "stdout",
          "output_type": "stream",
          "text": [
            "tamaño X train_scaled (5999, 4)\n",
            "tamaño y train (5999, 41)\n",
            "tamaño z train (5999, 41)\n",
            "tamaño X val_scaled (2000, 4)\n",
            "tamaño y val (2000, 41)\n",
            "tamaño z val_scaled (2000, 41)\n",
            "tamaño X test_scaled (2000, 4)\n",
            "tamaño y test (2000, 41)\n",
            "tamaño z test (2000, 41)\n"
          ]
        }
      ],
      "source": [
        "print('tamaño X train_scaled', X_train.shape)\n",
        "print('tamaño y train', y_train.shape)\n",
        "print('tamaño z train', z_train.shape)\n",
        "\n",
        "\n",
        "print('tamaño X val_scaled', X_val.shape)\n",
        "print('tamaño y val', y_val.shape)\n",
        "print('tamaño z val_scaled', z_val.shape)\n",
        "\n",
        "print('tamaño X test_scaled', X_test.shape)\n",
        "print('tamaño y test', y_test.shape)\n",
        "print('tamaño z test', z_test.shape)"
      ]
    },
    {
      "cell_type": "code",
      "execution_count": 2,
      "metadata": {
        "id": "8zL432ZGjJPj"
      },
      "outputs": [],
      "source": [
        "import torch\n",
        "from torch.utils.data import DataLoader, Dataset\n",
        "\n",
        "# Definir los conjuntos de datos\n",
        "class MyDataset(Dataset):\n",
        "    def __init__(self, X, y, z):\n",
        "        self.X = X\n",
        "        self.y = y\n",
        "        self.z = z\n",
        "    \n",
        "    def __len__(self):\n",
        "        return len(self.X)  # Devuelve el tamaño del conjunto de datos\n",
        "    \n",
        "    def __getitem__(self, index):\n",
        "        # Obtener ejemplo y su longitud\n",
        "        x = self.X[index]\n",
        "        y = self.y[index]\n",
        "        z = self.z[index]\n",
        "\n",
        "        # Convertir a tensores de PyTorch y agregar dimensión adicional\n",
        "        x = torch.tensor(x).float().unsqueeze(0)  # (1, 1, input_size)\n",
        "        y = torch.tensor(y).long() # (1,)\n",
        "        z = torch.tensor(z).long()  # (1,)\n",
        "\n",
        "        return x, y, z\n"
      ]
    },
    {
      "cell_type": "code",
      "execution_count": 22,
      "metadata": {
        "colab": {
          "base_uri": "https://localhost:8080/"
        },
        "id": "lS_fQXikxm0V",
        "outputId": "4f50b71d-bd9e-4491-fb88-1ab2e62c545a"
      },
      "outputs": [
        {
          "data": {
            "text/plain": [
              "((5999, 4), (5999, 41), (5999, 41))"
            ]
          },
          "execution_count": 22,
          "metadata": {},
          "output_type": "execute_result"
        }
      ],
      "source": [
        "X_train.shape,y_train.shape,z_train.shape"
      ]
    },
    {
      "cell_type": "code",
      "execution_count": 23,
      "metadata": {
        "id": "8pI5TOL2nqfX"
      },
      "outputs": [],
      "source": [
        "train_ds = MyDataset(X_train, y_train, z_train)\n",
        "valid_ds = MyDataset(X_val, y_val, z_val)\n",
        "test_ds  = MyDataset(X_test, y_test, z_test)"
      ]
    },
    {
      "cell_type": "code",
      "execution_count": 24,
      "metadata": {
        "id": "4Lr8l79Sopup"
      },
      "outputs": [],
      "source": [
        "# Pytorch utiliza DataLoader para entregar los dataset de a batches\n",
        "train_dataloader = DataLoader(train_ds, batch_size = 64, shuffle= True)\n",
        "valid_dataloader = DataLoader(valid_ds, batch_size=64)\n",
        "test_dataloader = DataLoader(test_ds, batch_size=64)"
      ]
    },
    {
      "cell_type": "code",
      "execution_count": 8,
      "metadata": {
        "id": "2NWj2SV7qrt7"
      },
      "outputs": [],
      "source": [
        "import torch\n",
        "import torch.nn as nn\n",
        "import torch.optim as optim\n",
        "\n",
        "# Definir dimensiones de entrada y salida\n",
        "input_size = 4\n",
        "hidden_size = 64\n",
        "\n",
        "# Definir modelo\n",
        "\n",
        "class seq2seqLSTM(nn.Module):\n",
        "    \n",
        "    def __init__(self, input_size, hidden_size, num_decoder_tokens, num_layers=1):\n",
        "        super(seq2seqLSTM, self).__init__()\n",
        "        self.encoder_lstm = nn.LSTM(input_size, hidden_size, num_layers, batch_first=True)\n",
        "        self.decoder_embedding = nn.Embedding(num_decoder_tokens, 128)\n",
        "        self.decoder_lstm = nn.LSTM(128, hidden_size, num_layers=1, batch_first=True)\n",
        "        self.linear_layer = nn.Linear(hidden_size, num_decoder_tokens)\n",
        "\n",
        "    def forward(self, inputs, dec_inputs):\n",
        "        enc_output, (state_h, state_c) = self.encoder_lstm(inputs)\n",
        "        embedding = self.decoder_embedding(dec_inputs)\n",
        "        decoder_output, _ = self.decoder_lstm(embedding, (state_h, state_c))\n",
        "        decoder_output = decoder_output.reshape(-1, decoder_output.shape[2])\n",
        "        linear_output = self.linear_layer(decoder_output)\n",
        "        # Remodela para que tenga el mismo número de pasos de tiempo que dec_inputs\n",
        "        linear_output = linear_output.reshape(dec_inputs.shape[0], dec_inputs.shape[1], -1)\n",
        "        return linear_output\n",
        "\n",
        "\n",
        "\n",
        "model = seq2seqLSTM(input_size, hidden_size, num_decoder_tokens)"
      ]
    },
    {
      "cell_type": "code",
      "execution_count": 15,
      "metadata": {},
      "outputs": [
        {
          "name": "stdout",
          "output_type": "stream",
          "text": [
            "seq2seqLSTM(\n",
            "  (encoder_lstm): LSTM(4, 64, batch_first=True)\n",
            "  (decoder_embedding): Embedding(41, 128)\n",
            "  (decoder_lstm): LSTM(128, 64, batch_first=True)\n",
            "  (linear_layer): Linear(in_features=64, out_features=41, bias=True)\n",
            ")\n"
          ]
        }
      ],
      "source": [
        "print(model)"
      ]
    },
    {
      "cell_type": "code",
      "execution_count": 16,
      "metadata": {},
      "outputs": [
        {
          "name": "stdout",
          "output_type": "stream",
          "text": [
            "Número total de parámetros del modelo: 75497\n"
          ]
        }
      ],
      "source": [
        "total_params = sum(p.numel() for p in model.parameters())\n",
        "\n",
        "# Imprimir el número total de parámetros\n",
        "print(f\"Número total de parámetros del modelo: {total_params}\")"
      ]
    },
    {
      "cell_type": "code",
      "execution_count": 28,
      "metadata": {
        "colab": {
          "base_uri": "https://localhost:8080/",
          "height": 395
        },
        "id": "Su5nucZKr5qA",
        "outputId": "5604d546-cd50-4e16-9932-c667ef12e18a"
      },
      "outputs": [
        {
          "name": "stdout",
          "output_type": "stream",
          "text": [
            "Epoch 1/150, Train Loss: 3.6044, Validation Loss: 3.4638, Accuracy: 14.87%\n",
            "Epoch 2/150, Train Loss: 3.3073, Validation Loss: 3.1692, Accuracy: 21.64%\n",
            "Epoch 3/150, Train Loss: 3.0557, Validation Loss: 2.9502, Accuracy: 26.00%\n",
            "Epoch 4/150, Train Loss: 2.8511, Validation Loss: 2.7622, Accuracy: 30.55%\n",
            "Epoch 5/150, Train Loss: 2.6854, Validation Loss: 2.6224, Accuracy: 32.44%\n",
            "Epoch 6/150, Train Loss: 2.5666, Validation Loss: 2.5196, Accuracy: 36.83%\n",
            "Epoch 7/150, Train Loss: 2.4737, Validation Loss: 2.4347, Accuracy: 38.06%\n",
            "Epoch 8/150, Train Loss: 2.3937, Validation Loss: 2.3608, Accuracy: 38.59%\n",
            "Epoch 9/150, Train Loss: 2.3233, Validation Loss: 2.2937, Accuracy: 40.28%\n",
            "Epoch 10/150, Train Loss: 2.2619, Validation Loss: 2.2361, Accuracy: 41.91%\n",
            "Epoch 11/150, Train Loss: 2.2047, Validation Loss: 2.1787, Accuracy: 43.93%\n",
            "Epoch 12/150, Train Loss: 2.1499, Validation Loss: 2.1259, Accuracy: 45.66%\n",
            "Epoch 13/150, Train Loss: 2.0984, Validation Loss: 2.0750, Accuracy: 47.97%\n",
            "Epoch 14/150, Train Loss: 2.0474, Validation Loss: 2.0247, Accuracy: 50.85%\n",
            "Epoch 15/150, Train Loss: 1.9984, Validation Loss: 1.9771, Accuracy: 52.75%\n",
            "Epoch 16/150, Train Loss: 1.9517, Validation Loss: 1.9314, Accuracy: 53.53%\n",
            "Epoch 17/150, Train Loss: 1.9069, Validation Loss: 1.8872, Accuracy: 54.81%\n",
            "Epoch 18/150, Train Loss: 1.8630, Validation Loss: 1.8434, Accuracy: 55.35%\n",
            "Epoch 19/150, Train Loss: 1.8210, Validation Loss: 1.8024, Accuracy: 56.57%\n",
            "Epoch 20/150, Train Loss: 1.7812, Validation Loss: 1.7633, Accuracy: 57.44%\n",
            "Epoch 21/150, Train Loss: 1.7430, Validation Loss: 1.7259, Accuracy: 58.07%\n",
            "Epoch 22/150, Train Loss: 1.7064, Validation Loss: 1.6899, Accuracy: 58.45%\n",
            "Epoch 23/150, Train Loss: 1.6713, Validation Loss: 1.6551, Accuracy: 59.38%\n",
            "Epoch 24/150, Train Loss: 1.6369, Validation Loss: 1.6214, Accuracy: 60.10%\n",
            "Epoch 25/150, Train Loss: 1.6040, Validation Loss: 1.5892, Accuracy: 60.77%\n",
            "Epoch 26/150, Train Loss: 1.5724, Validation Loss: 1.5575, Accuracy: 61.06%\n",
            "Epoch 27/150, Train Loss: 1.5410, Validation Loss: 1.5274, Accuracy: 62.14%\n",
            "Epoch 28/150, Train Loss: 1.5111, Validation Loss: 1.4971, Accuracy: 62.56%\n",
            "Epoch 29/150, Train Loss: 1.4815, Validation Loss: 1.4679, Accuracy: 63.18%\n",
            "Epoch 30/150, Train Loss: 1.4530, Validation Loss: 1.4397, Accuracy: 64.02%\n",
            "Epoch 31/150, Train Loss: 1.4248, Validation Loss: 1.4111, Accuracy: 65.34%\n",
            "Epoch 32/150, Train Loss: 1.3969, Validation Loss: 1.3845, Accuracy: 66.10%\n",
            "Epoch 33/150, Train Loss: 1.3706, Validation Loss: 1.3586, Accuracy: 66.34%\n",
            "Epoch 34/150, Train Loss: 1.3450, Validation Loss: 1.3333, Accuracy: 67.11%\n",
            "Epoch 35/150, Train Loss: 1.3200, Validation Loss: 1.3085, Accuracy: 67.57%\n",
            "Epoch 36/150, Train Loss: 1.2956, Validation Loss: 1.2851, Accuracy: 68.16%\n",
            "Epoch 37/150, Train Loss: 1.2722, Validation Loss: 1.2616, Accuracy: 68.95%\n",
            "Epoch 38/150, Train Loss: 1.2492, Validation Loss: 1.2392, Accuracy: 69.42%\n",
            "Epoch 39/150, Train Loss: 1.2271, Validation Loss: 1.2172, Accuracy: 70.04%\n",
            "Epoch 40/150, Train Loss: 1.2052, Validation Loss: 1.1958, Accuracy: 70.42%\n",
            "Epoch 41/150, Train Loss: 1.1840, Validation Loss: 1.1748, Accuracy: 70.65%\n",
            "Epoch 42/150, Train Loss: 1.1632, Validation Loss: 1.1543, Accuracy: 71.11%\n",
            "Epoch 43/150, Train Loss: 1.1426, Validation Loss: 1.1344, Accuracy: 71.36%\n",
            "Epoch 44/150, Train Loss: 1.1234, Validation Loss: 1.1146, Accuracy: 72.26%\n",
            "Epoch 45/150, Train Loss: 1.1035, Validation Loss: 1.0958, Accuracy: 72.56%\n",
            "Epoch 46/150, Train Loss: 1.0853, Validation Loss: 1.0775, Accuracy: 73.23%\n",
            "Epoch 47/150, Train Loss: 1.0670, Validation Loss: 1.0592, Accuracy: 73.55%\n",
            "Epoch 48/150, Train Loss: 1.0491, Validation Loss: 1.0417, Accuracy: 74.14%\n",
            "Epoch 49/150, Train Loss: 1.0315, Validation Loss: 1.0249, Accuracy: 74.82%\n",
            "Epoch 50/150, Train Loss: 1.0144, Validation Loss: 1.0075, Accuracy: 75.26%\n",
            "Epoch 51/150, Train Loss: 0.9975, Validation Loss: 0.9915, Accuracy: 75.83%\n",
            "Epoch 52/150, Train Loss: 0.9808, Validation Loss: 0.9745, Accuracy: 76.52%\n",
            "Epoch 53/150, Train Loss: 0.9648, Validation Loss: 0.9588, Accuracy: 76.84%\n",
            "Epoch 54/150, Train Loss: 0.9485, Validation Loss: 0.9430, Accuracy: 77.26%\n",
            "Epoch 55/150, Train Loss: 0.9333, Validation Loss: 0.9276, Accuracy: 77.55%\n",
            "Epoch 56/150, Train Loss: 0.9179, Validation Loss: 0.9129, Accuracy: 78.48%\n",
            "Epoch 57/150, Train Loss: 0.9026, Validation Loss: 0.8974, Accuracy: 78.72%\n",
            "Epoch 58/150, Train Loss: 0.8867, Validation Loss: 0.8809, Accuracy: 79.18%\n",
            "Epoch 59/150, Train Loss: 0.8711, Validation Loss: 0.8653, Accuracy: 79.51%\n",
            "Epoch 60/150, Train Loss: 0.8565, Validation Loss: 0.8511, Accuracy: 79.98%\n",
            "Epoch 61/150, Train Loss: 0.8416, Validation Loss: 0.8369, Accuracy: 80.13%\n",
            "Epoch 62/150, Train Loss: 0.8275, Validation Loss: 0.8221, Accuracy: 80.85%\n",
            "Epoch 63/150, Train Loss: 0.8125, Validation Loss: 0.8070, Accuracy: 81.31%\n",
            "Epoch 64/150, Train Loss: 0.7978, Validation Loss: 0.7927, Accuracy: 81.88%\n",
            "Epoch 65/150, Train Loss: 0.7831, Validation Loss: 0.7781, Accuracy: 82.45%\n",
            "Epoch 66/150, Train Loss: 0.7685, Validation Loss: 0.7636, Accuracy: 82.82%\n",
            "Epoch 67/150, Train Loss: 0.7541, Validation Loss: 0.7499, Accuracy: 83.61%\n",
            "Epoch 68/150, Train Loss: 0.7396, Validation Loss: 0.7351, Accuracy: 83.66%\n",
            "Epoch 69/150, Train Loss: 0.7259, Validation Loss: 0.7213, Accuracy: 84.40%\n",
            "Epoch 70/150, Train Loss: 0.7113, Validation Loss: 0.7067, Accuracy: 85.35%\n",
            "Epoch 71/150, Train Loss: 0.6973, Validation Loss: 0.6929, Accuracy: 85.73%\n",
            "Epoch 72/150, Train Loss: 0.6831, Validation Loss: 0.6790, Accuracy: 86.23%\n",
            "Epoch 73/150, Train Loss: 0.6697, Validation Loss: 0.6648, Accuracy: 86.77%\n",
            "Epoch 74/150, Train Loss: 0.6556, Validation Loss: 0.6517, Accuracy: 87.45%\n",
            "Epoch 75/150, Train Loss: 0.6424, Validation Loss: 0.6389, Accuracy: 87.50%\n",
            "Epoch 76/150, Train Loss: 0.6292, Validation Loss: 0.6251, Accuracy: 88.18%\n",
            "Epoch 77/150, Train Loss: 0.6158, Validation Loss: 0.6119, Accuracy: 88.75%\n",
            "Epoch 78/150, Train Loss: 0.6027, Validation Loss: 0.5999, Accuracy: 89.01%\n",
            "Epoch 79/150, Train Loss: 0.5899, Validation Loss: 0.5866, Accuracy: 89.67%\n",
            "Epoch 80/150, Train Loss: 0.5771, Validation Loss: 0.5739, Accuracy: 89.95%\n",
            "Epoch 81/150, Train Loss: 0.5645, Validation Loss: 0.5611, Accuracy: 90.24%\n",
            "Epoch 82/150, Train Loss: 0.5521, Validation Loss: 0.5488, Accuracy: 90.80%\n",
            "Epoch 83/150, Train Loss: 0.5395, Validation Loss: 0.5371, Accuracy: 91.01%\n",
            "Epoch 84/150, Train Loss: 0.5279, Validation Loss: 0.5254, Accuracy: 91.37%\n",
            "Epoch 85/150, Train Loss: 0.5159, Validation Loss: 0.5131, Accuracy: 91.87%\n",
            "Epoch 86/150, Train Loss: 0.5039, Validation Loss: 0.5012, Accuracy: 91.98%\n",
            "Epoch 87/150, Train Loss: 0.4921, Validation Loss: 0.4897, Accuracy: 92.36%\n",
            "Epoch 88/150, Train Loss: 0.4806, Validation Loss: 0.4789, Accuracy: 92.98%\n",
            "Epoch 89/150, Train Loss: 0.4698, Validation Loss: 0.4674, Accuracy: 93.31%\n",
            "Epoch 90/150, Train Loss: 0.4587, Validation Loss: 0.4564, Accuracy: 93.56%\n",
            "Epoch 91/150, Train Loss: 0.4480, Validation Loss: 0.4458, Accuracy: 93.99%\n",
            "Epoch 92/150, Train Loss: 0.4375, Validation Loss: 0.4355, Accuracy: 94.42%\n",
            "Epoch 93/150, Train Loss: 0.4275, Validation Loss: 0.4256, Accuracy: 94.69%\n",
            "Epoch 94/150, Train Loss: 0.4172, Validation Loss: 0.4159, Accuracy: 94.98%\n",
            "Epoch 95/150, Train Loss: 0.4075, Validation Loss: 0.4061, Accuracy: 95.33%\n",
            "Epoch 96/150, Train Loss: 0.3978, Validation Loss: 0.3968, Accuracy: 95.67%\n",
            "Epoch 97/150, Train Loss: 0.3884, Validation Loss: 0.3869, Accuracy: 96.10%\n",
            "Epoch 98/150, Train Loss: 0.3790, Validation Loss: 0.3781, Accuracy: 96.29%\n",
            "Epoch 99/150, Train Loss: 0.3699, Validation Loss: 0.3687, Accuracy: 96.49%\n",
            "Epoch 100/150, Train Loss: 0.3609, Validation Loss: 0.3601, Accuracy: 96.62%\n",
            "Epoch 101/150, Train Loss: 0.3521, Validation Loss: 0.3513, Accuracy: 96.75%\n",
            "Epoch 102/150, Train Loss: 0.3440, Validation Loss: 0.3429, Accuracy: 96.84%\n",
            "Epoch 103/150, Train Loss: 0.3354, Validation Loss: 0.3351, Accuracy: 97.16%\n",
            "Epoch 104/150, Train Loss: 0.3275, Validation Loss: 0.3272, Accuracy: 97.30%\n",
            "Epoch 105/150, Train Loss: 0.3196, Validation Loss: 0.3192, Accuracy: 97.44%\n",
            "Epoch 106/150, Train Loss: 0.3121, Validation Loss: 0.3120, Accuracy: 97.67%\n",
            "Epoch 107/150, Train Loss: 0.3046, Validation Loss: 0.3048, Accuracy: 97.65%\n",
            "Epoch 108/150, Train Loss: 0.2972, Validation Loss: 0.2975, Accuracy: 97.85%\n",
            "Epoch 109/150, Train Loss: 0.2904, Validation Loss: 0.2902, Accuracy: 97.99%\n",
            "Epoch 110/150, Train Loss: 0.2832, Validation Loss: 0.2835, Accuracy: 97.91%\n",
            "Epoch 111/150, Train Loss: 0.2765, Validation Loss: 0.2768, Accuracy: 98.26%\n",
            "Epoch 112/150, Train Loss: 0.2698, Validation Loss: 0.2701, Accuracy: 98.29%\n",
            "Epoch 113/150, Train Loss: 0.2631, Validation Loss: 0.2635, Accuracy: 98.32%\n",
            "Epoch 114/150, Train Loss: 0.2570, Validation Loss: 0.2576, Accuracy: 98.60%\n",
            "Epoch 115/150, Train Loss: 0.2507, Validation Loss: 0.2512, Accuracy: 98.64%\n",
            "Epoch 116/150, Train Loss: 0.2442, Validation Loss: 0.2446, Accuracy: 98.77%\n",
            "Epoch 117/150, Train Loss: 0.2381, Validation Loss: 0.2388, Accuracy: 98.88%\n",
            "Epoch 118/150, Train Loss: 0.2320, Validation Loss: 0.2326, Accuracy: 99.08%\n",
            "Epoch 119/150, Train Loss: 0.2263, Validation Loss: 0.2269, Accuracy: 99.12%\n",
            "Epoch 120/150, Train Loss: 0.2205, Validation Loss: 0.2215, Accuracy: 99.17%\n",
            "Epoch 121/150, Train Loss: 0.2150, Validation Loss: 0.2161, Accuracy: 99.23%\n",
            "Epoch 122/150, Train Loss: 0.2096, Validation Loss: 0.2110, Accuracy: 99.27%\n",
            "Epoch 123/150, Train Loss: 0.2045, Validation Loss: 0.2060, Accuracy: 99.28%\n",
            "Epoch 124/150, Train Loss: 0.1994, Validation Loss: 0.2005, Accuracy: 99.37%\n",
            "Epoch 125/150, Train Loss: 0.1944, Validation Loss: 0.1957, Accuracy: 99.35%\n",
            "Epoch 126/150, Train Loss: 0.1896, Validation Loss: 0.1910, Accuracy: 99.38%\n",
            "Epoch 127/150, Train Loss: 0.1848, Validation Loss: 0.1863, Accuracy: 99.40%\n",
            "Epoch 128/150, Train Loss: 0.1804, Validation Loss: 0.1820, Accuracy: 99.43%\n",
            "Epoch 129/150, Train Loss: 0.1759, Validation Loss: 0.1774, Accuracy: 99.45%\n",
            "Epoch 130/150, Train Loss: 0.1714, Validation Loss: 0.1733, Accuracy: 99.47%\n",
            "Epoch 131/150, Train Loss: 0.1674, Validation Loss: 0.1691, Accuracy: 99.50%\n",
            "Epoch 132/150, Train Loss: 0.1633, Validation Loss: 0.1649, Accuracy: 99.53%\n",
            "Epoch 133/150, Train Loss: 0.1593, Validation Loss: 0.1611, Accuracy: 99.54%\n",
            "Epoch 134/150, Train Loss: 0.1553, Validation Loss: 0.1572, Accuracy: 99.57%\n",
            "Epoch 135/150, Train Loss: 0.1514, Validation Loss: 0.1536, Accuracy: 99.59%\n",
            "Epoch 136/150, Train Loss: 0.1477, Validation Loss: 0.1498, Accuracy: 99.61%\n",
            "Epoch 137/150, Train Loss: 0.1440, Validation Loss: 0.1460, Accuracy: 99.65%\n",
            "Epoch 138/150, Train Loss: 0.1406, Validation Loss: 0.1426, Accuracy: 99.64%\n",
            "Epoch 139/150, Train Loss: 0.1372, Validation Loss: 0.1393, Accuracy: 99.65%\n",
            "Epoch 140/150, Train Loss: 0.1337, Validation Loss: 0.1359, Accuracy: 99.67%\n",
            "Epoch 141/150, Train Loss: 0.1302, Validation Loss: 0.1327, Accuracy: 99.65%\n",
            "Epoch 142/150, Train Loss: 0.1271, Validation Loss: 0.1296, Accuracy: 99.69%\n",
            "Epoch 143/150, Train Loss: 0.1239, Validation Loss: 0.1264, Accuracy: 99.70%\n",
            "Epoch 144/150, Train Loss: 0.1209, Validation Loss: 0.1233, Accuracy: 99.72%\n",
            "Epoch 145/150, Train Loss: 0.1181, Validation Loss: 0.1206, Accuracy: 99.72%\n",
            "Epoch 146/150, Train Loss: 0.1149, Validation Loss: 0.1175, Accuracy: 99.74%\n",
            "Epoch 147/150, Train Loss: 0.1121, Validation Loss: 0.1147, Accuracy: 99.75%\n",
            "Epoch 148/150, Train Loss: 0.1092, Validation Loss: 0.1121, Accuracy: 99.75%\n",
            "Epoch 149/150, Train Loss: 0.1065, Validation Loss: 0.1092, Accuracy: 99.75%\n",
            "Epoch 150/150, Train Loss: 0.1039, Validation Loss: 0.1067, Accuracy: 99.77%\n"
          ]
        }
      ],
      "source": [
        "import matplotlib.pyplot as plt\n",
        "\n",
        "# Definir función de pérdida y optimizador\n",
        "criterion = nn.CrossEntropyLoss()\n",
        "optimizer = optim.Adam(model.parameters(), lr=0.0001)\n",
        "\n",
        "# Inicializar listas para almacenar los valores de loss y accuracy\n",
        "train_loss_list = []\n",
        "val_loss_list = []\n",
        "accuracy_list = []\n",
        "\n",
        "# Entrenamiento\n",
        "num_epochs = 150\n",
        "for epoch in range(num_epochs):\n",
        "    # Entrenamiento\n",
        "    model.train()\n",
        "    train_loss = 0\n",
        "    for i, (inputs, labels, dec_inputs) in enumerate(train_dataloader):\n",
        "        optimizer.zero_grad()\n",
        "        outputs = model(inputs, dec_inputs)\n",
        "        loss = criterion(outputs, labels)\n",
        "        loss.backward()\n",
        "        optimizer.step()\n",
        "        train_loss += loss.item()\n",
        "    train_loss /= len(train_dataloader)\n",
        "    train_loss_list.append(train_loss)\n",
        "    \n",
        "    # Validación\n",
        "    model.eval()\n",
        "    val_loss = 0\n",
        "    correct = 0\n",
        "    total = 0\n",
        "    with torch.no_grad():\n",
        "        for i, (inputs, labels, dec_inputs) in enumerate(valid_dataloader):\n",
        "            outputs = model(inputs, dec_inputs)\n",
        "            loss = criterion(outputs, labels.long())\n",
        "            val_loss += loss.item()\n",
        "            _, predicted = torch.max(outputs.data, 1)\n",
        "            total += labels.size(0) * labels.size(1)\n",
        "            correct += (predicted == labels).sum().item()\n",
        "    val_loss /= len(valid_dataloader)\n",
        "    val_loss_list.append(val_loss)\n",
        "    accuracy = 100 * correct / total\n",
        "    accuracy_list.append(accuracy)\n",
        "    \n",
        "    print(f'Epoch {epoch+1}/{num_epochs}, Train Loss: {train_loss:.4f}, Validation Loss: {val_loss:.4f}, Accuracy: {accuracy:.2f}%')"
      ]
    },
    {
      "cell_type": "code",
      "execution_count": 29,
      "metadata": {},
      "outputs": [
        {
          "data": {
            "image/png": "[encoded data removed]",
            "text/plain": [
              "<Figure size 640x480 with 1 Axes>"
            ]
          },
          "metadata": {},
          "output_type": "display_data"
        },
        {
          "data": {
            "image/png": "[encoded data removed]",
            "text/plain": [
              "<Figure size 640x480 with 1 Axes>"
            ]
          },
          "metadata": {},
          "output_type": "display_data"
        }
      ],
      "source": [
        "# Graficar loss y accuracy\n",
        "plt.plot(train_loss_list, label='Train Loss')\n",
        "plt.plot(val_loss_list, label='Validation Loss')\n",
        "plt.legend()\n",
        "plt.show()\n",
        "\n",
        "plt.plot(accuracy_list)\n",
        "plt.title('Accuracy')\n",
        "plt.show()"
      ]
    },
    {
      "cell_type": "code",
      "execution_count": 27,
      "metadata": {},
      "outputs": [
        {
          "data": {
            "text/plain": [
              "<All keys matched successfully>"
            ]
          },
          "execution_count": 27,
          "metadata": {},
          "output_type": "execute_result"
        }
      ],
      "source": [
        "ruta_modelo = 'C:\\\\Users\\\\leand\\Documents\\\\LEANDRO\\\\UBA\\\\CEIA\\\\PROYECTO DE GRADO\\\\Modelos\\\\pytorch_lim_vocab\\\\seq2seqLSTM_model.pt'\n",
        "model.load_state_dict(torch.load(ruta_modelo))"
      ]
    },
    {
      "cell_type": "code",
      "execution_count": 28,
      "metadata": {
        "id": "goSATozD9j7_"
      },
      "outputs": [],
      "source": [
        "def predictions(preds):\n",
        "    preds_words = []\n",
        "    for i in range(preds.shape[0]):\n",
        "        preds_row = preds[i]\n",
        "        preds_row_words = []\n",
        "        for idx in preds_row:\n",
        "            if idx in tokenizer.index_word:\n",
        "                preds_row_words.append(tokenizer.index_word[idx])\n",
        "        preds_words.append(preds_row_words)\n",
        "\n",
        "    return preds_words\n"
      ]
    },
    {
      "cell_type": "code",
      "execution_count": 29,
      "metadata": {},
      "outputs": [],
      "source": [
        "def predict_eval(model,test_dataloader,criterion):\n",
        "    model.eval()\n",
        "    test_loss = 0\n",
        "    correct = 0\n",
        "    total = 0\n",
        "    with torch.no_grad():\n",
        "        for i, (inputs, labels, dec_inputs) in enumerate(test_dataloader):\n",
        "            outputs = model(inputs, dec_inputs)\n",
        "            loss = criterion(outputs, labels.long())\n",
        "            test_loss += loss.item()\n",
        "            _, predicted = torch.max(outputs.data, 1)\n",
        "            total += labels.size(0) * labels.size(1)\n",
        "            correct += (predicted == labels).sum().item()\n",
        "    test_loss /= len(test_dataloader)\n",
        "    accuracy = 100 * correct / total\n",
        "\n",
        "    print(f'Test Loss: {test_loss:.4f}, Accuracy: {accuracy:.2f}%')\n",
        "\n",
        "    return predicted.numpy()"
      ]
    },
    {
      "cell_type": "code",
      "execution_count": 31,
      "metadata": {
        "id": "1uCFibEN91tz"
      },
      "outputs": [
        {
          "name": "stdout",
          "output_type": "stream",
          "text": [
            "[['cuando', 'estés', 'muy', 'lejos', 'de', 'la', 'pared', 'y', 'te', 'estás', 'alejando', 'aun', 'más', 'de', 'ella', 'gira', 'tu', 'rueda', 'izquierda', 'muy', 'rápido', 'hacia', 'delante', 'y', 'gira', 'tu', 'rueda', 'derecha', 'más', 'o', 'menos', 'rápido', 'hacia', 'atrás'], ['cuando', 'estés', 'muy', 'lejos', 'de', 'la', 'pared', 'y', 'te', 'estás', 'alejando', 'aun', 'más', 'de', 'ella', 'gira', 'tu', 'rueda', 'izquierda', 'muy', 'rápido', 'hacia', 'delante', 'y', 'gira', 'tu', 'rueda', 'derecha', 'más', 'o', 'menos', 'rápido', 'hacia', 'atrás'], ['cuando', 'estés', 'muy', 'lejos', 'de', 'la', 'pared', 'pero', 'te', 'estás', 'acercando', 'a', 'ella', 'gira', 'tu', 'rueda', 'izquierda', 'rápidamente', 'hacia', 'delante', 'y', 'gira', 'tu', 'rueda', 'derecha', 'muy', 'lento', 'hacia', 'atrás'], ['cuando', 'estés', 'cerca', 'a', 'la', 'pared', 'y', 'te', 'estás', 'acercando', 'más', 'a', 'ella', 'gira', 'tu', 'rueda', 'izquierda', 'muy', 'rápido', 'hacia', 'atrás', 'y', 'gira', 'tu', 'rueda', 'derecha', 'muy', 'rápido', 'hacia', 'delante'], ['cuando', 'estés', 'muy', 'lejos', 'de', 'la', 'pared', 'pero', 'ni', 'te', 'alejas', 'más', 'ni', 'te', 'acercas', 'a', 'ella', 'gira', 'tu', 'rueda', 'izquierda', 'bastante', 'rápido', 'hacia', 'delante', 'y', 'gira', 'tu', 'rueda', 'derecha', 'despacito', 'hacia', 'atrás'], ['cuando', 'estés', 'a', 'la', 'distancia', 'requerida', 'y', 'ni', 'te', 'alejas', 'ni', 'te', 'acercas', 'a', 'ella', 'gira', 'tu', 'rueda', 'izquierda', 'despacito', 'hacia', 'delante', 'y', 'gira', 'tu', 'rueda', 'derecha', 'despacito', 'hacia', 'delante'], ['cuando', 'estés', 'muy', 'cerca', 'a', 'la', 'pared', 'y', 'te', 'estás', 'acercando', 'aún', 'más', 'a', 'ella', 'gira', 'tu', 'rueda', 'izquierda', 'despacito', 'hacia', 'atrás', 'y', 'gira', 'tu', 'rueda', 'derecha', 'despacito', 'hacia', 'atrás'], ['cuando', 'estés', 'a', 'la', 'distancia', 'requerida', 'y', 'ni', 'te', 'alejas', 'ni', 'te', 'acercas', 'a', 'ella', 'gira', 'tu', 'rueda', 'izquierda', 'despacito', 'hacia', 'delante', 'y', 'gira', 'tu', 'rueda', 'derecha', 'despacito', 'hacia', 'delante'], ['cuando', 'estés', 'muy', 'lejos', 'de', 'la', 'pared', 'y', 'te', 'estás', 'alejando', 'aun', 'más', 'de', 'ella', 'gira', 'tu', 'rueda', 'izquierda', 'muy', 'rápido', 'hacia', 'delante', 'y', 'gira', 'tu', 'rueda', 'derecha', 'más', 'o', 'menos', 'rápido', 'hacia', 'atrás'], ['cuando', 'estés', 'a', 'la', 'distancia', 'requerida', 'y', 'ni', 'te', 'alejas', 'ni', 'te', 'acercas', 'a', 'ella', 'gira', 'tu', 'rueda', 'izquierda', 'despacito', 'hacia', 'delante', 'y', 'gira', 'tu', 'rueda', 'derecha', 'despacito', 'hacia', 'delante'], ['cuando', 'estés', 'lejos', 'de', 'la', 'pared', 'pero', 'ni', 'te', 'alejas', 'más', 'ni', 'te', 'acercas', 'a', 'ella', 'gira', 'tu', 'rueda', 'izquierda', 'rápidamente', 'hacia', 'delante', 'y', 'gira', 'tu', 'rueda', 'derecha', 'muy', 'lento', 'hacia', 'atrás'], ['cuando', 'estés', 'cerca', 'a', 'la', 'pared', 'pero', 'ni', 'te', 'acercas', 'más', 'ni', 'te', 'alejas', 'de', 'ella', 'gira', 'tu', 'rueda', 'izquierda', 'bastante', 'rápido', 'hacia', 'atrás', 'y', 'gira', 'tu', 'rueda', 'derecha', 'bastante', 'rápido', 'hacia', 'delante'], ['cuando', 'estés', 'muy', 'cerca', 'a', 'la', 'pared', 'pero', 'ni', 'te', 'acercas', 'más', 'ni', 'te', 'alejas', 'de', 'ella', 'gira', 'tu', 'rueda', 'izquierda', 'despacito', 'hacia', 'atrás', 'y', 'gira', 'tu', 'rueda', 'derecha', 'despacito', 'hacia', 'atrás'], ['cuando', 'estés', 'muy', 'cerca', 'a', 'la', 'pared', 'pero', 'ni', 'te', 'acercas', 'más', 'ni', 'te', 'alejas', 'de', 'ella', 'gira', 'tu', 'rueda', 'izquierda', 'despacito', 'hacia', 'atrás', 'y', 'gira', 'tu', 'rueda', 'derecha', 'despacito', 'hacia', 'atrás'], ['cuando', 'estés', 'muy', 'lejos', 'de', 'la', 'pared', 'pero', 'te', 'estás', 'acercando', 'a', 'ella', 'gira', 'tu', 'rueda', 'izquierda', 'rápidamente', 'hacia', 'delante', 'y', 'gira', 'tu', 'rueda', 'derecha', 'muy', 'lento', 'hacia', 'atrás'], ['cuando', 'estés', 'cerca', 'a', 'la', 'pared', 'pero', 'ni', 'te', 'acercas', 'más', 'ni', 'te', 'alejas', 'de', 'ella', 'gira', 'tu', 'rueda', 'izquierda', 'bastante', 'rápido', 'hacia', 'atrás', 'y', 'gira', 'tu', 'rueda', 'derecha', 'bastante', 'rápido', 'hacia', 'delante']]\n"
          ]
        }
      ],
      "source": [
        "frasesnlg = predictions(predicted.numpy())\n",
        "print(frasesnlg)"
      ]
    },
    {
      "cell_type": "code",
      "execution_count": 33,
      "metadata": {},
      "outputs": [
        {
          "name": "stdout",
          "output_type": "stream",
          "text": [
            "Test Loss: 0.1027, Accuracy: 99.87%\n"
          ]
        }
      ],
      "source": [
        "preds = predict_eval(model,test_dataloader,criterion)"
      ]
    },
    {
      "cell_type": "code",
      "execution_count": 34,
      "metadata": {},
      "outputs": [
        {
          "name": "stdout",
          "output_type": "stream",
          "text": [
            "['cuando', 'estés', 'cerca', 'a', 'la', 'pared', 'y', 'te', 'estás', 'acercando', 'más', 'a', 'ella', 'gira', 'tu', 'rueda', 'izquierda', 'muy', 'rápido', 'hacia', 'atrás', 'y', 'gira', 'tu', 'rueda', 'derecha', 'muy', 'rápido', 'hacia', 'delante']\n",
            "['cuando', 'estés', 'muy', 'cerca', 'a', 'la', 'pared', 'pero', 'ni', 'te', 'acercas', 'más', 'ni', 'te', 'alejas', 'de', 'ella', 'gira', 'tu', 'rueda', 'izquierda', 'despacito', 'hacia', 'atrás', 'y', 'gira', 'tu', 'rueda', 'derecha', 'despacito', 'hacia', 'atrás']\n",
            "['cuando', 'estés', 'muy', 'lejos', 'de', 'la', 'pared', 'pero', 'ni', 'te', 'alejas', 'más', 'ni', 'te', 'acercas', 'a', 'ella', 'gira', 'tu', 'rueda', 'izquierda', 'bastante', 'rápido', 'hacia', 'delante', 'y', 'gira', 'tu', 'rueda', 'derecha', 'despacito', 'hacia', 'atrás']\n",
            "['cuando', 'estés', 'muy', 'lejos', 'de', 'la', 'pared', 'y', 'te', 'estás', 'alejando', 'aun', 'más', 'de', 'ella', 'gira', 'tu', 'rueda', 'izquierda', 'muy', 'rápido', 'hacia', 'delante', 'y', 'gira', 'tu', 'rueda', 'derecha', 'más', 'o', 'menos', 'rápido', 'hacia', 'atrás']\n",
            "['cuando', 'estés', 'a', 'la', 'distancia', 'requerida', 'pero', 'te', 'estás', 'alejando', 'de', 'la', 'pared', 'gira', 'tu', 'rueda', 'izquierda', 'rápidamente', 'hacia', 'delante', 'y', 'gira', 'tu', 'rueda', 'derecha', 'muy', 'lento', 'hacia', 'atrás']\n",
            "['cuando', 'estés', 'cerca', 'a', 'la', 'pared', 'pero', 'ni', 'te', 'acercas', 'más', 'ni', 'te', 'alejas', 'de', 'ella', 'gira', 'tu', 'rueda', 'izquierda', 'bastante', 'rápido', 'hacia', 'atrás', 'y', 'gira', 'tu', 'rueda', 'derecha', 'bastante', 'rápido', 'hacia', 'delante']\n",
            "['cuando', 'estés', 'lejos', 'de', 'la', 'pared', 'pero', 'te', 'estás', 'acercando', 'a', 'ella', 'gira', 'tu', 'rueda', 'izquierda', 'medio', 'rápido', 'hacia', 'delante', 'y', 'gira', 'tu', 'rueda', 'derecha', 'muy', 'lento', 'hacia', 'delante']\n",
            "['cuando', 'estés', 'lejos', 'de', 'la', 'pared', 'pero', 'te', 'estás', 'acercando', 'a', 'ella', 'gira', 'tu', 'rueda', 'izquierda', 'medio', 'rápido', 'hacia', 'delante', 'y', 'gira', 'tu', 'rueda', 'derecha', 'muy', 'lento', 'hacia', 'delante']\n",
            "['cuando', 'estés', 'muy', 'cerca', 'a', 'la', 'pared', 'pero', 'ni', 'te', 'acercas', 'más', 'ni', 'te', 'alejas', 'de', 'ella', 'gira', 'tu', 'rueda', 'izquierda', 'despacito', 'hacia', 'atrás', 'y', 'gira', 'tu', 'rueda', 'derecha', 'despacito', 'hacia', 'atrás']\n",
            "['cuando', 'estés', 'lejos', 'de', 'la', 'pared', 'pero', 'ni', 'te', 'alejas', 'más', 'ni', 'te', 'acercas', 'a', 'ella', 'gira', 'tu', 'rueda', 'izquierda', 'rápidamente', 'hacia', 'delante', 'y', 'gira', 'tu', 'rueda', 'derecha', 'muy', 'lento', 'hacia', 'atrás']\n",
            "['cuando', 'estés', 'muy', 'lejos', 'de', 'la', 'pared', 'pero', 'te', 'estás', 'acercando', 'a', 'ella', 'gira', 'tu', 'rueda', 'izquierda', 'rápidamente', 'hacia', 'delante', 'y', 'gira', 'tu', 'rueda', 'derecha', 'muy', 'lento', 'hacia', 'atrás']\n",
            "['cuando', 'estés', 'cerca', 'a', 'la', 'pared', 'y', 'te', 'estás', 'acercando', 'más', 'a', 'ella', 'gira', 'tu', 'rueda', 'izquierda', 'muy', 'rápido', 'hacia', 'atrás', 'y', 'gira', 'tu', 'rueda', 'derecha', 'muy', 'rápido', 'hacia', 'delante']\n",
            "['cuando', 'estés', 'lejos', 'de', 'la', 'pared', 'y', 'te', 'estás', 'alejando', 'más', 'de', 'ella', 'gira', 'tu', 'rueda', 'izquierda', 'bastante', 'rápido', 'hacia', 'delante', 'y', 'gira', 'tu', 'rueda', 'derecha', 'despacito', 'hacia', 'atrás']\n",
            "['cuando', 'estés', 'muy', 'cerca', 'a', 'la', 'pared', 'pero', 'ni', 'te', 'acercas', 'más', 'ni', 'te', 'alejas', 'de', 'ella', 'gira', 'tu', 'rueda', 'izquierda', 'despacito', 'hacia', 'atrás', 'y', 'gira', 'tu', 'rueda', 'derecha', 'despacito', 'hacia', 'atrás']\n",
            "['cuando', 'estés', 'cerca', 'a', 'la', 'pared', 'pero', 'ni', 'te', 'acercas', 'más', 'ni', 'te', 'alejas', 'de', 'ella', 'gira', 'tu', 'rueda', 'izquierda', 'bastante', 'rápido', 'hacia', 'atrás', 'y', 'gira', 'tu', 'rueda', 'derecha', 'bastante', 'rápido', 'hacia', 'delante']\n"
          ]
        }
      ],
      "source": [
        "frasestest = predictions(preds)\n",
        "for i in range(len(frasestest)-1):\n",
        "    print(frasestest[i])"
      ]
    },
    {
      "cell_type": "code",
      "execution_count": 75,
      "metadata": {},
      "outputs": [],
      "source": [
        "torch.save(model.state_dict(), 'C:\\\\Users\\\\leand\\Documents\\\\LEANDRO\\\\UBA\\\\CEIA\\\\PROYECTO DE GRADO\\\\Modelos\\\\pytorch_lim_vocab\\\\seq2seqLSTM_model.pt')"
      ]
    },
    {
      "cell_type": "code",
      "execution_count": 74,
      "metadata": {},
      "outputs": [],
      "source": [
        "import json\n",
        "\n",
        "# Obtén la configuración del tokenizer\n",
        "tokenizer_config = tokenizer.to_json()\n",
        "\n",
        "# Guarda la configuración en un archivo JSON\n",
        "with open('C:\\\\Users\\\\leand\\\\Documents\\\\LEANDRO\\\\UBA\\\\CEIA\\\\PROYECTO DE GRADO\\src\\\\tokenizer.json', 'w') as json_file:\n",
        "    json_file.write(tokenizer_config)"
      ]
    },
    {
      "cell_type": "code",
      "execution_count": 65,
      "metadata": {},
      "outputs": [],
      "source": [
        "prueba_de = np.array([0.05123237,-0.99533163,0.5028787,-0.01450637])\n",
        "target = np.array([36, 23, 4, 14, 15, 26, 4, 9, 0, 0, 0, 0, 0, 0, 0, 0, 0, 0, 0, 0, 0, 0, 0, 0, 0, 0, 0, 0, 0, 0, 0, 0, 0, 0, 0, 0, 0, 0, 0, 0, 0])"
      ]
    },
    {
      "cell_type": "code",
      "execution_count": 66,
      "metadata": {},
      "outputs": [],
      "source": [
        "model.eval()\n",
        "test_in = torch.tensor(prueba_de.reshape(1,1,4)).float()\n",
        "dec_test_in = torch.tensor(target).long().unsqueeze(0)"
      ]
    },
    {
      "cell_type": "code",
      "execution_count": 58,
      "metadata": {},
      "outputs": [
        {
          "data": {
            "text/plain": [
              "(tensor([[[-0.9410,  0.7412,  0.5902, -0.0803]]]),\n",
              " tensor([[15, 27, 32,  4, 14, 15, 26,  4,  9,  0,  0,  0,  0,  0,  0,  0,  0,  0,\n",
              "           0,  0,  0,  0,  0,  0,  0,  0,  0,  0,  0,  0,  0,  0,  0,  0,  0,  0,\n",
              "           0,  0,  0,  0,  0]]))"
            ]
          },
          "execution_count": 58,
          "metadata": {},
          "output_type": "execute_result"
        }
      ],
      "source": [
        "test_in, dec_test_in"
      ]
    },
    {
      "cell_type": "code",
      "execution_count": 46,
      "metadata": {},
      "outputs": [
        {
          "data": {
            "text/plain": [
              "(array([ 0.92244163, -0.63061558, -0.17575274, -0.12418619]),\n",
              " array([14, 25, 14, 26,  4,  9, 14, 26,  4,  9,  0,  0,  0,  0,  0,  0,  0,\n",
              "         0,  0,  0,  0,  0,  0,  0,  0,  0,  0,  0,  0,  0,  0,  0,  0,  0,\n",
              "         0,  0,  0,  0,  0,  0,  0]))"
            ]
          },
          "execution_count": 46,
          "metadata": {},
          "output_type": "execute_result"
        }
      ],
      "source": [
        "X_test[2],z_test[2]"
      ]
    },
    {
      "cell_type": "code",
      "execution_count": 47,
      "metadata": {},
      "outputs": [],
      "source": [
        "test_in = torch.tensor(X_test[0].reshape(1,1,4)).float()\n",
        "dec_test_in = torch.tensor(z_test[0]).long().unsqueeze(0)"
      ]
    },
    {
      "cell_type": "code",
      "execution_count": 53,
      "metadata": {},
      "outputs": [
        {
          "name": "stdout",
          "output_type": "stream",
          "text": [
            "tensor([[11, 12, 29,  9,  9, 17, 22, 24, 23, 30,  8, 18, 17,  2,  3, 13, 13, 25,\n",
            "          5, 16,  7,  2, 17,  3, 14, 15, 28,  5, 16,  1,  1,  1,  1,  1,  1,  1,\n",
            "          1,  1,  1,  1,  1]])\n"
          ]
        }
      ],
      "source": [
        "# Hacer predicciones con el modelo cargado\n",
        "with torch.no_grad():\n",
        "    prediction = model(test_in, dec_test_in)\n",
        "    _, predicts = torch.max(prediction.data, 1)\n",
        "    \n",
        "\n",
        "# Imprimir las predicciones\n",
        "print(predicts)"
      ]
    },
    {
      "cell_type": "code",
      "execution_count": 67,
      "metadata": {},
      "outputs": [],
      "source": [
        "predicciones_finales = predictions(dec_test_in.numpy())"
      ]
    },
    {
      "cell_type": "code",
      "execution_count": 68,
      "metadata": {},
      "outputs": [
        {
          "data": {
            "text/plain": [
              "[['medio', 'rápido', 'hacia', 'muy', 'delante', 'lento', 'hacia', 'atrás']]"
            ]
          },
          "execution_count": 68,
          "metadata": {},
          "output_type": "execute_result"
        }
      ],
      "source": [
        "predicciones_finales"
      ]
    },
    {
      "cell_type": "code",
      "execution_count": 69,
      "metadata": {},
      "outputs": [
        {
          "data": {
            "text/plain": [
              "{'gira': 1,\n",
              " 'tu': 2,\n",
              " 'rueda': 3,\n",
              " 'hacia': 4,\n",
              " 'te': 5,\n",
              " 'y': 6,\n",
              " 'a': 7,\n",
              " 'la': 8,\n",
              " 'atrás': 9,\n",
              " 'cuando': 10,\n",
              " 'estés': 11,\n",
              " 'izquierda': 12,\n",
              " 'derecha': 13,\n",
              " 'muy': 14,\n",
              " 'delante': 15,\n",
              " 'pared': 16,\n",
              " 'ella': 17,\n",
              " 'de': 18,\n",
              " 'despacito': 19,\n",
              " 'pero': 20,\n",
              " 'estás': 21,\n",
              " 'ni': 22,\n",
              " 'rápido': 23,\n",
              " 'más': 24,\n",
              " 'cerca': 25,\n",
              " 'lento': 26,\n",
              " 'lejos': 27,\n",
              " 'acercando': 28,\n",
              " 'alejando': 29,\n",
              " 'alejas': 30,\n",
              " 'acercas': 31,\n",
              " 'rápidamente': 32,\n",
              " 'bastante': 33,\n",
              " 'distancia': 34,\n",
              " 'requerida': 35,\n",
              " 'medio': 36,\n",
              " 'aún': 37,\n",
              " 'aun': 38,\n",
              " 'o': 39,\n",
              " 'menos': 40}"
            ]
          },
          "execution_count": 69,
          "metadata": {},
          "output_type": "execute_result"
        }
      ],
      "source": [
        "tokenizer.word_index"
      ]
    }
  ],
  "metadata": {
    "accelerator": "GPU",
    "colab": {
      "provenance": []
    },
    "gpuClass": "standard",
    "kernelspec": {
      "display_name": "deepLearning",
      "language": "python",
      "name": "python3"
    },
    "language_info": {
      "codemirror_mode": {
        "name": "ipython",
        "version": 3
      },
      "file_extension": ".py",
      "mimetype": "text/x-python",
      "name": "python",
      "nbconvert_exporter": "python",
      "pygments_lexer": "ipython3",
      "version": "3.9.16"
    },
    "vscode": {
      "interpreter": {
        "hash": "2b41b25ee1e44cae6d514ffd9667bc76b20c566b16ce2b68cdb08e6b78e7fb09"
      }
    }
  },
  "nbformat": 4,
  "nbformat_minor": 0
}
