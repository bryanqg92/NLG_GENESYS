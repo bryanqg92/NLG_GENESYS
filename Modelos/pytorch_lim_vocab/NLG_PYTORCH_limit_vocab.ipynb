{
  "cells": [
    {
      "cell_type": "code",
      "execution_count": null,
      "metadata": {
        "colab": {
          "base_uri": "https://localhost:8080/"
        },
        "id": "vFH7RZJIIkT9",
        "outputId": "aa079d83-d7ca-44e5-df89-495fd013cd90"
      },
      "outputs": [],
      "source": [
        "from google.colab import drive\n",
        "drive.mount('/content/drive')"
      ]
    },
    {
      "cell_type": "code",
      "execution_count": 1,
      "metadata": {
        "id": "YvxTjRjX9tPt"
      },
      "outputs": [],
      "source": [
        "import pandas as pd\n",
        "import numpy as np\n",
        "from tensorflow.keras.preprocessing.text import Tokenizer\n",
        "from sklearn.model_selection import train_test_split\n",
        "from sklearn.preprocessing import StandardScaler\n",
        "from tensorflow.keras.preprocessing.sequence import pad_sequences"
      ]
    },
    {
      "cell_type": "code",
      "execution_count": 2,
      "metadata": {
        "colab": {
          "base_uri": "https://localhost:8080/"
        },
        "id": "AQgynOSEpSI9",
        "outputId": "43491431-43d4-4cc0-daf0-d4cd2902d0ee"
      },
      "outputs": [
        {
          "name": "stdout",
          "output_type": "stream",
          "text": [
            "          P         D          L          R P_fuzzy_set  P_membership   \n",
            "0 -0.478346  0.993458  61.606262  -5.735051       lejos      0.869424  \\\n",
            "1  0.462527 -0.827958   5.406662  34.665318       cerca      0.895788   \n",
            "2 -0.494794 -0.031128  68.522660 -21.914193       lejos      0.842010   \n",
            "3  0.022483  0.035536   9.488294  39.472399          ok      0.943793   \n",
            "4  0.989737  0.526067 -28.154153 -23.931573   muy cerca      0.982895   \n",
            "\n",
            "   D_fuzzy_set  D_membership                L_fuzzy_set  L_membership   \n",
            "0  acercandose      1.000000  rápidamente hacia delante      0.919687  \\\n",
            "1   alejandose      1.000000    muy lento hacia delante      0.770333   \n",
            "2   sin cambio      0.844361  rápidamente hacia delante      0.573867   \n",
            "3   sin cambio      0.822318    muy lento hacia delante      0.974415   \n",
            "4  acercandose      1.000000      despacito hacia atrás      0.907708   \n",
            "\n",
            "               R_fuzzy_set  R_membership   \n",
            "0    muy lento hacia atrás      0.786753  \\\n",
            "1  despacito hacia delante      0.766734   \n",
            "2    despacito hacia atrás      0.595710   \n",
            "3  despacito hacia delante      0.526380   \n",
            "4    despacito hacia atrás      0.696579   \n",
            "\n",
            "                                               FRASE  CAT  \n",
            "0  Cuando estés lejos de la pared, pero te estás ...    2  \n",
            "1  Cuando estés cerca a la pared, pero te estás a...   14  \n",
            "2  Cuando estés lejos de la pared, pero ni te ale...    7  \n",
            "3  Cuando estés a la distancia requerida, y ni te...    8  \n",
            "4  Cuando estés muy cerca a la pared, y te estás ...    5  \n"
          ]
        }
      ],
      "source": [
        "# Cargar el dataset\n",
        "data = pd.read_csv('data\\dataset.csv')\n",
        "\n",
        "# Mostrar las primeras filas del dataset\n",
        "print(data.head())"
      ]
    },
    {
      "cell_type": "code",
      "execution_count": 3,
      "metadata": {
        "id": "kpic9ASVgrlE"
      },
      "outputs": [],
      "source": [
        "X = data[['P','D','L','R','CAT']]\n",
        "y = data['FRASE']\n",
        "z = data[['P_fuzzy_set', 'D_fuzzy_set', 'L_fuzzy_set', 'R_fuzzy_set']].apply(lambda x: ' '.join(x), axis=1)"
      ]
    },
    {
      "cell_type": "code",
      "execution_count": 4,
      "metadata": {
        "id": "RTEQp3BugrlH"
      },
      "outputs": [],
      "source": [
        "tokenizer = Tokenizer()\n",
        "tokenizer.fit_on_texts(y)\n",
        "num_decoder_tokens = len(tokenizer.word_index) + 1\n",
        "\n",
        "y = tokenizer.texts_to_sequences(y)\n",
        "z = tokenizer.texts_to_sequences(z)\n",
        "\n",
        "max_len = max(len(s) for s in y)\n",
        "\n",
        "y = pad_sequences(y, maxlen=num_decoder_tokens, padding='post', truncating='post')\n",
        "z = pad_sequences(z, maxlen=num_decoder_tokens, padding='post', truncating='post')"
      ]
    },
    {
      "cell_type": "code",
      "execution_count": 5,
      "metadata": {
        "id": "_jxPUXh9rH4Q"
      },
      "outputs": [],
      "source": [
        "# Dividir los datos en conjunto de entrenamiento y prueba\n",
        "X_train, X_test, y_train, y_test = train_test_split(X, y, stratify = X['CAT'], test_size=0.2, random_state=42)\n",
        "\n",
        "# Dividir el conjunto de entrenamiento en conjunto de entrenamiento y validación\n",
        "X_train, X_val, y_train, y_val = train_test_split(X_train, y_train, test_size=0.25, random_state=42)\n",
        "\n",
        "# Obtener el índice de las filas de X_train, X_val y X_test\n",
        "idx_train = X_train.index\n",
        "idx_val = X_val.index\n",
        "idx_test = X_test.index"
      ]
    },
    {
      "cell_type": "code",
      "execution_count": 6,
      "metadata": {
        "id": "DIILcf0OgrlK"
      },
      "outputs": [],
      "source": [
        "# Dividir z en z_train, z_val y z_test\n",
        "z_train = z[idx_train]\n",
        "z_val = z[idx_val]\n",
        "z_test = z[idx_test]"
      ]
    },
    {
      "cell_type": "code",
      "execution_count": 7,
      "metadata": {
        "colab": {
          "base_uri": "https://localhost:8080/",
          "height": 74
        },
        "id": "O_yu_i2Usgz5",
        "outputId": "58bc2a23-cf40-4830-d440-663878f88afb"
      },
      "outputs": [
        {
          "data": {
            "text/html": [
              "<style>#sk-container-id-1 {color: black;background-color: white;}#sk-container-id-1 pre{padding: 0;}#sk-container-id-1 div.sk-toggleable {background-color: white;}#sk-container-id-1 label.sk-toggleable__label {cursor: pointer;display: block;width: 100%;margin-bottom: 0;padding: 0.3em;box-sizing: border-box;text-align: center;}#sk-container-id-1 label.sk-toggleable__label-arrow:before {content: \"▸\";float: left;margin-right: 0.25em;color: #696969;}#sk-container-id-1 label.sk-toggleable__label-arrow:hover:before {color: black;}#sk-container-id-1 div.sk-estimator:hover label.sk-toggleable__label-arrow:before {color: black;}#sk-container-id-1 div.sk-toggleable__content {max-height: 0;max-width: 0;overflow: hidden;text-align: left;background-color: #f0f8ff;}#sk-container-id-1 div.sk-toggleable__content pre {margin: 0.2em;color: black;border-radius: 0.25em;background-color: #f0f8ff;}#sk-container-id-1 input.sk-toggleable__control:checked~div.sk-toggleable__content {max-height: 200px;max-width: 100%;overflow: auto;}#sk-container-id-1 input.sk-toggleable__control:checked~label.sk-toggleable__label-arrow:before {content: \"▾\";}#sk-container-id-1 div.sk-estimator input.sk-toggleable__control:checked~label.sk-toggleable__label {background-color: #d4ebff;}#sk-container-id-1 div.sk-label input.sk-toggleable__control:checked~label.sk-toggleable__label {background-color: #d4ebff;}#sk-container-id-1 input.sk-hidden--visually {border: 0;clip: rect(1px 1px 1px 1px);clip: rect(1px, 1px, 1px, 1px);height: 1px;margin: -1px;overflow: hidden;padding: 0;position: absolute;width: 1px;}#sk-container-id-1 div.sk-estimator {font-family: monospace;background-color: #f0f8ff;border: 1px dotted black;border-radius: 0.25em;box-sizing: border-box;margin-bottom: 0.5em;}#sk-container-id-1 div.sk-estimator:hover {background-color: #d4ebff;}#sk-container-id-1 div.sk-parallel-item::after {content: \"\";width: 100%;border-bottom: 1px solid gray;flex-grow: 1;}#sk-container-id-1 div.sk-label:hover label.sk-toggleable__label {background-color: #d4ebff;}#sk-container-id-1 div.sk-serial::before {content: \"\";position: absolute;border-left: 1px solid gray;box-sizing: border-box;top: 0;bottom: 0;left: 50%;z-index: 0;}#sk-container-id-1 div.sk-serial {display: flex;flex-direction: column;align-items: center;background-color: white;padding-right: 0.2em;padding-left: 0.2em;position: relative;}#sk-container-id-1 div.sk-item {position: relative;z-index: 1;}#sk-container-id-1 div.sk-parallel {display: flex;align-items: stretch;justify-content: center;background-color: white;position: relative;}#sk-container-id-1 div.sk-item::before, #sk-container-id-1 div.sk-parallel-item::before {content: \"\";position: absolute;border-left: 1px solid gray;box-sizing: border-box;top: 0;bottom: 0;left: 50%;z-index: -1;}#sk-container-id-1 div.sk-parallel-item {display: flex;flex-direction: column;z-index: 1;position: relative;background-color: white;}#sk-container-id-1 div.sk-parallel-item:first-child::after {align-self: flex-end;width: 50%;}#sk-container-id-1 div.sk-parallel-item:last-child::after {align-self: flex-start;width: 50%;}#sk-container-id-1 div.sk-parallel-item:only-child::after {width: 0;}#sk-container-id-1 div.sk-dashed-wrapped {border: 1px dashed gray;margin: 0 0.4em 0.5em 0.4em;box-sizing: border-box;padding-bottom: 0.4em;background-color: white;}#sk-container-id-1 div.sk-label label {font-family: monospace;font-weight: bold;display: inline-block;line-height: 1.2em;}#sk-container-id-1 div.sk-label-container {text-align: center;}#sk-container-id-1 div.sk-container {/* jupyter's `normalize.less` sets `[hidden] { display: none; }` but bootstrap.min.css set `[hidden] { display: none !important; }` so we also need the `!important` here to be able to override the default hidden behavior on the sphinx rendered scikit-learn.org. See: https://github.com/scikit-learn/scikit-learn/issues/21755 */display: inline-block !important;position: relative;}#sk-container-id-1 div.sk-text-repr-fallback {display: none;}</style><div id=\"sk-container-id-1\" class=\"sk-top-container\"><div class=\"sk-text-repr-fallback\"><pre>StandardScaler()</pre><b>In a Jupyter environment, please rerun this cell to show the HTML representation or trust the notebook. <br />On GitHub, the HTML representation is unable to render, please try loading this page with nbviewer.org.</b></div><div class=\"sk-container\" hidden><div class=\"sk-item\"><div class=\"sk-estimator sk-toggleable\"><input class=\"sk-toggleable__control sk-hidden--visually\" id=\"sk-estimator-id-1\" type=\"checkbox\" checked><label for=\"sk-estimator-id-1\" class=\"sk-toggleable__label sk-toggleable__label-arrow\">StandardScaler</label><div class=\"sk-toggleable__content\"><pre>StandardScaler()</pre></div></div></div></div></div>"
            ],
            "text/plain": [
              "StandardScaler()"
            ]
          },
          "execution_count": 7,
          "metadata": {},
          "output_type": "execute_result"
        }
      ],
      "source": [
        "# Ajusta las columnas numéricas con StandardScaler\n",
        "scaler_values = StandardScaler()\n",
        "scaler_values.fit(X_train[['P','D','L','R']])"
      ]
    },
    {
      "cell_type": "code",
      "execution_count": 8,
      "metadata": {
        "id": "vX_8qyCFbKsg"
      },
      "outputs": [],
      "source": [
        "X_train[['P','D','L','R']] = scaler_values.transform(X_train[['P','D','L','R']])\n",
        "X_val[['P','D','L','R']] = scaler_values.transform(X_val[['P','D','L','R']])\n",
        "X_test[['P','D','L','R']] = scaler_values.transform(X_test[['P','D','L','R']])"
      ]
    },
    {
      "cell_type": "code",
      "execution_count": 9,
      "metadata": {
        "id": "JwRtZWu3grlO"
      },
      "outputs": [],
      "source": [
        "X_train = X_train[['P','D','L','R']].values\n",
        "X_val = X_val[['P','D','L','R']].values\n",
        "X_test = X_test[['P','D','L','R']].values"
      ]
    },
    {
      "cell_type": "code",
      "execution_count": 14,
      "metadata": {
        "colab": {
          "base_uri": "https://localhost:8080/"
        },
        "id": "BzzSmRNU8--y",
        "outputId": "b4341a3f-9d68-4adc-8dba-f49c671e5e22"
      },
      "outputs": [
        {
          "name": "stdout",
          "output_type": "stream",
          "text": [
            "tamaño X train_scaled (5999, 4)\n",
            "tamaño y train (5999, 41)\n",
            "tamaño z train (5999, 41)\n",
            "tamaño X val_scaled (2000, 4)\n",
            "tamaño y val (2000, 41)\n",
            "tamaño z val_scaled (2000, 41)\n",
            "tamaño X test_scaled (2000, 4)\n",
            "tamaño y test (2000, 41)\n",
            "tamaño z test (2000, 41)\n"
          ]
        }
      ],
      "source": [
        "print('tamaño X train_scaled', X_train.shape)\n",
        "print('tamaño y train', y_train.shape)\n",
        "print('tamaño z train', z_train.shape)\n",
        "\n",
        "\n",
        "print('tamaño X val_scaled', X_val.shape)\n",
        "print('tamaño y val', y_val.shape)\n",
        "print('tamaño z val_scaled', z_val.shape)\n",
        "\n",
        "print('tamaño X test_scaled', X_test.shape)\n",
        "print('tamaño y test', y_test.shape)\n",
        "print('tamaño z test', z_test.shape)"
      ]
    },
    {
      "cell_type": "code",
      "execution_count": 15,
      "metadata": {
        "id": "8zL432ZGjJPj"
      },
      "outputs": [],
      "source": [
        "import torch\n",
        "from torch.utils.data import DataLoader, Dataset\n",
        "\n",
        "# Definir los conjuntos de datos\n",
        "class MyDataset(Dataset):\n",
        "    def __init__(self, X, y, z):\n",
        "        self.X = X\n",
        "        self.y = y\n",
        "        self.z = z\n",
        "    \n",
        "    def __len__(self):\n",
        "        return len(self.X)  # Devuelve el tamaño del conjunto de datos\n",
        "    \n",
        "    def __getitem__(self, index):\n",
        "        # Obtener ejemplo y su longitud\n",
        "        x = self.X[index]\n",
        "        y = self.y[index]\n",
        "        z = self.z[index]\n",
        "\n",
        "        # Convertir a tensores de PyTorch y agregar dimensión adicional\n",
        "        x = torch.tensor(x).float().unsqueeze(0)  # (1, 1, input_size)\n",
        "        #y = torch.tensor(y).long().unsqueeze(0)  # (1, 1)\n",
        "        z = torch.tensor(z).long()  # (1,)\n",
        "\n",
        "        return x, y, z\n"
      ]
    },
    {
      "cell_type": "code",
      "execution_count": 16,
      "metadata": {
        "colab": {
          "base_uri": "https://localhost:8080/"
        },
        "id": "lS_fQXikxm0V",
        "outputId": "4f50b71d-bd9e-4491-fb88-1ab2e62c545a"
      },
      "outputs": [
        {
          "data": {
            "text/plain": [
              "((5999, 4), (5999, 41), (5999, 41))"
            ]
          },
          "execution_count": 16,
          "metadata": {},
          "output_type": "execute_result"
        }
      ],
      "source": [
        "X_train.shape,y_train.shape,z_train.shape"
      ]
    },
    {
      "cell_type": "code",
      "execution_count": 17,
      "metadata": {
        "id": "8pI5TOL2nqfX"
      },
      "outputs": [],
      "source": [
        "train_ds = MyDataset(X_train, y_train, z_train)\n",
        "valid_ds = MyDataset(X_val, y_val, z_val)\n",
        "test_ds  = MyDataset(X_test, y_test, z_test)"
      ]
    },
    {
      "cell_type": "code",
      "execution_count": 18,
      "metadata": {
        "id": "4Lr8l79Sopup"
      },
      "outputs": [],
      "source": [
        "# Pytorch utiliza DataLoader para entregar los dataset de a batches\n",
        "train_dataloader = DataLoader(train_ds, batch_size = 128, shuffle= True)\n",
        "valid_dataloader = DataLoader(valid_ds, batch_size=128)\n",
        "test_dataloader = DataLoader(test_ds, batch_size=128)"
      ]
    },
    {
      "cell_type": "code",
      "execution_count": 19,
      "metadata": {
        "id": "2NWj2SV7qrt7"
      },
      "outputs": [],
      "source": [
        "import torch\n",
        "import torch.nn as nn\n",
        "import torch.optim as optim\n",
        "\n",
        "# Definir dimensiones de entrada y salida\n",
        "input_size = 4\n",
        "hidden_size = 64\n",
        "\n",
        "# Definir modelo\n",
        "\n",
        "class seq2seqLSTM(nn.Module):\n",
        "    \n",
        "    def __init__(self, input_size, hidden_size, num_decoder_tokens, num_layers=1):\n",
        "        super(seq2seqLSTM, self).__init__()\n",
        "        self.encoder_lstm = nn.LSTM(input_size, hidden_size, num_layers, batch_first=True)\n",
        "        self.decoder_embedding = nn.Embedding(num_decoder_tokens, 128)\n",
        "        self.decoder_lstm = nn.LSTM(128, hidden_size, num_layers=1, batch_first=True)\n",
        "        self.linear_layer = nn.Linear(hidden_size, num_decoder_tokens)\n",
        "\n",
        "    def forward(self, inputs, dec_inputs):\n",
        "        enc_output, (state_h, state_c) = self.encoder_lstm(inputs)\n",
        "        embedding = self.decoder_embedding(dec_inputs)\n",
        "        decoder_output, _ = self.decoder_lstm(embedding, (state_h, state_c))\n",
        "        decoder_output = decoder_output.reshape(-1, decoder_output.shape[2])\n",
        "        linear_output = self.linear_layer(decoder_output)\n",
        "        # Remodela para que tenga el mismo número de pasos de tiempo que dec_inputs\n",
        "        linear_output = linear_output.reshape(dec_inputs.shape[0], dec_inputs.shape[1], -1)\n",
        "        return linear_output\n",
        "\n",
        "\n",
        "\n",
        "model = seq2seqLSTM(input_size, hidden_size, num_decoder_tokens)"
      ]
    },
    {
      "cell_type": "code",
      "execution_count": 20,
      "metadata": {
        "colab": {
          "base_uri": "https://localhost:8080/",
          "height": 395
        },
        "id": "Su5nucZKr5qA",
        "outputId": "5604d546-cd50-4e16-9932-c667ef12e18a"
      },
      "outputs": [
        {
          "name": "stdout",
          "output_type": "stream",
          "text": [
            "Epoch 1/20, Train Loss: 3.2041, Validation Loss: 2.7473, Accuracy: 27.12%\n",
            "Epoch 2/20, Train Loss: 2.5100, Validation Loss: 2.3159, Accuracy: 40.41%\n",
            "Epoch 3/20, Train Loss: 2.1894, Validation Loss: 2.0680, Accuracy: 48.39%\n",
            "Epoch 4/20, Train Loss: 1.9586, Validation Loss: 1.8527, Accuracy: 53.23%\n",
            "Epoch 5/20, Train Loss: 1.7609, Validation Loss: 1.6727, Accuracy: 56.26%\n",
            "Epoch 6/20, Train Loss: 1.5972, Validation Loss: 1.5286, Accuracy: 60.25%\n",
            "Epoch 7/20, Train Loss: 1.4538, Validation Loss: 1.3874, Accuracy: 64.86%\n",
            "Epoch 8/20, Train Loss: 1.3248, Validation Loss: 1.2659, Accuracy: 68.30%\n",
            "Epoch 9/20, Train Loss: 1.2095, Validation Loss: 1.1580, Accuracy: 71.57%\n",
            "Epoch 10/20, Train Loss: 1.1050, Validation Loss: 1.0587, Accuracy: 75.03%\n",
            "Epoch 11/20, Train Loss: 1.0060, Validation Loss: 0.9589, Accuracy: 78.22%\n",
            "Epoch 12/20, Train Loss: 0.9128, Validation Loss: 0.8745, Accuracy: 79.67%\n",
            "Epoch 13/20, Train Loss: 0.8237, Validation Loss: 0.7855, Accuracy: 83.28%\n",
            "Epoch 14/20, Train Loss: 0.7398, Validation Loss: 0.7075, Accuracy: 85.15%\n",
            "Epoch 15/20, Train Loss: 0.6623, Validation Loss: 0.6268, Accuracy: 88.53%\n",
            "Epoch 16/20, Train Loss: 0.5928, Validation Loss: 0.5676, Accuracy: 90.29%\n",
            "Epoch 17/20, Train Loss: 0.5328, Validation Loss: 0.5075, Accuracy: 92.27%\n",
            "Epoch 18/20, Train Loss: 0.4824, Validation Loss: 0.4585, Accuracy: 93.92%\n",
            "Epoch 19/20, Train Loss: 0.4337, Validation Loss: 0.4151, Accuracy: 95.39%\n",
            "Epoch 20/20, Train Loss: 0.3927, Validation Loss: 0.3772, Accuracy: 96.34%\n"
          ]
        }
      ],
      "source": [
        "import matplotlib.pyplot as plt\n",
        "\n",
        "# Definir función de pérdida y optimizador\n",
        "criterion = nn.CrossEntropyLoss()\n",
        "optimizer = optim.Adam(model.parameters())\n",
        "\n",
        "# Inicializar listas para almacenar los valores de loss y accuracy\n",
        "train_loss_list = []\n",
        "val_loss_list = []\n",
        "accuracy_list = []\n",
        "\n",
        "# Entrenamiento\n",
        "num_epochs = 20\n",
        "for epoch in range(num_epochs):\n",
        "    # Entrenamiento\n",
        "    model.train()\n",
        "    train_loss = 0\n",
        "    for i, (inputs, labels, dec_inputs) in enumerate(train_dataloader):\n",
        "        optimizer.zero_grad()\n",
        "        outputs = model(inputs, dec_inputs)\n",
        "        loss = criterion(outputs, labels.long())\n",
        "        loss.backward()\n",
        "        optimizer.step()\n",
        "        train_loss += loss.item()\n",
        "    train_loss /= len(train_dataloader)\n",
        "    train_loss_list.append(train_loss)\n",
        "    \n",
        "    # Validación\n",
        "    model.eval()\n",
        "    val_loss = 0\n",
        "    correct = 0\n",
        "    total = 0\n",
        "    with torch.no_grad():\n",
        "        for i, (inputs, labels, dec_inputs) in enumerate(valid_dataloader):\n",
        "            outputs = model(inputs, dec_inputs)\n",
        "            loss = criterion(outputs, labels.long())\n",
        "            val_loss += loss.item()\n",
        "            _, predicted = torch.max(outputs.data, 1)\n",
        "            total += labels.size(0) * labels.size(1)\n",
        "            correct += (predicted == labels).sum().item()\n",
        "    val_loss /= len(valid_dataloader)\n",
        "    val_loss_list.append(val_loss)\n",
        "    accuracy = 100 * correct / total\n",
        "    accuracy_list.append(accuracy)\n",
        "    \n",
        "    print(f'Epoch {epoch+1}/{num_epochs}, Train Loss: {train_loss:.4f}, Validation Loss: {val_loss:.4f}, Accuracy: {accuracy:.2f}%')"
      ]
    },
    {
      "cell_type": "code",
      "execution_count": 21,
      "metadata": {},
      "outputs": [
        {
          "data": {
            "image/png": "[encoded data removed]",
            "text/plain": [
              "<Figure size 640x480 with 1 Axes>"
            ]
          },
          "metadata": {},
          "output_type": "display_data"
        },
        {
          "data": {
            "image/png": "[encoded data removed]",
            "text/plain": [
              "<Figure size 640x480 with 1 Axes>"
            ]
          },
          "metadata": {},
          "output_type": "display_data"
        }
      ],
      "source": [
        "# Graficar loss y accuracy\n",
        "plt.plot(train_loss_list, label='Train Loss')\n",
        "plt.plot(val_loss_list, label='Validation Loss')\n",
        "plt.legend()\n",
        "plt.show()\n",
        "\n",
        "plt.plot(accuracy_list)\n",
        "plt.title('Accuracy')\n",
        "plt.show()"
      ]
    },
    {
      "cell_type": "code",
      "execution_count": 74,
      "metadata": {
        "id": "goSATozD9j7_"
      },
      "outputs": [],
      "source": [
        "def predictions(preds):\n",
        "    preds_words = []\n",
        "    for i in range(preds.shape[0]):\n",
        "        preds_row = preds[i]\n",
        "        preds_row_words = []\n",
        "        for idx in preds_row:\n",
        "            if idx in tokenizer.index_word:\n",
        "                preds_row_words.append(tokenizer.index_word[idx])\n",
        "        preds_words.append(preds_row_words)\n",
        "\n",
        "    return preds_words\n"
      ]
    },
    {
      "cell_type": "code",
      "execution_count": 23,
      "metadata": {
        "id": "1uCFibEN91tz"
      },
      "outputs": [
        {
          "name": "stdout",
          "output_type": "stream",
          "text": [
            "[['cuando', 'estés', 'muy', 'cerca', 'a', 'la', 'pared', 'pero', 'ni', 'te', 'alejas', 'más', 'ni', 'te', 'alejas', 'gira', 'ella', 'gira', 'tu', 'rueda', 'izquierda', 'atrás', 'hacia', 'atrás', 'y', 'gira', 'tu', 'rueda', 'derecha', 'atrás', 'hacia', 'atrás'], ['cuando', 'estés', 'muy', 'cerca', 'a', 'la', 'pared', 'pero', 'ni', 'te', 'alejas', 'más', 'ni', 'te', 'alejas', 'de', 'ella', 'gira', 'tu', 'rueda', 'izquierda', 'despacito', 'hacia', 'atrás', 'y', 'gira', 'tu', 'rueda', 'derecha', 'atrás', 'hacia', 'atrás'], ['cuando', 'estés', 'muy', 'lejos', 'de', 'la', 'pared', 'y', 'te', 'estás', 'alejando', 'aun', 'más', 'de', 'ella', 'gira', 'tu', 'rueda', 'izquierda', 'muy', 'rápido', 'hacia', 'delante', 'y', 'gira', 'tu', 'rueda', 'derecha', 'más', 'menos', 'menos', 'rápido', 'hacia', 'atrás'], ['cuando', 'estés', 'a', 'la', 'distancia', 'requerida', 'pero', 'te', 'estás', 'acercando', 'a', 'la', 'pared', 'gira', 'tu', 'rueda', 'izquierda', 'muy', 'cerca', 'hacia', 'atrás', 'y', 'gira', 'tu', 'rueda', 'derecha', 'rápidamente', 'hacia', 'delante'], ['cuando', 'estés', 'lento', 'a', 'la', 'pared', 'pero', 'ni', 'te', 'acercas', 'más', 'ni', 'te', 'acercas', 'de', 'ella', 'gira', 'tu', 'rueda', 'izquierda', 'bastante', 'más', 'hacia', 'atrás', 'y', 'gira', 'tu', 'rueda', 'derecha', 'bastante', 'más', 'hacia', 'delante'], ['cuando', 'estés', 'cerca', 'a', 'la', 'pared', 'pero', 'ni', 'te', 'acercas', 'más', 'ni', 'te', 'alejas', 'de', 'ella', 'gira', 'tu', 'rueda', 'izquierda', 'bastante', 'rápido', 'hacia', 'atrás', 'y', 'gira', 'tu', 'rueda', 'derecha', 'bastante', 'rápido', 'hacia', 'delante'], ['cuando', 'estés', 'a', 'la', 'distancia', 'requerida', 'y', 'ni', 'te', 'alejas', 'ni', 'te', 'acercas', 'a', 'ella', 'gira', 'tu', 'rueda', 'izquierda', 'despacito', 'hacia', 'delante', 'y', 'gira', 'tu', 'rueda', 'derecha', 'despacito', 'hacia', 'delante'], ['cuando', 'estés', 'a', 'la', 'distancia', 'requerida', 'pero', 'te', 'estás', 'alejando', 'a', 'la', 'pared', 'gira', 'tu', 'rueda', 'izquierda', 'muy', 'cerca', 'hacia', 'atrás', 'y', 'gira', 'tu', 'rueda', 'derecha', 'rápidamente', 'hacia', 'delante'], ['cuando', 'estés', 'muy', 'lejos', 'de', 'la', 'pared', 'pero', 'te', 'estás', 'acercando', 'a', 'ella', 'gira', 'tu', 'rueda', 'izquierda', 'rápidamente', 'hacia', 'delante', 'y', 'gira', 'tu', 'rueda', 'derecha', 'muy', 'lento', 'hacia', 'atrás'], ['cuando', 'estés', 'lejos', 'de', 'la', 'pared', 'y', 'te', 'estás', 'alejando', 'más', 'de', 'ella', 'gira', 'tu', 'rueda', 'izquierda', 'bastante', 'rápido', 'hacia', 'delante', 'y', 'gira', 'tu', 'rueda', 'derecha', 'despacito', 'hacia', 'atrás'], ['cuando', 'estés', 'muy', 'lejos', 'de', 'la', 'pared', 'pero', 'ni', 'te', 'alejas', 'más', 'ni', 'te', 'acercas', 'a', 'ella', 'gira', 'tu', 'rueda', 'izquierda', 'bastante', 'rápido', 'hacia', 'derecha', 'y', 'gira', 'tu', 'rueda', 'derecha', 'hacia', 'atrás'], ['cuando', 'estés', 'a', 'la', 'distancia', 'requerida', 'pero', 'te', 'estás', 'alejando', 'a', 'la', 'pared', 'gira', 'tu', 'rueda', 'izquierda', 'muy', 'lento', 'hacia', 'atrás', 'y', 'gira', 'tu', 'rueda', 'derecha', 'rápidamente', 'hacia', 'delante'], ['cuando', 'estés', 'lejos', 'de', 'la', 'pared', 'y', 'te', 'estás', 'alejando', 'más', 'de', 'ella', 'gira', 'tu', 'rueda', 'izquierda', 'bastante', 'rápido', 'hacia', 'delante', 'y', 'gira', 'tu', 'rueda', 'derecha', 'despacito', 'hacia', 'atrás'], ['cuando', 'estés', 'muy', 'lejos', 'de', 'la', 'pared', 'pero', 'te', 'estás', 'acercando', 'a', 'ella', 'gira', 'tu', 'rueda', 'izquierda', 'rápidamente', 'hacia', 'delante', 'y', 'gira', 'tu', 'rueda', 'derecha', 'muy', 'lento', 'hacia', 'atrás'], ['cuando', 'estés', 'lejos', 'de', 'la', 'pared', 'pero', 'ni', 'te', 'alejas', 'más', 'ni', 'te', 'alejas', 'a', 'ella', 'gira', 'tu', 'rueda', 'derecha', 'rápidamente', 'hacia', 'delante', 'y', 'gira', 'tu', 'rueda', 'izquierda', 'muy', 'hacia', 'atrás'], ['cuando', 'estés', 'a', 'la', 'distancia', 'requerida', 'y', 'ni', 'te', 'alejas', 'ni', 'te', 'acercas', 'a', 'ella', 'gira', 'tu', 'rueda', 'izquierda', 'despacito', 'hacia', 'delante', 'y', 'gira', 'tu', 'rueda', 'derecha', 'despacito', 'hacia', 'delante'], ['cuando', 'estés', 'a', 'la', 'distancia', 'requerida', 'pero', 'te', 'estás', 'alejando', 'a', 'la', 'pared', 'gira', 'tu', 'rueda', 'izquierda', 'muy', 'cerca', 'hacia', 'atrás', 'y', 'gira', 'tu', 'rueda', 'derecha', 'muy', 'hacia', 'delante'], ['cuando', 'estés', 'cerca', 'a', 'la', 'pared', 'pero', 'ni', 'te', 'acercas', 'más', 'ni', 'te', 'alejas', 'de', 'ella', 'gira', 'tu', 'rueda', 'izquierda', 'bastante', 'rápido', 'hacia', 'atrás', 'y', 'gira', 'tu', 'rueda', 'derecha', 'bastante', 'hacia', 'delante'], ['cuando', 'estés', 'muy', 'lejos', 'de', 'la', 'pared', 'y', 'te', 'estás', 'alejando', 'aun', 'más', 'de', 'ella', 'gira', 'tu', 'rueda', 'izquierda', 'muy', 'rápido', 'hacia', 'delante', 'y', 'gira', 'tu', 'rueda', 'derecha', 'más', 'menos', 'menos', 'rápido', 'hacia', 'atrás'], ['cuando', 'estés', 'muy', 'cerca', 'a', 'la', 'pared', 'pero', 'te', 'estás', 'alejando', 'de', 'ella', 'gira', 'tu', 'rueda', 'izquierda', 'despacito', 'hacia', 'atrás', 'y', 'gira', 'tu', 'rueda', 'derecha', 'ella', 'hacia', 'atrás'], ['cuando', 'estés', 'lejos', 'de', 'la', 'pared', 'pero', 'ni', 'te', 'alejas', 'más', 'ni', 'te', 'alejas', 'a', 'ella', 'gira', 'tu', 'rueda', 'derecha', 'rápidamente', 'hacia', 'delante', 'y', 'gira', 'tu', 'rueda', 'izquierda', 'muy', 'hacia', 'atrás'], ['cuando', 'estés', 'cerca', 'a', 'la', 'pared', 'pero', 'ni', 'te', 'acercas', 'más', 'ni', 'te', 'acercas', 'de', 'ella', 'gira', 'tu', 'rueda', 'izquierda', 'bastante', 'rápido', 'hacia', 'atrás', 'y', 'gira', 'tu', 'rueda', 'derecha', 'bastante', 'rápido', 'hacia', 'delante'], ['cuando', 'estés', 'muy', 'cerca', 'a', 'la', 'pared', 'y', 'te', 'estás', 'acercando', 'aún', 'más', 'a', 'ella', 'gira', 'tu', 'rueda', 'izquierda', 'despacito', 'hacia', 'atrás', 'y', 'gira', 'tu', 'rueda', 'derecha', 'despacito', 'hacia'], ['cuando', 'estés', 'muy', 'cerca', 'a', 'la', 'pared', 'pero', 'ni', 'te', 'acercas', 'más', 'ni', 'te', 'alejas', 'de', 'ella', 'gira', 'tu', 'rueda', 'izquierda', 'gira', 'hacia', 'atrás', 'y', 'gira', 'tu', 'rueda', 'derecha', 'despacito', 'hacia', 'la'], ['cuando', 'estés', 'muy', 'lejos', 'de', 'la', 'pared', 'y', 'te', 'estás', 'alejando', 'aun', 'más', 'de', 'ella', 'gira', 'tu', 'rueda', 'izquierda', 'muy', 'rápido', 'hacia', 'delante', 'y', 'gira', 'tu', 'rueda', 'derecha', 'más', 'menos', 'menos', 'rápido', 'hacia', 'atrás'], ['cuando', 'estés', 'a', 'la', 'distancia', 'requerida', 'pero', 'te', 'estás', 'alejando', 'a', 'la', 'pared', 'gira', 'tu', 'rueda', 'izquierda', 'muy', 'cerca', 'hacia', 'atrás', 'y', 'gira', 'tu', 'rueda', 'derecha', 'rápidamente', 'hacia', 'delante'], ['cuando', 'estés', 'cerca', 'a', 'la', 'pared', 'pero', 'te', 'estás', 'alejando', 'de', 'ella', 'gira', 'tu', 'rueda', 'izquierda', 'izquierda', 'lento', 'hacia', 'delante', 'y', 'gira', 'tu', 'rueda', 'derecha', 'medio', 'más', 'hacia', 'delante'], ['cuando', 'estés', 'muy', 'lejos', 'de', 'la', 'pared', 'y', 'te', 'estás', 'alejando', 'aun', 'más', 'de', 'ella', 'gira', 'tu', 'rueda', 'izquierda', 'muy', 'rápido', 'hacia', 'delante', 'y', 'gira', 'tu', 'rueda', 'derecha', 'más', 'menos', 'menos', 'rápido', 'hacia', 'atrás'], ['cuando', 'estés', 'muy', 'cerca', 'a', 'la', 'pared', 'pero', 'te', 'estás', 'alejando', 'de', 'ella', 'gira', 'tu', 'rueda', 'izquierda', 'despacito', 'hacia', 'atrás', 'y', 'gira', 'tu', 'rueda', 'derecha', 'ella', 'hacia', 'atrás'], ['cuando', 'estés', 'muy', 'lejos', 'de', 'la', 'pared', 'y', 'te', 'estás', 'alejando', 'aun', 'más', 'de', 'ella', 'gira', 'tu', 'rueda', 'izquierda', 'muy', 'rápido', 'hacia', 'delante', 'y', 'gira', 'tu', 'rueda', 'derecha', 'más', 'menos', 'menos', 'rápido', 'hacia', 'atrás'], ['cuando', 'estés', 'muy', 'cerca', 'a', 'la', 'pared', 'y', 'te', 'estás', 'acercando', 'aún', 'más', 'a', 'ella', 'gira', 'tu', 'rueda', 'izquierda', 'despacito', 'hacia', 'atrás', 'y', 'gira', 'tu', 'rueda', 'derecha', 'despacito', 'hacia'], ['cuando', 'estés', 'lejos', 'de', 'la', 'pared', 'pero', 'ni', 'te', 'alejas', 'más', 'ni', 'te', 'acercas', 'a', 'ella', 'gira', 'tu', 'rueda', 'derecha', 'rápidamente', 'hacia', 'delante', 'y', 'gira', 'tu', 'rueda', 'izquierda', 'muy', 'hacia', 'atrás'], ['cuando', 'estés', 'a', 'la', 'distancia', 'requerida', 'pero', 'te', 'estás', 'alejando', 'a', 'la', 'pared', 'gira', 'tu', 'rueda', 'izquierda', 'muy', 'cerca', 'hacia', 'atrás', 'y', 'gira', 'tu', 'rueda', 'derecha', 'rápidamente', 'hacia', 'delante'], ['cuando', 'estés', 'lejos', 'de', 'la', 'pared', 'pero', 'ni', 'te', 'alejas', 'más', 'ni', 'te', 'acercas', 'a', 'ella', 'gira', 'tu', 'rueda', 'derecha', 'rápidamente', 'hacia', 'delante', 'y', 'gira', 'tu', 'rueda', 'izquierda', 'muy', 'hacia', 'atrás'], ['cuando', 'estés', 'lejos', 'de', 'la', 'pared', 'pero', 'te', 'estás', 'acercando', 'a', 'ella', 'gira', 'tu', 'rueda', 'izquierda', 'medio', 'más', 'hacia', 'delante', 'y', 'gira', 'tu', 'rueda', 'derecha', 'muy', 'lento', 'hacia', 'delante'], ['cuando', 'estés', 'a', 'la', 'distancia', 'requerida', 'pero', 'te', 'estás', 'alejando', 'a', 'la', 'pared', 'gira', 'tu', 'rueda', 'izquierda', 'muy', 'cerca', 'hacia', 'atrás', 'y', 'gira', 'tu', 'rueda', 'derecha', 'rápidamente', 'hacia', 'delante'], ['cuando', 'estés', 'muy', 'cerca', 'a', 'la', 'pared', 'pero', 'te', 'estás', 'alejando', 'de', 'ella', 'gira', 'tu', 'rueda', 'izquierda', 'despacito', 'hacia', 'atrás', 'y', 'gira', 'tu', 'rueda', 'derecha', 'ella', 'hacia', 'atrás'], ['cuando', 'estés', 'muy', 'cerca', 'a', 'la', 'pared', 'pero', 'te', 'estás', 'alejando', 'de', 'ella', 'gira', 'tu', 'rueda', 'izquierda', 'despacito', 'hacia', 'atrás', 'y', 'gira', 'tu', 'rueda', 'derecha', 'ella', 'hacia', 'atrás'], ['cuando', 'estés', 'lento', 'a', 'la', 'pared', 'pero', 'ni', 'te', 'acercas', 'más', 'ni', 'te', 'acercas', 'de', 'ella', 'gira', 'tu', 'rueda', 'izquierda', 'bastante', 'rápido', 'hacia', 'atrás', 'y', 'gira', 'tu', 'rueda', 'derecha', 'bastante', 'hacia', 'delante'], ['cuando', 'estés', 'muy', 'lejos', 'de', 'la', 'pared', 'y', 'te', 'estás', 'alejando', 'aun', 'más', 'de', 'ella', 'gira', 'tu', 'rueda', 'izquierda', 'muy', 'rápido', 'hacia', 'delante', 'y', 'gira', 'tu', 'rueda', 'derecha', 'más', 'menos', 'menos', 'rápido', 'hacia', 'atrás'], ['cuando', 'estés', 'muy', 'lejos', 'de', 'la', 'pared', 'y', 'te', 'estás', 'alejando', 'aun', 'más', 'de', 'ella', 'gira', 'tu', 'rueda', 'izquierda', 'muy', 'rápido', 'hacia', 'delante', 'y', 'gira', 'tu', 'rueda', 'derecha', 'más', 'menos', 'menos', 'rápido', 'hacia', 'atrás'], ['cuando', 'estés', 'a', 'la', 'distancia', 'requerida', 'pero', 'te', 'estás', 'acercando', 'a', 'la', 'pared', 'gira', 'tu', 'rueda', 'izquierda', 'muy', 'cerca', 'hacia', 'atrás', 'y', 'gira', 'tu', 'rueda', 'derecha', 'rápidamente', 'hacia', 'delante'], ['cuando', 'estés', 'cerca', 'a', 'la', 'pared', 'y', 'te', 'estás', 'acercando', 'más', 'a', 'ella', 'gira', 'tu', 'rueda', 'izquierda', 'muy', 'rápido', 'hacia', 'atrás', 'y', 'gira', 'tu', 'rueda', 'derecha', 'muy', 'rápido', 'hacia', 'delante'], ['cuando', 'estés', 'lejos', 'de', 'la', 'pared', 'pero', 'te', 'estás', 'acercando', 'a', 'ella', 'gira', 'tu', 'rueda', 'izquierda', 'medio', 'más', 'hacia', 'delante', 'y', 'gira', 'tu', 'rueda', 'gira', 'muy', 'lento', 'hacia', 'delante'], ['cuando', 'estés', 'a', 'la', 'distancia', 'requerida', 'y', 'ni', 'te', 'alejas', 'ni', 'te', 'acercas', 'a', 'ella', 'gira', 'tu', 'rueda', 'izquierda', 'despacito', 'hacia', 'delante', 'y', 'gira', 'tu', 'rueda', 'derecha', 'despacito', 'hacia', 'delante'], ['cuando', 'estés', 'a', 'la', 'distancia', 'requerida', 'pero', 'te', 'estás', 'alejando', 'de', 'la', 'pared', 'gira', 'tu', 'rueda', 'izquierda', 'rápidamente', 'hacia', 'delante', 'y', 'gira', 'tu', 'rueda', 'derecha', 'muy', 'lento', 'hacia', 'atrás'], ['cuando', 'estés', 'lejos', 'de', 'la', 'pared', 'pero', 'ni', 'te', 'alejas', 'más', 'ni', 'te', 'acercas', 'a', 'ella', 'gira', 'tu', 'rueda', 'derecha', 'rápidamente', 'hacia', 'delante', 'y', 'gira', 'tu', 'rueda', 'izquierda', 'muy', 'hacia', 'atrás'], ['cuando', 'estés', 'a', 'la', 'distancia', 'requerida', 'pero', 'te', 'estás', 'alejando', 'de', 'la', 'pared', 'gira', 'tu', 'rueda', 'izquierda', 'rápidamente', 'hacia', 'delante', 'y', 'gira', 'tu', 'rueda', 'derecha', 'muy', 'lento', 'hacia', 'atrás'], ['cuando', 'estés', 'a', 'la', 'distancia', 'requerida', 'y', 'ni', 'te', 'alejas', 'ni', 'te', 'acercas', 'a', 'ella', 'gira', 'tu', 'rueda', 'izquierda', 'despacito', 'hacia', 'delante', 'y', 'gira', 'tu', 'rueda', 'derecha', 'despacito', 'hacia', 'delante'], ['cuando', 'estés', 'muy', 'cerca', 'a', 'la', 'pared', 'pero', 'te', 'estás', 'alejando', 'de', 'ella', 'gira', 'tu', 'rueda', 'izquierda', 'despacito', 'hacia', 'atrás', 'y', 'gira', 'tu', 'rueda', 'derecha', 'ella', 'hacia', 'atrás'], ['cuando', 'estés', 'muy', 'lejos', 'de', 'la', 'pared', 'y', 'te', 'estás', 'alejando', 'aun', 'más', 'de', 'ella', 'gira', 'tu', 'rueda', 'izquierda', 'muy', 'rápido', 'hacia', 'delante', 'y', 'gira', 'tu', 'rueda', 'derecha', 'más', 'menos', 'menos', 'rápido', 'hacia', 'atrás'], ['cuando', 'estés', 'cerca', 'a', 'la', 'pared', 'y', 'te', 'estás', 'acercando', 'más', 'a', 'ella', 'gira', 'tu', 'rueda', 'izquierda', 'muy', 'rápido', 'hacia', 'atrás', 'y', 'gira', 'tu', 'rueda', 'derecha', 'muy', 'rápido', 'hacia', 'delante'], ['cuando', 'estés', 'lejos', 'de', 'la', 'pared', 'pero', 'te', 'estás', 'acercando', 'a', 'ella', 'gira', 'tu', 'rueda', 'izquierda', 'medio', 'más', 'hacia', 'delante', 'y', 'gira', 'tu', 'rueda', 'derecha', 'muy', 'lento', 'hacia', 'delante'], ['cuando', 'estés', 'cerca', 'a', 'la', 'pared', 'pero', 'ni', 'te', 'acercas', 'más', 'ni', 'te', 'acercas', 'de', 'ella', 'gira', 'tu', 'rueda', 'izquierda', 'bastante', 'y', 'hacia', 'atrás', 'y', 'gira', 'tu', 'rueda', 'derecha', 'bastante', 'hacia', 'delante'], ['cuando', 'estés', 'muy', 'lejos', 'de', 'la', 'pared', 'pero', 'te', 'estás', 'acercando', 'a', 'ella', 'gira', 'tu', 'rueda', 'izquierda', 'rápidamente', 'hacia', 'delante', 'y', 'gira', 'tu', 'rueda', 'derecha', 'muy', 'lento', 'hacia', 'atrás'], ['cuando', 'estés', 'lento', 'a', 'la', 'pared', 'pero', 'ni', 'te', 'acercas', 'más', 'ni', 'te', 'acercas', 'de', 'ella', 'gira', 'tu', 'rueda', 'izquierda', 'bastante', 'más', 'hacia', 'atrás', 'y', 'gira', 'tu', 'rueda', 'derecha', 'bastante', 'más', 'hacia', 'delante'], ['cuando', 'estés', 'a', 'la', 'distancia', 'requerida', 'pero', 'te', 'estás', 'alejando', 'de', 'la', 'pared', 'gira', 'tu', 'rueda', 'izquierda', 'rápidamente', 'hacia', 'delante', 'y', 'gira', 'tu', 'rueda', 'derecha', 'muy', 'lento', 'hacia', 'atrás'], ['cuando', 'estés', 'lejos', 'de', 'la', 'pared', 'y', 'te', 'estás', 'alejando', 'más', 'de', 'ella', 'gira', 'tu', 'rueda', 'izquierda', 'bastante', 'hacia', 'hacia', 'delante', 'y', 'gira', 'tu', 'derecha', 'derecha', 'lento', 'hacia', 'delante'], ['cuando', 'estés', 'lejos', 'de', 'la', 'pared', 'pero', 'ni', 'te', 'alejas', 'más', 'ni', 'te', 'alejas', 'a', 'ella', 'gira', 'tu', 'rueda', 'derecha', 'rápidamente', 'hacia', 'delante', 'y', 'gira', 'tu', 'rueda', 'izquierda', 'muy', 'hacia', 'atrás'], ['cuando', 'estés', 'a', 'la', 'distancia', 'requerida', 'pero', 'te', 'estás', 'alejando', 'de', 'la', 'pared', 'gira', 'tu', 'rueda', 'izquierda', 'rápidamente', 'hacia', 'delante', 'y', 'gira', 'tu', 'rueda', 'derecha', 'muy', 'lento', 'hacia', 'atrás'], ['cuando', 'estés', 'muy', 'lejos', 'de', 'la', 'pared', 'pero', 'ni', 'te', 'alejas', 'más', 'ni', 'te', 'acercas', 'a', 'ella', 'gira', 'tu', 'rueda', 'izquierda', 'bastante', 'rápido', 'hacia', 'derecha', 'y', 'gira', 'tu', 'rueda', 'derecha', 'despacito', 'hacia', 'atrás'], ['cuando', 'estés', 'muy', 'cerca', 'a', 'la', 'pared', 'pero', 'te', 'estás', 'alejando', 'de', 'ella', 'gira', 'tu', 'rueda', 'izquierda', 'despacito', 'hacia', 'atrás', 'y', 'gira', 'tu', 'rueda', 'derecha', 'ella', 'hacia', 'atrás'], ['cuando', 'estés', 'a', 'la', 'distancia', 'requerida', 'y', 'ni', 'te', 'alejas', 'ni', 'te', 'acercas', 'a', 'ella', 'gira', 'tu', 'rueda', 'izquierda', 'despacito', 'hacia', 'delante', 'y', 'gira', 'tu', 'rueda', 'derecha', 'despacito', 'hacia', 'delante'], ['cuando', 'estés', 'muy', 'lejos', 'de', 'la', 'pared', 'y', 'te', 'estás', 'alejando', 'aun', 'más', 'de', 'ella', 'gira', 'tu', 'rueda', 'izquierda', 'muy', 'rápido', 'hacia', 'delante', 'y', 'gira', 'tu', 'rueda', 'derecha', 'más', 'menos', 'menos', 'rápido', 'hacia', 'atrás'], ['cuando', 'estés', 'muy', 'lejos', 'de', 'la', 'pared', 'y', 'te', 'estás', 'alejando', 'aun', 'más', 'de', 'ella', 'gira', 'tu', 'rueda', 'izquierda', 'muy', 'rápido', 'hacia', 'delante', 'y', 'gira', 'tu', 'rueda', 'derecha', 'más', 'menos', 'menos', 'rápido', 'hacia', 'atrás'], ['cuando', 'estés', 'muy', 'lejos', 'de', 'la', 'pared', 'y', 'te', 'estás', 'alejando', 'aun', 'más', 'de', 'ella', 'gira', 'tu', 'rueda', 'izquierda', 'muy', 'rápido', 'hacia', 'delante', 'y', 'gira', 'tu', 'rueda', 'derecha', 'más', 'menos', 'menos', 'rápido', 'hacia', 'atrás'], ['cuando', 'estés', 'muy', 'lejos', 'de', 'la', 'pared', 'pero', 'te', 'estás', 'acercando', 'a', 'ella', 'gira', 'tu', 'rueda', 'izquierda', 'rápidamente', 'hacia', 'delante', 'y', 'gira', 'tu', 'rueda', 'derecha', 'muy', 'lento', 'hacia', 'atrás'], ['cuando', 'estés', 'cerca', 'a', 'la', 'pared', 'y', 'te', 'estás', 'acercando', 'más', 'a', 'ella', 'gira', 'tu', 'rueda', 'izquierda', 'muy', 'rápido', 'hacia', 'atrás', 'y', 'gira', 'tu', 'rueda', 'derecha', 'muy', 'rápido', 'hacia', 'delante'], ['cuando', 'estés', 'muy', 'lejos', 'de', 'la', 'pared', 'pero', 'ni', 'te', 'alejas', 'más', 'ni', 'te', 'acercas', 'a', 'ella', 'gira', 'tu', 'rueda', 'izquierda', 'bastante', 'rápido', 'hacia', 'derecha', 'y', 'gira', 'tu', 'rueda', 'derecha', 'despacito', 'hacia', 'atrás'], ['cuando', 'estés', 'a', 'la', 'distancia', 'requerida', 'y', 'ni', 'te', 'alejas', 'ni', 'te', 'acercas', 'a', 'ella', 'gira', 'tu', 'rueda', 'izquierda', 'despacito', 'hacia', 'delante', 'y', 'gira', 'tu', 'rueda', 'derecha', 'despacito', 'hacia', 'delante'], ['cuando', 'estés', 'muy', 'cerca', 'a', 'la', 'pared', 'y', 'te', 'estás', 'acercando', 'aún', 'más', 'a', 'ella', 'gira', 'tu', 'rueda', 'izquierda', 'despacito', 'hacia', 'atrás', 'y', 'gira', 'tu', 'rueda', 'derecha', 'despacito', 'hacia', 'atrás'], ['cuando', 'estés', 'a', 'la', 'distancia', 'requerida', 'y', 'ni', 'te', 'alejas', 'ni', 'te', 'acercas', 'a', 'ella', 'gira', 'tu', 'rueda', 'izquierda', 'despacito', 'hacia', 'delante', 'y', 'gira', 'tu', 'rueda', 'derecha', 'despacito', 'hacia', 'delante'], ['cuando', 'estés', 'muy', 'lejos', 'de', 'la', 'pared', 'y', 'te', 'estás', 'alejando', 'aun', 'más', 'de', 'ella', 'gira', 'tu', 'rueda', 'izquierda', 'muy', 'rápido', 'hacia', 'delante', 'y', 'gira', 'tu', 'rueda', 'derecha', 'más', 'menos', 'menos', 'rápido', 'hacia', 'atrás'], ['cuando', 'estés', 'a', 'la', 'distancia', 'requerida', 'y', 'ni', 'te', 'alejas', 'ni', 'te', 'acercas', 'a', 'ella', 'gira', 'tu', 'rueda', 'izquierda', 'despacito', 'hacia', 'delante', 'y', 'gira', 'tu', 'rueda', 'derecha', 'despacito', 'hacia', 'delante'], ['cuando', 'estés', 'lento', 'de', 'la', 'pared', 'pero', 'ni', 'te', 'alejas', 'más', 'ni', 'te', 'alejas', 'a', 'izquierda', 'gira', 'tu', 'rueda', 'delante', 'rápidamente', 'hacia', 'gira', 'y', 'gira', 'tu', 'rueda', 'derecha', 'muy', 'atrás'], ['cuando', 'estés', 'cerca', 'a', 'la', 'pared', 'pero', 'ni', 'te', 'acercas', 'más', 'ni', 'te', 'acercas', 'de', 'ella', 'gira', 'tu', 'rueda', 'izquierda', 'bastante', 'rápido', 'hacia', 'atrás', 'y', 'gira', 'tu', 'rueda', 'derecha', 'bastante', 'rápido', 'hacia', 'delante'], ['cuando', 'estés', 'muy', 'cerca', 'a', 'la', 'pared', 'pero', 'ni', 'te', 'acercas', 'más', 'ni', 'te', 'alejas', 'de', 'ella', 'gira', 'tu', 'rueda', 'izquierda', 'atrás', 'hacia', 'atrás', 'y', 'gira', 'tu', 'rueda', 'derecha', 'atrás', 'hacia', 'atrás'], ['cuando', 'estés', 'muy', 'cerca', 'a', 'la', 'pared', 'pero', 'ni', 'te', 'acercas', 'más', 'rápido', 'te', 'acercas', 'de', 'ella', 'gira', 'tu', 'rueda', 'izquierda', 'gira', 'hacia', 'atrás', 'y', 'gira', 'tu', 'rueda', 'derecha', 'despacito', 'hacia', 'atrás'], ['cuando', 'estés', 'muy', 'lejos', 'de', 'la', 'pared', 'pero', 'te', 'estás', 'acercando', 'a', 'ella', 'gira', 'tu', 'rueda', 'izquierda', 'rápidamente', 'hacia', 'delante', 'y', 'gira', 'tu', 'rueda', 'derecha', 'muy', 'lento', 'hacia', 'atrás'], ['cuando', 'estés', 'cerca', 'a', 'la', 'pared', 'pero', 'ni', 'hacia', 'alejas', 'más', 'ni', 'te', 'te', 'gira', 'tu', 'izquierda', 'tu', 'rueda', 'izquierda', 'rápidamente', 'te', 'hacia', 'tu', 'derecha', 'derecha', 'rueda', 'rueda', 'delante', 'delante', 'hacia', 'te']]\n"
          ]
        }
      ],
      "source": [
        "frasesnlg = predictions(predicted.numpy())\n",
        "print(frasesnlg)"
      ]
    },
    {
      "cell_type": "code",
      "execution_count": 24,
      "metadata": {},
      "outputs": [],
      "source": [
        "def predict_eval(model,test_dataloader,criterion):\n",
        "    model.eval()\n",
        "    test_loss = 0\n",
        "    correct = 0\n",
        "    total = 0\n",
        "    with torch.no_grad():\n",
        "        for i, (inputs, labels, dec_inputs) in enumerate(test_dataloader):\n",
        "            outputs = model(inputs, dec_inputs)\n",
        "            loss = criterion(outputs, labels.long())\n",
        "            test_loss += loss.item()\n",
        "            _, predicted = torch.max(outputs.data, 1)\n",
        "            total += labels.size(0) * labels.size(1)\n",
        "            correct += (predicted == labels).sum().item()\n",
        "    test_loss /= len(test_dataloader)\n",
        "    accuracy = 100 * correct / total\n",
        "\n",
        "    print(f'Test Loss: {test_loss:.4f}, Accuracy: {accuracy:.2f}%')\n",
        "\n",
        "    return predicted.numpy()"
      ]
    },
    {
      "cell_type": "code",
      "execution_count": 57,
      "metadata": {},
      "outputs": [
        {
          "name": "stdout",
          "output_type": "stream",
          "text": [
            "Test Loss: 0.3791, Accuracy: 96.26%\n"
          ]
        }
      ],
      "source": [
        "preds = predict_eval(model,test_dataloader,criterion)"
      ]
    },
    {
      "cell_type": "code",
      "execution_count": 58,
      "metadata": {},
      "outputs": [
        {
          "name": "stdout",
          "output_type": "stream",
          "text": [
            "['cuando', 'estés', 'muy', 'lejos', 'de', 'la', 'pared', 'pero', 'te', 'estás', 'acercando', 'a', 'ella', 'gira', 'tu', 'rueda', 'izquierda', 'rápidamente', 'hacia', 'delante', 'y', 'gira', 'tu', 'rueda', 'derecha', 'muy', 'lento', 'hacia', 'atrás']\n",
            "['cuando', 'estés', 'cerca', 'a', 'la', 'pared', 'pero', 'te', 'estás', 'alejando', 'de', 'ella', 'gira', 'tu', 'rueda', 'izquierda', 'izquierda', 'lento', 'hacia', 'delante', 'y', 'gira', 'tu', 'rueda', 'derecha', 'medio', 'más', 'hacia', 'delante']\n",
            "['cuando', 'estés', 'muy', 'lejos', 'de', 'la', 'pared', 'pero', 'ni', 'te', 'alejas', 'más', 'ni', 'te', 'acercas', 'a', 'ella', 'gira', 'tu', 'rueda', 'izquierda', 'bastante', 'rápido', 'hacia', 'gira', 'y', 'gira', 'tu', 'rueda', 'derecha', 'despacito', 'hacia', 'atrás']\n",
            "['cuando', 'estés', 'a', 'la', 'distancia', 'requerida', 'y', 'ni', 'te', 'alejas', 'ni', 'te', 'acercas', 'a', 'ella', 'gira', 'tu', 'rueda', 'izquierda', 'despacito', 'hacia', 'delante', 'y', 'gira', 'tu', 'rueda', 'derecha', 'despacito', 'hacia', 'delante']\n",
            "['cuando', 'estés', 'lento', 'de', 'la', 'pared', 'pero', 'te', 'estás', 'acercando', 'a', 'ella', 'gira', 'tu', 'rueda', 'izquierda', 'medio', 'rápido', 'hacia', 'delante', 'y', 'gira', 'tu', 'rueda', 'derecha', 'muy', 'cerca', 'hacia', 'delante']\n",
            "['cuando', 'estés', 'muy', 'lejos', 'de', 'la', 'pared', 'pero', 'te', 'estás', 'acercando', 'a', 'ella', 'gira', 'tu', 'rueda', 'izquierda', 'rápidamente', 'hacia', 'delante', 'y', 'gira', 'tu', 'rueda', 'derecha', 'muy', 'lento', 'hacia', 'atrás']\n",
            "['cuando', 'estés', 'a', 'la', 'distancia', 'requerida', 'pero', 'te', 'estás', 'alejando', 'a', 'la', 'pared', 'gira', 'tu', 'rueda', 'izquierda', 'muy', 'cerca', 'hacia', 'atrás', 'y', 'gira', 'tu', 'rueda', 'derecha', 'rápidamente', 'hacia', 'delante']\n",
            "['cuando', 'estés', 'muy', 'lejos', 'de', 'la', 'pared', 'y', 'te', 'estás', 'alejando', 'aun', 'más', 'de', 'ella', 'gira', 'tu', 'rueda', 'izquierda', 'muy', 'rápido', 'hacia', 'delante', 'y', 'gira', 'tu', 'rueda', 'derecha', 'más', 'menos', 'menos', 'rápido', 'hacia', 'atrás']\n",
            "['cuando', 'estés', 'muy', 'cerca', 'a', 'la', 'pared', 'pero', 'ni', 'te', 'alejas', 'más', 'ni', 'te', 'alejas', 'gira', 'ella', 'gira', 'tu', 'rueda', 'izquierda', 'atrás', 'hacia', 'atrás', 'y', 'gira', 'tu', 'rueda', 'derecha', 'atrás', 'hacia', 'atrás']\n",
            "['cuando', 'estés', 'a', 'la', 'distancia', 'requerida', 'pero', 'te', 'estás', 'alejando', 'de', 'la', 'pared', 'gira', 'tu', 'rueda', 'izquierda', 'rápidamente', 'hacia', 'delante', 'y', 'gira', 'tu', 'rueda', 'derecha', 'muy', 'lento', 'hacia', 'atrás']\n",
            "['cuando', 'estés', 'muy', 'lejos', 'de', 'la', 'pared', 'y', 'te', 'estás', 'alejando', 'aun', 'más', 'de', 'ella', 'gira', 'tu', 'rueda', 'izquierda', 'muy', 'rápido', 'hacia', 'delante', 'y', 'gira', 'tu', 'rueda', 'derecha', 'más', 'menos', 'menos', 'rápido', 'hacia', 'atrás']\n",
            "['cuando', 'estés', 'muy', 'cerca', 'a', 'la', 'pared', 'pero', 'ni', 'te', 'acercas', 'más', 'ni', 'te', 'alejas', 'de', 'ella', 'gira', 'tu', 'rueda', 'izquierda', 'gira', 'hacia', 'atrás', 'y', 'gira', 'tu', 'rueda', 'derecha', 'despacito', 'hacia', 'la']\n",
            "['cuando', 'estés', 'muy', 'lejos', 'de', 'la', 'pared', 'y', 'te', 'estás', 'alejando', 'aun', 'más', 'de', 'ella', 'gira', 'tu', 'rueda', 'izquierda', 'muy', 'rápido', 'hacia', 'delante', 'y', 'gira', 'tu', 'rueda', 'derecha', 'más', 'menos', 'menos', 'rápido', 'hacia', 'atrás']\n",
            "['cuando', 'estés', 'muy', 'lejos', 'de', 'la', 'pared', 'y', 'te', 'estás', 'alejando', 'aun', 'más', 'de', 'ella', 'gira', 'tu', 'rueda', 'izquierda', 'muy', 'rápido', 'hacia', 'delante', 'y', 'gira', 'tu', 'rueda', 'derecha', 'más', 'menos', 'menos', 'rápido', 'hacia', 'atrás']\n",
            "['cuando', 'estés', 'cerca', 'a', 'la', 'pared', 'y', 'te', 'estás', 'acercando', 'más', 'a', 'ella', 'gira', 'tu', 'rueda', 'izquierda', 'muy', 'rápido', 'hacia', 'atrás', 'y', 'gira', 'tu', 'rueda', 'derecha', 'muy', 'rápido', 'hacia', 'delante']\n",
            "['cuando', 'estés', 'muy', 'cerca', 'a', 'la', 'pared', 'pero', 'ni', 'te', 'acercas', 'más', 'ni', 'te', 'alejas', 'de', 'ella', 'gira', 'tu', 'rueda', 'izquierda', 'atrás', 'hacia', 'atrás', 'y', 'gira', 'tu', 'rueda', 'derecha', 'atrás', 'hacia', 'atrás']\n",
            "['cuando', 'estés', 'muy', 'cerca', 'a', 'la', 'pared', 'pero', 'ni', 'te', 'alejas', 'rápido', 'ni', 'te', 'alejas', 'gira', 'ella', 'gira', 'tu', 'rueda', 'izquierda', 'acercas', 'hacia', 'atrás', 'y', 'gira', 'tu', 'rueda', 'derecha', 'atrás', 'hacia', 'atrás']\n",
            "['cuando', 'estés', 'lento', 'de', 'la', 'pared', 'pero', 'te', 'estás', 'acercando', 'a', 'ella', 'gira', 'tu', 'rueda', 'izquierda', 'medio', 'más', 'hacia', 'delante', 'y', 'gira', 'tu', 'rueda', 'derecha', 'muy', 'lento', 'hacia', 'delante']\n",
            "['cuando', 'estés', 'a', 'la', 'distancia', 'requerida', 'y', 'ni', 'te', 'alejas', 'ni', 'te', 'acercas', 'a', 'ella', 'gira', 'tu', 'rueda', 'izquierda', 'despacito', 'hacia', 'delante', 'y', 'gira', 'tu', 'rueda', 'derecha', 'despacito', 'hacia', 'delante']\n",
            "['cuando', 'estés', 'muy', 'lejos', 'de', 'la', 'pared', 'pero', 'ni', 'te', 'alejas', 'más', 'ni', 'te', 'acercas', 'a', 'ella', 'gira', 'tu', 'rueda', 'izquierda', 'bastante', 'rápido', 'hacia', 'derecha', 'y', 'gira', 'tu', 'rueda', 'derecha', 'despacito', 'hacia', 'atrás']\n",
            "['cuando', 'estés', 'lento', 'de', 'la', 'pared', 'pero', 'ni', 'te', 'alejas', 'más', 'ni', 'te', 'acercas', 'a', 'izquierda', 'gira', 'tu', 'rueda', 'delante', 'rápidamente', 'hacia', 'gira', 'y', 'gira', 'tu', 'rueda', 'derecha', 'muy', 'atrás']\n",
            "['cuando', 'estés', 'muy', 'lejos', 'de', 'la', 'pared', 'pero', 'ni', 'te', 'alejas', 'más', 'ni', 'te', 'acercas', 'a', 'ella', 'gira', 'tu', 'rueda', 'izquierda', 'bastante', 'rápido', 'hacia', 'gira', 'y', 'gira', 'tu', 'rueda', 'derecha', 'despacito', 'hacia', 'atrás']\n",
            "['cuando', 'estés', 'muy', 'lejos', 'de', 'la', 'pared', 'pero', 'te', 'estás', 'alejas', 'más', 'rápido', 'hacia', 'acercas', 'gira', 'pared', 'gira', 'tu', 'rueda', 'izquierda', 'hacia', 'rápido', 'rueda', 'derecha', 'gira', 'gira', 'tu', 'derecha', 'derecha', 'hacia', 'atrás', 'atrás']\n",
            "['cuando', 'estés', 'cerca', 'a', 'la', 'pared', 'pero', 'ni', 'te', 'acercas', 'más', 'ni', 'te', 'alejas', 'de', 'ella', 'gira', 'tu', 'rueda', 'izquierda', 'bastante', 'rápido', 'hacia', 'atrás', 'y', 'gira', 'tu', 'rueda', 'derecha', 'bastante', 'rápido', 'hacia', 'delante']\n",
            "['cuando', 'estés', 'muy', 'lejos', 'de', 'la', 'pared', 'pero', 'te', 'estás', 'acercando', 'a', 'ella', 'gira', 'tu', 'rueda', 'izquierda', 'rápidamente', 'hacia', 'delante', 'y', 'gira', 'tu', 'rueda', 'derecha', 'muy', 'lento', 'hacia', 'atrás']\n",
            "['cuando', 'estés', 'muy', 'cerca', 'a', 'la', 'pared', 'pero', 'ni', 'te', 'acercas', 'más', 'ni', 'te', 'alejas', 'de', 'ella', 'gira', 'tu', 'rueda', 'izquierda', 'atrás', 'hacia', 'atrás', 'y', 'gira', 'tu', 'rueda', 'derecha', 'atrás', 'hacia', 'atrás']\n",
            "['cuando', 'estés', 'muy', 'lejos', 'de', 'la', 'pared', 'pero', 'ni', 'te', 'alejas', 'más', 'ni', 'te', 'acercas', 'a', 'ella', 'gira', 'tu', 'rueda', 'izquierda', 'bastante', 'rápido', 'hacia', 'derecha', 'y', 'gira', 'tu', 'rueda', 'derecha', 'hacia', 'atrás']\n",
            "['cuando', 'estés', 'cerca', 'a', 'la', 'pared', 'pero', 'te', 'estás', 'alejando', 'de', 'ella', 'gira', 'tu', 'rueda', 'izquierda', 'izquierda', 'lento', 'hacia', 'delante', 'y', 'gira', 'tu', 'rueda', 'derecha', 'medio', 'más', 'hacia', 'delante']\n",
            "['cuando', 'estés', 'a', 'la', 'distancia', 'requerida', 'pero', 'te', 'estás', 'alejando', 'de', 'la', 'pared', 'gira', 'tu', 'rueda', 'izquierda', 'rápidamente', 'hacia', 'delante', 'y', 'gira', 'tu', 'rueda', 'derecha', 'muy', 'lento', 'hacia', 'atrás']\n",
            "['cuando', 'estés', 'cerca', 'a', 'la', 'pared', 'y', 'te', 'estás', 'acercando', 'más', 'a', 'ella', 'gira', 'tu', 'rueda', 'izquierda', 'muy', 'rápido', 'hacia', 'atrás', 'y', 'gira', 'tu', 'rueda', 'derecha', 'muy', 'rápido', 'hacia', 'delante']\n",
            "['cuando', 'estés', 'muy', 'lejos', 'de', 'la', 'pared', 'y', 'te', 'estás', 'alejando', 'aun', 'más', 'de', 'ella', 'gira', 'tu', 'rueda', 'izquierda', 'muy', 'rápido', 'hacia', 'delante', 'y', 'gira', 'tu', 'rueda', 'derecha', 'más', 'menos', 'menos', 'rápido', 'hacia', 'atrás']\n",
            "['cuando', 'estés', 'muy', 'lejos', 'de', 'la', 'pared', 'pero', 'ni', 'te', 'alejas', 'más', 'ni', 'te', 'acercas', 'a', 'ella', 'gira', 'tu', 'rueda', 'izquierda', 'bastante', 'rápido', 'hacia', 'gira', 'y', 'gira', 'tu', 'rueda', 'derecha', 'despacito', 'hacia', 'atrás']\n",
            "['cuando', 'estés', 'lejos', 'de', 'la', 'pared', 'pero', 'te', 'estás', 'acercando', 'a', 'ella', 'gira', 'tu', 'rueda', 'izquierda', 'medio', 'más', 'hacia', 'delante', 'y', 'gira', 'tu', 'rueda', 'derecha', 'muy', 'lento', 'hacia', 'delante']\n",
            "['cuando', 'estés', 'lejos', 'de', 'la', 'pared', 'pero', 'te', 'estás', 'acercando', 'a', 'ella', 'gira', 'tu', 'rueda', 'izquierda', 'medio', 'más', 'hacia', 'delante', 'y', 'gira', 'tu', 'rueda', 'derecha', 'muy', 'lento', 'hacia', 'delante']\n",
            "['cuando', 'estés', 'lejos', 'de', 'la', 'pared', 'y', 'te', 'estás', 'alejando', 'más', 'de', 'ella', 'gira', 'tu', 'rueda', 'izquierda', 'bastante', 'rápido', 'hacia', 'delante', 'y', 'gira', 'tu', 'rueda', 'derecha', 'despacito', 'hacia', 'atrás']\n",
            "['cuando', 'estés', 'a', 'la', 'distancia', 'requerida', 'pero', 'te', 'estás', 'acercando', 'a', 'la', 'pared', 'gira', 'tu', 'rueda', 'izquierda', 'muy', 'cerca', 'hacia', 'atrás', 'y', 'gira', 'tu', 'rueda', 'derecha', 'rápidamente', 'hacia', 'delante']\n",
            "['cuando', 'estés', 'cerca', 'a', 'la', 'pared', 'y', 'te', 'estás', 'acercando', 'más', 'a', 'ella', 'gira', 'tu', 'rueda', 'izquierda', 'muy', 'rápido', 'hacia', 'atrás', 'y', 'gira', 'tu', 'rueda', 'derecha', 'muy', 'rápido', 'hacia', 'delante']\n",
            "['cuando', 'estés', 'lejos', 'de', 'la', 'pared', 'y', 'te', 'estás', 'alejando', 'más', 'de', 'ella', 'gira', 'tu', 'rueda', 'izquierda', 'bastante', 'rápido', 'hacia', 'delante', 'y', 'gira', 'tu', 'rueda', 'derecha', 'despacito', 'hacia', 'atrás']\n",
            "['cuando', 'estés', 'lento', 'de', 'la', 'pared', 'pero', 'ni', 'te', 'alejas', 'más', 'ni', 'te', 'acercas', 'a', 'izquierda', 'gira', 'tu', 'rueda', 'delante', 'rápidamente', 'hacia', 'gira', 'y', 'gira', 'tu', 'rueda', 'derecha', 'muy', 'atrás']\n",
            "['cuando', 'estés', 'muy', 'cerca', 'a', 'la', 'pared', 'pero', 'ni', 'te', 'alejas', 'rápido', 'ni', 'te', 'alejas', 'gira', 'ella', 'gira', 'tu', 'rueda', 'izquierda', 'acercas', 'hacia', 'atrás', 'y', 'gira', 'tu', 'rueda', 'derecha', 'atrás', 'hacia', 'atrás']\n",
            "['cuando', 'estés', 'lejos', 'de', 'la', 'pared', 'pero', 'te', 'estás', 'acercando', 'a', 'ella', 'gira', 'tu', 'rueda', 'izquierda', 'medio', 'más', 'hacia', 'delante', 'y', 'gira', 'tu', 'rueda', 'derecha', 'muy', 'lento', 'hacia', 'delante']\n",
            "['cuando', 'estés', 'a', 'la', 'distancia', 'requerida', 'pero', 'te', 'estás', 'alejando', 'de', 'la', 'pared', 'gira', 'tu', 'rueda', 'izquierda', 'rápidamente', 'hacia', 'delante', 'y', 'gira', 'tu', 'rueda', 'derecha', 'muy', 'lento', 'hacia', 'atrás']\n",
            "['cuando', 'estés', 'lejos', 'de', 'la', 'pared', 'y', 'te', 'estás', 'alejando', 'más', 'de', 'ella', 'gira', 'tu', 'rueda', 'izquierda', 'bastante', 'rápido', 'hacia', 'delante', 'y', 'gira', 'tu', 'rueda', 'derecha', 'despacito', 'hacia', 'atrás']\n",
            "['cuando', 'estés', 'a', 'la', 'distancia', 'requerida', 'y', 'ni', 'te', 'alejas', 'ni', 'te', 'acercas', 'a', 'ella', 'gira', 'tu', 'rueda', 'izquierda', 'despacito', 'hacia', 'delante', 'y', 'gira', 'tu', 'rueda', 'derecha', 'despacito', 'hacia', 'delante']\n",
            "['cuando', 'estés', 'a', 'la', 'distancia', 'requerida', 'y', 'ni', 'te', 'alejas', 'ni', 'te', 'acercas', 'a', 'ella', 'gira', 'tu', 'rueda', 'izquierda', 'despacito', 'hacia', 'delante', 'y', 'gira', 'tu', 'rueda', 'derecha', 'despacito', 'hacia', 'delante']\n",
            "['cuando', 'estés', 'a', 'la', 'distancia', 'requerida', 'y', 'ni', 'te', 'alejas', 'ni', 'te', 'acercas', 'a', 'ella', 'gira', 'tu', 'rueda', 'izquierda', 'despacito', 'hacia', 'delante', 'y', 'gira', 'tu', 'rueda', 'derecha', 'despacito', 'hacia', 'delante']\n",
            "['cuando', 'estés', 'muy', 'cerca', 'a', 'la', 'pared', 'pero', 'ni', 'te', 'alejas', 'más', 'ni', 'te', 'alejas', 'de', 'ella', 'gira', 'tu', 'rueda', 'izquierda', 'despacito', 'hacia', 'atrás', 'y', 'gira', 'tu', 'rueda', 'derecha', 'atrás', 'hacia', 'atrás']\n",
            "['cuando', 'estés', 'a', 'la', 'distancia', 'requerida', 'pero', 'te', 'estás', 'alejando', 'de', 'la', 'pared', 'gira', 'tu', 'rueda', 'izquierda', 'rápidamente', 'hacia', 'delante', 'y', 'gira', 'tu', 'rueda', 'derecha', 'muy', 'lento', 'hacia', 'atrás']\n",
            "['cuando', 'estés', 'lejos', 'de', 'la', 'pared', 'pero', 'ni', 'te', 'alejas', 'más', 'ni', 'te', 'acercas', 'a', 'ella', 'gira', 'tu', 'rueda', 'derecha', 'rápidamente', 'hacia', 'delante', 'y', 'gira', 'tu', 'rueda', 'izquierda', 'muy', 'hacia', 'atrás']\n",
            "['cuando', 'estés', 'lento', 'a', 'la', 'pared', 'pero', 'ni', 'te', 'acercas', 'más', 'ni', 'te', 'acercas', 'de', 'ella', 'gira', 'tu', 'rueda', 'izquierda', 'bastante', 'más', 'hacia', 'atrás', 'y', 'gira', 'tu', 'rueda', 'derecha', 'bastante', 'hacia', 'delante']\n",
            "['cuando', 'estés', 'a', 'la', 'distancia', 'requerida', 'y', 'ni', 'te', 'alejas', 'de', 'te', 'acercas', 'a', 'ella', 'gira', 'tu', 'rueda', 'izquierda', 'despacito', 'hacia', 'delante', 'y', 'gira', 'tu', 'rueda', 'derecha', 'despacito', 'hacia', 'delante']\n",
            "['cuando', 'estés', 'lejos', 'de', 'la', 'pared', 'pero', 'ni', 'te', 'alejas', 'más', 'ni', 'te', 'alejas', 'a', 'ella', 'gira', 'tu', 'rueda', 'derecha', 'rápidamente', 'hacia', 'delante', 'y', 'gira', 'tu', 'rueda', 'izquierda', 'muy', 'hacia', 'atrás']\n",
            "['cuando', 'estés', 'cerca', 'a', 'la', 'pared', 'y', 'te', 'estás', 'acercando', 'más', 'a', 'ella', 'gira', 'tu', 'rueda', 'izquierda', 'muy', 'rápido', 'hacia', 'atrás', 'y', 'gira', 'tu', 'rueda', 'derecha', 'muy', 'rápido', 'hacia', 'delante']\n",
            "['cuando', 'estés', 'cerca', 'a', 'la', 'pared', 'pero', 'ni', 'te', 'acercas', 'más', 'ni', 'te', 'alejas', 'de', 'ella', 'gira', 'tu', 'rueda', 'izquierda', 'bastante', 'rápido', 'hacia', 'atrás', 'y', 'gira', 'tu', 'rueda', 'derecha', 'bastante', 'hacia', 'delante']\n",
            "['cuando', 'estés', 'muy', 'cerca', 'a', 'la', 'pared', 'pero', 'ni', 'te', 'acercas', 'más', 'ni', 'te', 'alejas', 'de', 'ella', 'gira', 'tu', 'rueda', 'izquierda', 'atrás', 'hacia', 'atrás', 'y', 'gira', 'tu', 'rueda', 'derecha', 'atrás', 'hacia', 'atrás']\n",
            "['cuando', 'estés', 'a', 'la', 'distancia', 'requerida', 'pero', 'te', 'estás', 'alejando', 'de', 'la', 'pared', 'gira', 'tu', 'rueda', 'izquierda', 'rápidamente', 'hacia', 'delante', 'y', 'gira', 'tu', 'rueda', 'derecha', 'muy', 'lento', 'hacia', 'atrás']\n",
            "['cuando', 'estés', 'lejos', 'de', 'la', 'pared', 'y', 'te', 'estás', 'alejando', 'más', 'de', 'ella', 'gira', 'tu', 'rueda', 'izquierda', 'bastante', 'rápido', 'hacia', 'delante', 'y', 'gira', 'tu', 'rueda', 'derecha', 'despacito', 'hacia', 'atrás']\n",
            "['cuando', 'estés', 'a', 'la', 'distancia', 'requerida', 'pero', 'te', 'estás', 'alejando', 'de', 'la', 'pared', 'gira', 'tu', 'rueda', 'izquierda', 'rápidamente', 'hacia', 'delante', 'y', 'gira', 'tu', 'rueda', 'derecha', 'muy', 'lento', 'hacia', 'atrás']\n",
            "['cuando', 'estés', 'muy', 'lejos', 'de', 'la', 'pared', 'pero', 'ni', 'te', 'alejas', 'más', 'ni', 'te', 'acercas', 'a', 'ella', 'gira', 'tu', 'rueda', 'izquierda', 'bastante', 'rápido', 'hacia', 'gira', 'y', 'gira', 'tu', 'rueda', 'derecha', 'despacito', 'hacia', 'atrás']\n",
            "['cuando', 'estés', 'a', 'la', 'distancia', 'requerida', 'pero', 'te', 'estás', 'alejando', 'de', 'la', 'pared', 'gira', 'tu', 'rueda', 'izquierda', 'rápidamente', 'hacia', 'delante', 'y', 'gira', 'tu', 'rueda', 'derecha', 'muy', 'lento', 'hacia', 'atrás']\n",
            "['cuando', 'estés', 'muy', 'cerca', 'a', 'la', 'pared', 'pero', 'te', 'estás', 'alejando', 'de', 'ella', 'gira', 'tu', 'rueda', 'izquierda', 'despacito', 'hacia', 'atrás', 'y', 'gira', 'tu', 'rueda', 'derecha', 'ella', 'hacia', 'atrás']\n",
            "['cuando', 'estés', 'muy', 'lejos', 'de', 'la', 'pared', 'y', 'te', 'estás', 'alejando', 'aun', 'más', 'de', 'ella', 'gira', 'tu', 'rueda', 'izquierda', 'muy', 'rápido', 'hacia', 'delante', 'y', 'gira', 'tu', 'rueda', 'derecha', 'más', 'menos', 'menos', 'rápido', 'hacia', 'atrás']\n",
            "['cuando', 'estés', 'muy', 'lejos', 'de', 'la', 'pared', 'pero', 'te', 'estás', 'acercando', 'a', 'ella', 'gira', 'tu', 'rueda', 'izquierda', 'rápidamente', 'hacia', 'delante', 'y', 'gira', 'tu', 'rueda', 'derecha', 'muy', 'lento', 'hacia', 'atrás']\n",
            "['cuando', 'estés', 'muy', 'cerca', 'a', 'la', 'pared', 'pero', 'ni', 'te', 'alejas', 'rápido', 'ni', 'te', 'alejas', 'gira', 'ella', 'gira', 'tu', 'rueda', 'izquierda', 'acercas', 'hacia', 'atrás', 'y', 'gira', 'tu', 'rueda', 'derecha', 'atrás', 'hacia', 'atrás']\n",
            "['cuando', 'estés', 'cerca', 'a', 'la', 'pared', 'y', 'te', 'estás', 'acercando', 'más', 'a', 'ella', 'gira', 'tu', 'rueda', 'izquierda', 'muy', 'rápido', 'hacia', 'atrás', 'y', 'gira', 'tu', 'rueda', 'derecha', 'muy', 'rápido', 'hacia', 'delante']\n",
            "['cuando', 'estés', 'muy', 'cerca', 'a', 'la', 'pared', 'pero', 'ni', 'te', 'acercas', 'más', 'rápido', 'te', 'acercas', 'de', 'ella', 'gira', 'tu', 'rueda', 'izquierda', 'gira', 'hacia', 'atrás', 'y', 'gira', 'tu', 'rueda', 'derecha', 'despacito', 'hacia', 'atrás']\n",
            "['cuando', 'estés', 'muy', 'lejos', 'de', 'la', 'pared', 'pero', 'ni', 'te', 'alejas', 'más', 'ni', 'te', 'acercas', 'a', 'ella', 'gira', 'tu', 'rueda', 'izquierda', 'bastante', 'rápido', 'hacia', 'gira', 'y', 'gira', 'tu', 'rueda', 'derecha', 'despacito', 'hacia', 'atrás']\n",
            "['cuando', 'estés', 'muy', 'lejos', 'de', 'la', 'pared', 'y', 'te', 'estás', 'alejando', 'aun', 'más', 'de', 'ella', 'gira', 'tu', 'rueda', 'izquierda', 'muy', 'rápido', 'hacia', 'delante', 'y', 'gira', 'tu', 'rueda', 'derecha', 'más', 'menos', 'menos', 'rápido', 'hacia', 'atrás']\n",
            "['cuando', 'estés', 'a', 'la', 'distancia', 'requerida', 'pero', 'te', 'estás', 'alejando', 'de', 'la', 'pared', 'gira', 'tu', 'rueda', 'izquierda', 'rápidamente', 'hacia', 'delante', 'y', 'gira', 'tu', 'rueda', 'derecha', 'muy', 'lento', 'hacia', 'atrás']\n",
            "['cuando', 'estés', 'lento', 'a', 'la', 'pared', 'pero', 'ni', 'te', 'acercas', 'más', 'ni', 'te', 'acercas', 'de', 'ella', 'gira', 'tu', 'rueda', 'izquierda', 'bastante', 'más', 'hacia', 'atrás', 'y', 'gira', 'tu', 'rueda', 'derecha', 'bastante', 'hacia', 'delante']\n",
            "['cuando', 'estés', 'lejos', 'de', 'la', 'pared', 'pero', 'te', 'estás', 'acercando', 'a', 'ella', 'gira', 'tu', 'rueda', 'izquierda', 'medio', 'más', 'hacia', 'delante', 'y', 'gira', 'tu', 'rueda', 'derecha', 'muy', 'lento', 'hacia', 'delante']\n",
            "['cuando', 'estés', 'lejos', 'de', 'la', 'pared', 'pero', 'te', 'estás', 'acercando', 'a', 'ella', 'gira', 'tu', 'rueda', 'izquierda', 'medio', 'más', 'hacia', 'delante', 'y', 'gira', 'tu', 'rueda', 'derecha', 'muy', 'lento', 'hacia', 'delante']\n",
            "['cuando', 'estés', 'muy', 'cerca', 'a', 'la', 'pared', 'pero', 'ni', 'te', 'alejas', 'rápido', 'ni', 'te', 'alejas', 'gira', 'ella', 'gira', 'tu', 'rueda', 'izquierda', 'acercas', 'hacia', 'atrás', 'y', 'gira', 'tu', 'rueda', 'derecha', 'atrás', 'hacia', 'atrás']\n",
            "['cuando', 'estés', 'lejos', 'de', 'la', 'pared', 'pero', 'ni', 'te', 'alejas', 'más', 'ni', 'te', 'acercas', 'a', 'ella', 'gira', 'tu', 'rueda', 'derecha', 'rápidamente', 'hacia', 'delante', 'y', 'gira', 'tu', 'rueda', 'izquierda', 'muy', 'hacia', 'atrás']\n",
            "['cuando', 'estés', 'muy', 'lejos', 'de', 'la', 'pared', 'pero', 'te', 'estás', 'acercando', 'a', 'ella', 'gira', 'tu', 'rueda', 'izquierda', 'rápidamente', 'hacia', 'delante', 'y', 'gira', 'tu', 'rueda', 'derecha', 'muy', 'lento', 'hacia', 'atrás']\n",
            "['cuando', 'estés', 'cerca', 'a', 'la', 'pared', 'y', 'te', 'estás', 'acercando', 'más', 'a', 'ella', 'gira', 'tu', 'rueda', 'izquierda', 'muy', 'rápido', 'hacia', 'atrás', 'y', 'gira', 'tu', 'rueda', 'derecha', 'muy', 'rápido', 'hacia', 'delante']\n",
            "['cuando', 'estés', 'lejos', 'de', 'la', 'pared', 'pero', 'ni', 'te', 'acercas', 'más', 'ni', 'te', 'acercas', 'tu', 'ella', 'gira', 'tu', 'hacia', 'derecha', 'bastante', 'hacia', 'gira', 'y', 'derecha', 'tu', 'rueda', 'derecha', 'muy']\n",
            "['cuando', 'estés', 'muy', 'cerca', 'a', 'la', 'pared', 'pero', 'ni', 'te', 'alejas', 'rápido', 'ni', 'te', 'alejas', 'gira', 'ella', 'gira', 'tu', 'rueda', 'izquierda', 'acercas', 'hacia', 'atrás', 'y', 'gira', 'tu', 'rueda', 'derecha', 'atrás', 'hacia', 'atrás']\n",
            "['cuando', 'estés', 'lento', 'a', 'la', 'pared', 'pero', 'ni', 'te', 'acercas', 'más', 'ni', 'te', 'acercas', 'de', 'ella', 'gira', 'tu', 'rueda', 'izquierda', 'bastante', 'y', 'hacia', 'atrás', 'y', 'gira', 'tu', 'rueda', 'derecha', 'bastante', 'hacia', 'delante']\n"
          ]
        }
      ],
      "source": [
        "frasestest = predictions(preds)\n",
        "for i in range(len(frasestest)-1):\n",
        "    print(frasestest[i])"
      ]
    },
    {
      "cell_type": "code",
      "execution_count": 59,
      "metadata": {},
      "outputs": [],
      "source": [
        "torch.save(model.state_dict(), 'Modelos\\pytorch_lim_vocab\\seq2seqLSTM_model.pt')"
      ]
    },
    {
      "cell_type": "code",
      "execution_count": 66,
      "metadata": {},
      "outputs": [],
      "source": [
        "model.eval()\n",
        "test_in = torch.tensor(X_test[0].reshape(1,1,4)).float()\n",
        "dec_test_in = torch.tensor(z_test[0]).long().unsqueeze(0)"
      ]
    },
    {
      "cell_type": "code",
      "execution_count": 67,
      "metadata": {},
      "outputs": [
        {
          "data": {
            "text/plain": [
              "(torch.Size([1, 1, 4]), torch.Size([1, 41]))"
            ]
          },
          "execution_count": 67,
          "metadata": {},
          "output_type": "execute_result"
        }
      ],
      "source": [
        "test_in.shape, dec_test_in.shape"
      ]
    },
    {
      "cell_type": "code",
      "execution_count": 73,
      "metadata": {},
      "outputs": [
        {
          "name": "stdout",
          "output_type": "stream",
          "text": [
            "tensor([[10, 11,  7,  8, 34, 35, 20,  5, 21, 29, 18,  8, 16,  1,  2,  3, 12, 32,\n",
            "          4, 14,  6,  1,  2,  3, 13, 15, 26,  4,  9,  0,  0,  0,  0,  0,  0,  0,\n",
            "          0,  0,  0,  0,  0]])\n"
          ]
        }
      ],
      "source": [
        "# Hacer predicciones con el modelo cargado\n",
        "with torch.no_grad():\n",
        "    predictions = model(test_in, dec_test_in)\n",
        "    _, predicts = torch.max(predictions.data, 1)\n",
        "    \n",
        "\n",
        "# Imprimir las predicciones\n",
        "print(predicts)"
      ]
    },
    {
      "cell_type": "code",
      "execution_count": 75,
      "metadata": {},
      "outputs": [],
      "source": [
        "predicciones_finales = predictions(predicts.numpy())"
      ]
    },
    {
      "cell_type": "code",
      "execution_count": 76,
      "metadata": {},
      "outputs": [
        {
          "data": {
            "text/plain": [
              "[['cuando',\n",
              "  'estés',\n",
              "  'a',\n",
              "  'la',\n",
              "  'distancia',\n",
              "  'requerida',\n",
              "  'pero',\n",
              "  'te',\n",
              "  'estás',\n",
              "  'alejando',\n",
              "  'de',\n",
              "  'la',\n",
              "  'pared',\n",
              "  'gira',\n",
              "  'tu',\n",
              "  'rueda',\n",
              "  'izquierda',\n",
              "  'rápidamente',\n",
              "  'hacia',\n",
              "  'delante',\n",
              "  'y',\n",
              "  'gira',\n",
              "  'tu',\n",
              "  'rueda',\n",
              "  'derecha',\n",
              "  'muy',\n",
              "  'lento',\n",
              "  'hacia',\n",
              "  'atrás']]"
            ]
          },
          "execution_count": 76,
          "metadata": {},
          "output_type": "execute_result"
        }
      ],
      "source": [
        "predicciones_finales"
      ]
    }
  ],
  "metadata": {
    "accelerator": "GPU",
    "colab": {
      "provenance": []
    },
    "gpuClass": "standard",
    "kernelspec": {
      "display_name": "deepLearning",
      "language": "python",
      "name": "python3"
    },
    "language_info": {
      "codemirror_mode": {
        "name": "ipython",
        "version": 3
      },
      "file_extension": ".py",
      "mimetype": "text/x-python",
      "name": "python",
      "nbconvert_exporter": "python",
      "pygments_lexer": "ipython3",
      "version": "3.9.16"
    },
    "vscode": {
      "interpreter": {
        "hash": "2b41b25ee1e44cae6d514ffd9667bc76b20c566b16ce2b68cdb08e6b78e7fb09"
      }
    }
  },
  "nbformat": 4,
  "nbformat_minor": 0
}
