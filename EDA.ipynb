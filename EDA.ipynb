{
 "cells": [
  {
   "cell_type": "code",
   "execution_count": 1,
   "metadata": {},
   "outputs": [],
   "source": [
    "from scipy import stats\n",
    "import numpy as np\n",
    "import pandas as pd\n",
    "import sklearn\n",
    "import seaborn as sns\n",
    "import matplotlib.pyplot as plt"
   ]
  },
  {
   "cell_type": "code",
   "execution_count": 3,
   "metadata": {},
   "outputs": [
    {
     "data": {
      "text/html": [
       "<div>\n",
       "<style scoped>\n",
       "    .dataframe tbody tr th:only-of-type {\n",
       "        vertical-align: middle;\n",
       "    }\n",
       "\n",
       "    .dataframe tbody tr th {\n",
       "        vertical-align: top;\n",
       "    }\n",
       "\n",
       "    .dataframe thead th {\n",
       "        text-align: right;\n",
       "    }\n",
       "</style>\n",
       "<table border=\"1\" class=\"dataframe\">\n",
       "  <thead>\n",
       "    <tr style=\"text-align: right;\">\n",
       "      <th></th>\n",
       "      <th>P</th>\n",
       "      <th>D</th>\n",
       "      <th>L</th>\n",
       "      <th>R</th>\n",
       "      <th>P_fuzzy_set</th>\n",
       "      <th>P_membership</th>\n",
       "      <th>D_fuzzy_set</th>\n",
       "      <th>D_membership</th>\n",
       "      <th>L_fuzzy_set</th>\n",
       "      <th>L_membership</th>\n",
       "      <th>R_fuzzy_set</th>\n",
       "      <th>R_membership</th>\n",
       "      <th>CAT</th>\n",
       "    </tr>\n",
       "  </thead>\n",
       "  <tbody>\n",
       "    <tr>\n",
       "      <th>0</th>\n",
       "      <td>-0.344708</td>\n",
       "      <td>0.267949</td>\n",
       "      <td>50.949905</td>\n",
       "      <td>24.525778</td>\n",
       "      <td>lejos</td>\n",
       "      <td>0.861770</td>\n",
       "      <td>acercandose</td>\n",
       "      <td>1.0</td>\n",
       "      <td>medio rápido hacia delante</td>\n",
       "      <td>0.905009</td>\n",
       "      <td>despacito hacia delante</td>\n",
       "      <td>0.726289</td>\n",
       "      <td>Cuando estés lejos de la pared, pero te estás ...</td>\n",
       "    </tr>\n",
       "    <tr>\n",
       "      <th>1</th>\n",
       "      <td>-0.512704</td>\n",
       "      <td>-0.725829</td>\n",
       "      <td>90.972135</td>\n",
       "      <td>-53.639732</td>\n",
       "      <td>lejos</td>\n",
       "      <td>0.812159</td>\n",
       "      <td>alejandose</td>\n",
       "      <td>1.0</td>\n",
       "      <td>muy rápido hacia delante</td>\n",
       "      <td>1.000000</td>\n",
       "      <td>más o menos rápido hacia atrás</td>\n",
       "      <td>0.659007</td>\n",
       "      <td>Cuando estés lejos de la pared, y te estás ale...</td>\n",
       "    </tr>\n",
       "  </tbody>\n",
       "</table>\n",
       "</div>"
      ],
      "text/plain": [
       "          P         D          L          R P_fuzzy_set  P_membership  \\\n",
       "0 -0.344708  0.267949  50.949905  24.525778       lejos      0.861770   \n",
       "1 -0.512704 -0.725829  90.972135 -53.639732       lejos      0.812159   \n",
       "\n",
       "   D_fuzzy_set  D_membership                 L_fuzzy_set  L_membership  \\\n",
       "0  acercandose           1.0  medio rápido hacia delante      0.905009   \n",
       "1   alejandose           1.0    muy rápido hacia delante      1.000000   \n",
       "\n",
       "                      R_fuzzy_set  R_membership  \\\n",
       "0         despacito hacia delante      0.726289   \n",
       "1  más o menos rápido hacia atrás      0.659007   \n",
       "\n",
       "                                                 CAT  \n",
       "0  Cuando estés lejos de la pared, pero te estás ...  \n",
       "1  Cuando estés lejos de la pared, y te estás ale...  "
      ]
     },
     "execution_count": 3,
     "metadata": {},
     "output_type": "execute_result"
    }
   ],
   "source": [
    "df = pd.read_csv('data\\dataset.csv')\n",
    "df.head(2)"
   ]
  },
  {
   "cell_type": "code",
   "execution_count": null,
   "metadata": {},
   "outputs": [],
   "source": [
    "sns.pairplot(data=df, hue='CAT',palette='Paired', diag_kind=None)"
   ]
  },
  {
   "cell_type": "code",
   "execution_count": null,
   "metadata": {},
   "outputs": [],
   "source": [
    "plt.figure()\n",
    "cor = df.corr()\n",
    "sns.heatmap(cor, annot=True, cmap=plt.cm.bwr, vmin=-1, vmax=1)\n",
    "plt.show()"
   ]
  }
 ],
 "metadata": {
  "kernelspec": {
   "display_name": "deepLearning",
   "language": "python",
   "name": "python3"
  },
  "language_info": {
   "codemirror_mode": {
    "name": "ipython",
    "version": 3
   },
   "file_extension": ".py",
   "mimetype": "text/x-python",
   "name": "python",
   "nbconvert_exporter": "python",
   "pygments_lexer": "ipython3",
   "version": "3.9.16"
  },
  "orig_nbformat": 4,
  "vscode": {
   "interpreter": {
    "hash": "2b41b25ee1e44cae6d514ffd9667bc76b20c566b16ce2b68cdb08e6b78e7fb09"
   }
  }
 },
 "nbformat": 4,
 "nbformat_minor": 2
}
