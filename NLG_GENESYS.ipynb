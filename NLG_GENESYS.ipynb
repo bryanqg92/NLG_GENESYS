{
  "cells": [
    {
      "cell_type": "code",
      "source": [
        "from google.colab import drive\n",
        "drive.mount('/content/drive')"
      ],
      "metadata": {
        "colab": {
          "base_uri": "https://localhost:8080/"
        },
        "id": "vFH7RZJIIkT9",
        "outputId": "6c1631ac-ad15-479b-d24f-559c12b2bc1f"
      },
      "execution_count": null,
      "outputs": [
        {
          "output_type": "stream",
          "name": "stdout",
          "text": [
            "Drive already mounted at /content/drive; to attempt to forcibly remount, call drive.mount(\"/content/drive\", force_remount=True).\n"
          ]
        }
      ]
    },
    {
      "cell_type": "code",
      "source": [
        "import pandas as pd\n",
        "import tensorflow as tf\n",
        "import numpy as np"
      ],
      "metadata": {
        "id": "YvxTjRjX9tPt"
      },
      "execution_count": null,
      "outputs": []
    },
    {
      "cell_type": "code",
      "execution_count": null,
      "metadata": {
        "colab": {
          "base_uri": "https://localhost:8080/"
        },
        "id": "AQgynOSEpSI9",
        "outputId": "fc48c9e8-86b5-4b02-c90f-ad4a7c3dae8a"
      },
      "outputs": [
        {
          "output_type": "stream",
          "name": "stdout",
          "text": [
            "          P         D          L          R P_fuzzy_set  P_membership  \\\n",
            "0 -0.344708  0.267949  50.949905  24.525778       lejos      0.861770   \n",
            "1 -0.512704 -0.725829  90.972135 -53.639732       lejos      0.812159   \n",
            "2  0.388981 -0.031825 -49.601000  63.894966       cerca      0.972454   \n",
            "3 -0.918004 -0.325898  92.482375 -50.164266   muy lejos      0.863339   \n",
            "4  0.046981 -0.488745  51.090865  -2.041475          ok      0.882547   \n",
            "\n",
            "   D_fuzzy_set  D_membership                     L_fuzzy_set  L_membership  \\\n",
            "0  acercandose      1.000000      medio rápido hacia delante      0.905009   \n",
            "1   alejandose      1.000000        muy rápido hacia delante      1.000000   \n",
            "2   sin cambio      0.840877  más o menos rápido hacia atrás      0.759975   \n",
            "3   alejandose      1.000000        muy rápido hacia delante      1.000000   \n",
            "4   alejandose      1.000000      medio rápido hacia delante      0.890913   \n",
            "\n",
            "                      R_fuzzy_set  R_membership  \\\n",
            "0         despacito hacia delante      0.726289   \n",
            "1  más o menos rápido hacia atrás      0.659007   \n",
            "2       rápidamente hacia delante      0.805252   \n",
            "3  más o menos rápido hacia atrás      0.745893   \n",
            "4           muy lento hacia atrás      0.602074   \n",
            "\n",
            "                                                 CAT  \n",
            "0  Cuando estés lejos de la pared, pero te estás ...  \n",
            "1  Cuando estés lejos de la pared, y te estás ale...  \n",
            "2  Cuando estés cerca a la pared, pero ni te acer...  \n",
            "3  Cuando estés muy lejos de la pared, y te estás...  \n",
            "4  Cuando estés a la distancia requerida, pero te...  \n"
          ]
        }
      ],
      "source": [
        "# Cargar el dataset\n",
        "data = pd.read_csv('/content/drive/MyDrive/UBA/Trabajo de grado/dataset.csv')\n",
        "\n",
        "  # Mostrar las primeras filas del dataset\n",
        "print(data.head())"
      ]
    },
    {
      "cell_type": "code",
      "execution_count": null,
      "metadata": {
        "id": "WswYTwlggrlG"
      },
      "outputs": [],
      "source": [
        "with open('/content/drive/MyDrive/UBA/Trabajo de grado/corpus.txt', 'r', encoding='utf-8') as f:\n",
        "    contenido = f.read().replace('\\n','')"
      ]
    },
    {
      "cell_type": "code",
      "execution_count": null,
      "metadata": {
        "id": "kpic9ASVgrlE"
      },
      "outputs": [],
      "source": [
        "X = data[['P','D','L','R',]]\n",
        "y = data['CAT']\n",
        "z = data[['P_fuzzy_set', 'D_fuzzy_set', 'L_fuzzy_set', 'R_fuzzy_set']].apply(lambda x: ' '.join(x), axis=1)"
      ]
    },
    {
      "cell_type": "code",
      "execution_count": null,
      "metadata": {
        "id": "RTEQp3BugrlH"
      },
      "outputs": [],
      "source": [
        "from tensorflow.keras.preprocessing.text import Tokenizer\n",
        "\n",
        "tokenizer = Tokenizer()\n",
        "tokenizer.fit_on_texts([contenido])\n",
        "num_decoder_tokens = len(tokenizer.word_index) + 1\n",
        "y_tokenized = tokenizer.texts_to_sequences(y)"
      ]
    },
    {
      "cell_type": "code",
      "execution_count": null,
      "metadata": {
        "id": "_jxPUXh9rH4Q"
      },
      "outputs": [],
      "source": [
        "from sklearn.model_selection import train_test_split\n",
        "\n",
        "# Dividir los datos en conjunto de entrenamiento y prueba\n",
        "X_train, X_test, y_train, y_test = train_test_split(X, y_tokenized, test_size=0.2, random_state=42)\n",
        "\n",
        "# Dividir el conjunto de entrenamiento en conjunto de entrenamiento y validación\n",
        "X_train, X_val, y_train, y_val = train_test_split(X_train, y_train, test_size=0.25, random_state=42)\n",
        "\n",
        "# Obtener el índice de las filas de X_train, X_val y X_test\n",
        "idx_train = X_train.index\n",
        "idx_val = X_val.index\n",
        "idx_test = X_test.index\n"
      ]
    },
    {
      "cell_type": "code",
      "execution_count": null,
      "metadata": {
        "id": "DIILcf0OgrlK"
      },
      "outputs": [],
      "source": [
        "# Dividir z en z_train, z_val y z_test\n",
        "z_train = z.loc[idx_train].values\n",
        "z_val = z.loc[idx_val].values\n",
        "z_test = z.loc[idx_test].values"
      ]
    },
    {
      "cell_type": "code",
      "execution_count": null,
      "metadata": {
        "id": "WBPQXyS2qttQ"
      },
      "outputs": [],
      "source": [
        "z_train = tokenizer.texts_to_sequences(z_train)\n",
        "z_val = tokenizer.texts_to_sequences(z_val)\n",
        "z_test = tokenizer.texts_to_sequences(z_test)\n"
      ]
    },
    {
      "cell_type": "code",
      "execution_count": null,
      "metadata": {
        "id": "JwRtZWu3grlO"
      },
      "outputs": [],
      "source": [
        "X_train = X_train[['P','D','L','R']].values\n",
        "X_val = X_val[['P','D','L','R']].values\n",
        "X_test = X_test[['P','D','L','R']].values"
      ]
    },
    {
      "cell_type": "code",
      "source": [
        "from sklearn.preprocessing import StandardScaler\n",
        "\n",
        "# Ajusta las columnas numéricas con StandardScaler\n",
        "scaler_values = StandardScaler()\n",
        "\n",
        "scaler_values.fit(X_train)"
      ],
      "metadata": {
        "id": "O_yu_i2Usgz5",
        "colab": {
          "base_uri": "https://localhost:8080/",
          "height": 75
        },
        "outputId": "63634ba1-1bb0-4213-ce9e-f7098fb8c4be"
      },
      "execution_count": null,
      "outputs": [
        {
          "output_type": "execute_result",
          "data": {
            "text/plain": [
              "StandardScaler()"
            ],
            "text/html": [
              "<style>#sk-container-id-1 {color: black;background-color: white;}#sk-container-id-1 pre{padding: 0;}#sk-container-id-1 div.sk-toggleable {background-color: white;}#sk-container-id-1 label.sk-toggleable__label {cursor: pointer;display: block;width: 100%;margin-bottom: 0;padding: 0.3em;box-sizing: border-box;text-align: center;}#sk-container-id-1 label.sk-toggleable__label-arrow:before {content: \"▸\";float: left;margin-right: 0.25em;color: #696969;}#sk-container-id-1 label.sk-toggleable__label-arrow:hover:before {color: black;}#sk-container-id-1 div.sk-estimator:hover label.sk-toggleable__label-arrow:before {color: black;}#sk-container-id-1 div.sk-toggleable__content {max-height: 0;max-width: 0;overflow: hidden;text-align: left;background-color: #f0f8ff;}#sk-container-id-1 div.sk-toggleable__content pre {margin: 0.2em;color: black;border-radius: 0.25em;background-color: #f0f8ff;}#sk-container-id-1 input.sk-toggleable__control:checked~div.sk-toggleable__content {max-height: 200px;max-width: 100%;overflow: auto;}#sk-container-id-1 input.sk-toggleable__control:checked~label.sk-toggleable__label-arrow:before {content: \"▾\";}#sk-container-id-1 div.sk-estimator input.sk-toggleable__control:checked~label.sk-toggleable__label {background-color: #d4ebff;}#sk-container-id-1 div.sk-label input.sk-toggleable__control:checked~label.sk-toggleable__label {background-color: #d4ebff;}#sk-container-id-1 input.sk-hidden--visually {border: 0;clip: rect(1px 1px 1px 1px);clip: rect(1px, 1px, 1px, 1px);height: 1px;margin: -1px;overflow: hidden;padding: 0;position: absolute;width: 1px;}#sk-container-id-1 div.sk-estimator {font-family: monospace;background-color: #f0f8ff;border: 1px dotted black;border-radius: 0.25em;box-sizing: border-box;margin-bottom: 0.5em;}#sk-container-id-1 div.sk-estimator:hover {background-color: #d4ebff;}#sk-container-id-1 div.sk-parallel-item::after {content: \"\";width: 100%;border-bottom: 1px solid gray;flex-grow: 1;}#sk-container-id-1 div.sk-label:hover label.sk-toggleable__label {background-color: #d4ebff;}#sk-container-id-1 div.sk-serial::before {content: \"\";position: absolute;border-left: 1px solid gray;box-sizing: border-box;top: 0;bottom: 0;left: 50%;z-index: 0;}#sk-container-id-1 div.sk-serial {display: flex;flex-direction: column;align-items: center;background-color: white;padding-right: 0.2em;padding-left: 0.2em;position: relative;}#sk-container-id-1 div.sk-item {position: relative;z-index: 1;}#sk-container-id-1 div.sk-parallel {display: flex;align-items: stretch;justify-content: center;background-color: white;position: relative;}#sk-container-id-1 div.sk-item::before, #sk-container-id-1 div.sk-parallel-item::before {content: \"\";position: absolute;border-left: 1px solid gray;box-sizing: border-box;top: 0;bottom: 0;left: 50%;z-index: -1;}#sk-container-id-1 div.sk-parallel-item {display: flex;flex-direction: column;z-index: 1;position: relative;background-color: white;}#sk-container-id-1 div.sk-parallel-item:first-child::after {align-self: flex-end;width: 50%;}#sk-container-id-1 div.sk-parallel-item:last-child::after {align-self: flex-start;width: 50%;}#sk-container-id-1 div.sk-parallel-item:only-child::after {width: 0;}#sk-container-id-1 div.sk-dashed-wrapped {border: 1px dashed gray;margin: 0 0.4em 0.5em 0.4em;box-sizing: border-box;padding-bottom: 0.4em;background-color: white;}#sk-container-id-1 div.sk-label label {font-family: monospace;font-weight: bold;display: inline-block;line-height: 1.2em;}#sk-container-id-1 div.sk-label-container {text-align: center;}#sk-container-id-1 div.sk-container {/* jupyter's `normalize.less` sets `[hidden] { display: none; }` but bootstrap.min.css set `[hidden] { display: none !important; }` so we also need the `!important` here to be able to override the default hidden behavior on the sphinx rendered scikit-learn.org. See: https://github.com/scikit-learn/scikit-learn/issues/21755 */display: inline-block !important;position: relative;}#sk-container-id-1 div.sk-text-repr-fallback {display: none;}</style><div id=\"sk-container-id-1\" class=\"sk-top-container\"><div class=\"sk-text-repr-fallback\"><pre>StandardScaler()</pre><b>In a Jupyter environment, please rerun this cell to show the HTML representation or trust the notebook. <br />On GitHub, the HTML representation is unable to render, please try loading this page with nbviewer.org.</b></div><div class=\"sk-container\" hidden><div class=\"sk-item\"><div class=\"sk-estimator sk-toggleable\"><input class=\"sk-toggleable__control sk-hidden--visually\" id=\"sk-estimator-id-1\" type=\"checkbox\" checked><label for=\"sk-estimator-id-1\" class=\"sk-toggleable__label sk-toggleable__label-arrow\">StandardScaler</label><div class=\"sk-toggleable__content\"><pre>StandardScaler()</pre></div></div></div></div></div>"
            ]
          },
          "metadata": {},
          "execution_count": 11
        }
      ]
    },
    {
      "cell_type": "code",
      "source": [
        "X_train_scaled = scaler_values.transform(X_train)\n",
        "X_val_scaled =scaler_values.transform(X_val)\n",
        "X_test_scaled =scaler_values.transform(X_test)"
      ],
      "metadata": {
        "id": "vX_8qyCFbKsg"
      },
      "execution_count": null,
      "outputs": []
    },
    {
      "cell_type": "code",
      "source": [
        "max_len = max(len(s) for s in y_tokenized)"
      ],
      "metadata": {
        "id": "nSg0LnJEbN4q"
      },
      "execution_count": null,
      "outputs": []
    },
    {
      "cell_type": "code",
      "source": [
        "from tensorflow.keras.preprocessing.sequence import pad_sequences\n",
        "\n",
        "\n",
        "y_train = pad_sequences(y_train, maxlen=num_decoder_tokens, padding='post', truncating='post')\n",
        "y_val = pad_sequences(y_val, maxlen=num_decoder_tokens, padding='post', truncating='post')\n",
        "y_test = pad_sequences(y_test, maxlen=num_decoder_tokens, padding='post', truncating='post')\n",
        "z_train = pad_sequences(z_train, maxlen=num_decoder_tokens, padding='post', truncating='post')\n",
        "z_val = pad_sequences(z_val, maxlen=num_decoder_tokens, padding='post', truncating='post')\n",
        "z_test = pad_sequences(z_test, maxlen=num_decoder_tokens, padding='post', truncating='post')"
      ],
      "metadata": {
        "id": "rZzaOcRk885I"
      },
      "execution_count": null,
      "outputs": []
    },
    {
      "cell_type": "code",
      "source": [
        "print('tamaño X train_scaled', X_train_scaled.shape)\n",
        "print('tamaño y train', y_train.shape)\n",
        "print('tamaño z train', z_train.shape)\n",
        "\n",
        "\n",
        "print('tamaño X val_scaled', X_val_scaled.shape)\n",
        "print('tamaño y val', y_val.shape)\n",
        "print('tamaño z val_scaled', z_val.shape)\n",
        "\n",
        "print('tamaño X test_scaled', X_test_scaled.shape)\n",
        "print('tamaño y test', y_test.shape)\n",
        "print('tamaño z test', z_test.shape)"
      ],
      "metadata": {
        "colab": {
          "base_uri": "https://localhost:8080/"
        },
        "id": "BzzSmRNU8--y",
        "outputId": "2a94a001-e5ec-406f-b671-48c8311550db"
      },
      "execution_count": null,
      "outputs": [
        {
          "output_type": "stream",
          "name": "stdout",
          "text": [
            "tamaño X train_scaled (5999, 4)\n",
            "tamaño y train (5999, 107)\n",
            "tamaño z train (5999, 107)\n",
            "tamaño X val_scaled (2000, 4)\n",
            "tamaño y val (2000, 107)\n",
            "tamaño z val_scaled (2000, 107)\n",
            "tamaño X test_scaled (2000, 4)\n",
            "tamaño y test (2000, 107)\n",
            "tamaño z test (2000, 107)\n"
          ]
        }
      ]
    },
    {
      "cell_type": "code",
      "source": [
        "from keras.callbacks import ModelCheckpoint, EarlyStopping\n",
        "\n",
        "# Definir callbacks\n",
        "callbacks = [\n",
        "    #ModelCheckpoint(filepath='modelo_ep{epoch:02d}_loss{val_loss:.4f}.h5',\n",
        "    #                monitor='val_loss',\n",
        "    #                save_best_only=True,\n",
        "    #                mode='min',\n",
        "    #                save_weights_only=True,\n",
        "    #                verbose=1),\n",
        "    EarlyStopping(monitor='val_loss',\n",
        "                  patience=4,\n",
        "                  verbose=1)\n",
        "]"
      ],
      "metadata": {
        "id": "gojuZuRSPzif"
      },
      "execution_count": null,
      "outputs": []
    },
    {
      "cell_type": "code",
      "source": [
        "from tensorflow.keras.models import Model\n",
        "from tensorflow.keras.layers import Input, LSTM, Dense, Embedding\n",
        "\n",
        "# Definir dimension de entrada para el encoder\n",
        "encoder_inputs = Input(shape=(1, 4))\n",
        "\n",
        "# Capa LSTM  en el encoder\n",
        "encoder_lstm = LSTM(64, return_state=True)\n",
        "encoder_output, state_h, state_c = encoder_lstm(encoder_inputs)\n",
        "\n",
        "# Se descartan las salidas del encoder y solo se toman los estados\n",
        "encoder_states = [state_h, state_c]\n"
      ],
      "metadata": {
        "id": "IdMUaVqr9CHV"
      },
      "execution_count": null,
      "outputs": []
    },
    {
      "cell_type": "code",
      "source": [
        "# Definir dimension de entrada para el decoder\n",
        "decoder_inputs = Input(shape=(None,))\n",
        "\n",
        "# Capa de embedding en el decoder\n",
        "decoder_embedding = Embedding(num_decoder_tokens, output_dim=100)\n",
        "decoder_inputs_embedded = decoder_embedding(decoder_inputs)\n",
        "\n",
        "# Capa LSTM 1 en el decoder, con los estados del encoder como inicialización\n",
        "decoder_lstm1 = LSTM(64, return_sequences=True, return_state=True)\n",
        "decoder_outputs, _, _ = decoder_lstm1(decoder_inputs_embedded, initial_state=encoder_states)\n",
        "\n",
        "# Capa densa con activación softmax en el output\n",
        "decoder_dense = Dense(num_decoder_tokens, activation='softmax')\n",
        "decoder_outputs = decoder_dense(decoder_outputs)\n",
        "\n",
        "# Definir modelo encoder-decoder\n",
        "model = Model([encoder_inputs, decoder_inputs], decoder_outputs)\n",
        "\n",
        "# Compilar el modelo\n",
        "model.compile(optimizer='adam', loss='sparse_categorical_crossentropy')\n"
      ],
      "metadata": {
        "id": "khJ6FAdw9EAa"
      },
      "execution_count": null,
      "outputs": []
    },
    {
      "cell_type": "code",
      "source": [
        "history = model.fit([X_train_scaled.reshape(5999,1,4), z_train], \n",
        "    y_train.reshape(y_train.shape[0], y_train.shape[1], 1),\n",
        "     batch_size=128, \n",
        "     epochs=120, \n",
        "     validation_data=([X_val_scaled.reshape(X_val.shape[0],1,4), z_val], y_val.reshape(y_val.shape[0], y_val.shape[1], 1)))\n",
        "\n",
        "loss = history.history['loss']\n",
        "val_loss = history.history['val_loss']"
      ],
      "metadata": {
        "colab": {
          "base_uri": "https://localhost:8080/"
        },
        "id": "MGLgFLTP9Gch",
        "outputId": "1bcb46e3-a157-4884-e0ae-181d7e380bc6"
      },
      "execution_count": null,
      "outputs": [
        {
          "output_type": "stream",
          "name": "stdout",
          "text": [
            "Epoch 1/120\n",
            "47/47 [==============================] - 7s 32ms/step - loss: 2.5370 - val_loss: 1.4206\n",
            "Epoch 2/120\n",
            "47/47 [==============================] - 1s 11ms/step - loss: 1.3519 - val_loss: 1.2667\n",
            "Epoch 3/120\n",
            "47/47 [==============================] - 1s 11ms/step - loss: 1.1224 - val_loss: 1.0089\n",
            "Epoch 4/120\n",
            "47/47 [==============================] - 1s 11ms/step - loss: 0.9385 - val_loss: 0.8776\n",
            "Epoch 5/120\n",
            "47/47 [==============================] - 1s 12ms/step - loss: 0.8376 - val_loss: 0.8019\n",
            "Epoch 6/120\n",
            "47/47 [==============================] - 1s 15ms/step - loss: 0.7714 - val_loss: 0.7401\n",
            "Epoch 7/120\n",
            "47/47 [==============================] - 1s 17ms/step - loss: 0.7042 - val_loss: 0.6689\n",
            "Epoch 8/120\n",
            "47/47 [==============================] - 1s 12ms/step - loss: 0.6351 - val_loss: 0.5998\n",
            "Epoch 9/120\n",
            "47/47 [==============================] - 1s 14ms/step - loss: 0.5726 - val_loss: 0.5501\n",
            "Epoch 10/120\n",
            "47/47 [==============================] - 1s 15ms/step - loss: 0.5226 - val_loss: 0.4978\n",
            "Epoch 11/120\n",
            "47/47 [==============================] - 1s 11ms/step - loss: 0.4823 - val_loss: 0.4624\n",
            "Epoch 12/120\n",
            "47/47 [==============================] - 1s 11ms/step - loss: 0.4475 - val_loss: 0.4286\n",
            "Epoch 13/120\n",
            "47/47 [==============================] - 1s 11ms/step - loss: 0.4148 - val_loss: 0.3993\n",
            "Epoch 14/120\n",
            "47/47 [==============================] - 1s 13ms/step - loss: 0.3894 - val_loss: 0.3731\n",
            "Epoch 15/120\n",
            "47/47 [==============================] - 1s 11ms/step - loss: 0.3638 - val_loss: 0.3502\n",
            "Epoch 16/120\n",
            "47/47 [==============================] - 1s 11ms/step - loss: 0.3409 - val_loss: 0.3297\n",
            "Epoch 17/120\n",
            "47/47 [==============================] - 1s 12ms/step - loss: 0.3217 - val_loss: 0.3115\n",
            "Epoch 18/120\n",
            "47/47 [==============================] - 1s 15ms/step - loss: 0.3023 - val_loss: 0.2919\n",
            "Epoch 19/120\n",
            "47/47 [==============================] - 1s 16ms/step - loss: 0.2853 - val_loss: 0.2804\n",
            "Epoch 20/120\n",
            "47/47 [==============================] - 1s 15ms/step - loss: 0.2691 - val_loss: 0.2587\n",
            "Epoch 21/120\n",
            "47/47 [==============================] - 1s 15ms/step - loss: 0.2556 - val_loss: 0.2471\n",
            "Epoch 22/120\n",
            "47/47 [==============================] - 1s 13ms/step - loss: 0.2387 - val_loss: 0.2329\n",
            "Epoch 23/120\n",
            "47/47 [==============================] - 1s 13ms/step - loss: 0.2255 - val_loss: 0.2175\n",
            "Epoch 24/120\n",
            "47/47 [==============================] - 1s 11ms/step - loss: 0.2134 - val_loss: 0.2079\n",
            "Epoch 25/120\n",
            "47/47 [==============================] - 1s 13ms/step - loss: 0.2011 - val_loss: 0.1945\n",
            "Epoch 26/120\n",
            "47/47 [==============================] - 1s 11ms/step - loss: 0.1901 - val_loss: 0.1865\n",
            "Epoch 27/120\n",
            "47/47 [==============================] - 1s 13ms/step - loss: 0.1797 - val_loss: 0.1710\n",
            "Epoch 28/120\n",
            "47/47 [==============================] - 1s 11ms/step - loss: 0.1676 - val_loss: 0.1622\n",
            "Epoch 29/120\n",
            "47/47 [==============================] - 1s 11ms/step - loss: 0.1586 - val_loss: 0.1575\n",
            "Epoch 30/120\n",
            "47/47 [==============================] - 1s 11ms/step - loss: 0.1540 - val_loss: 0.1442\n",
            "Epoch 31/120\n",
            "47/47 [==============================] - 1s 11ms/step - loss: 0.1444 - val_loss: 0.1357\n",
            "Epoch 32/120\n",
            "47/47 [==============================] - 1s 12ms/step - loss: 0.1317 - val_loss: 0.1295\n",
            "Epoch 33/120\n",
            "47/47 [==============================] - 1s 11ms/step - loss: 0.1252 - val_loss: 0.1210\n",
            "Epoch 34/120\n",
            "47/47 [==============================] - 1s 11ms/step - loss: 0.1179 - val_loss: 0.1161\n",
            "Epoch 35/120\n",
            "47/47 [==============================] - 1s 11ms/step - loss: 0.1110 - val_loss: 0.1076\n",
            "Epoch 36/120\n",
            "47/47 [==============================] - 1s 13ms/step - loss: 0.1042 - val_loss: 0.1010\n",
            "Epoch 37/120\n",
            "47/47 [==============================] - 1s 11ms/step - loss: 0.0987 - val_loss: 0.0965\n",
            "Epoch 38/120\n",
            "47/47 [==============================] - 1s 12ms/step - loss: 0.0934 - val_loss: 0.0900\n",
            "Epoch 39/120\n",
            "47/47 [==============================] - 1s 13ms/step - loss: 0.0884 - val_loss: 0.0871\n",
            "Epoch 40/120\n",
            "47/47 [==============================] - 1s 15ms/step - loss: 0.0864 - val_loss: 0.0836\n",
            "Epoch 41/120\n",
            "47/47 [==============================] - 1s 16ms/step - loss: 0.0777 - val_loss: 0.0752\n",
            "Epoch 42/120\n",
            "47/47 [==============================] - 1s 16ms/step - loss: 0.0733 - val_loss: 0.0715\n",
            "Epoch 43/120\n",
            "47/47 [==============================] - 1s 15ms/step - loss: 0.0696 - val_loss: 0.0662\n",
            "Epoch 44/120\n",
            "47/47 [==============================] - 1s 16ms/step - loss: 0.0652 - val_loss: 0.0631\n",
            "Epoch 45/120\n",
            "47/47 [==============================] - 1s 14ms/step - loss: 0.0614 - val_loss: 0.0589\n",
            "Epoch 46/120\n",
            "47/47 [==============================] - 1s 12ms/step - loss: 0.0575 - val_loss: 0.0563\n",
            "Epoch 47/120\n",
            "47/47 [==============================] - 1s 12ms/step - loss: 0.0542 - val_loss: 0.0534\n",
            "Epoch 48/120\n",
            "47/47 [==============================] - 1s 12ms/step - loss: 0.0508 - val_loss: 0.0493\n",
            "Epoch 49/120\n",
            "47/47 [==============================] - 1s 11ms/step - loss: 0.0479 - val_loss: 0.0466\n",
            "Epoch 50/120\n",
            "47/47 [==============================] - 1s 12ms/step - loss: 0.0449 - val_loss: 0.0433\n",
            "Epoch 51/120\n",
            "47/47 [==============================] - 1s 11ms/step - loss: 0.0424 - val_loss: 0.0408\n",
            "Epoch 52/120\n",
            "47/47 [==============================] - 1s 11ms/step - loss: 0.0403 - val_loss: 0.0390\n",
            "Epoch 53/120\n",
            "47/47 [==============================] - 1s 11ms/step - loss: 0.0381 - val_loss: 0.0369\n",
            "Epoch 54/120\n",
            "47/47 [==============================] - 1s 12ms/step - loss: 0.1039 - val_loss: 0.1050\n",
            "Epoch 55/120\n",
            "47/47 [==============================] - 1s 12ms/step - loss: 0.0488 - val_loss: 0.0366\n",
            "Epoch 56/120\n",
            "47/47 [==============================] - 1s 18ms/step - loss: 0.0350 - val_loss: 0.0337\n",
            "Epoch 57/120\n",
            "47/47 [==============================] - 1s 11ms/step - loss: 0.0329 - val_loss: 0.0319\n",
            "Epoch 58/120\n",
            "47/47 [==============================] - 1s 11ms/step - loss: 0.0313 - val_loss: 0.0304\n",
            "Epoch 59/120\n",
            "47/47 [==============================] - 1s 13ms/step - loss: 0.0298 - val_loss: 0.0290\n",
            "Epoch 60/120\n",
            "47/47 [==============================] - 1s 13ms/step - loss: 0.0285 - val_loss: 0.0281\n",
            "Epoch 61/120\n",
            "47/47 [==============================] - 1s 12ms/step - loss: 0.0273 - val_loss: 0.0266\n",
            "Epoch 62/120\n",
            "47/47 [==============================] - 1s 14ms/step - loss: 0.0262 - val_loss: 0.0257\n",
            "Epoch 63/120\n",
            "47/47 [==============================] - 1s 15ms/step - loss: 0.0250 - val_loss: 0.0245\n",
            "Epoch 64/120\n",
            "47/47 [==============================] - 1s 16ms/step - loss: 0.0240 - val_loss: 0.0235\n",
            "Epoch 65/120\n",
            "47/47 [==============================] - 1s 15ms/step - loss: 0.0230 - val_loss: 0.0229\n",
            "Epoch 66/120\n",
            "47/47 [==============================] - 1s 15ms/step - loss: 0.0222 - val_loss: 0.0216\n",
            "Epoch 67/120\n",
            "47/47 [==============================] - 1s 13ms/step - loss: 0.0212 - val_loss: 0.0208\n",
            "Epoch 68/120\n",
            "47/47 [==============================] - 1s 11ms/step - loss: 0.0203 - val_loss: 0.0198\n",
            "Epoch 69/120\n",
            "47/47 [==============================] - 1s 12ms/step - loss: 0.0195 - val_loss: 0.0190\n",
            "Epoch 70/120\n",
            "47/47 [==============================] - 1s 20ms/step - loss: 0.0187 - val_loss: 0.0183\n",
            "Epoch 71/120\n",
            "47/47 [==============================] - 1s 13ms/step - loss: 0.0179 - val_loss: 0.0175\n",
            "Epoch 72/120\n",
            "47/47 [==============================] - 1s 17ms/step - loss: 0.0172 - val_loss: 0.0169\n",
            "Epoch 73/120\n",
            "47/47 [==============================] - 1s 11ms/step - loss: 0.0165 - val_loss: 0.0160\n",
            "Epoch 74/120\n",
            "47/47 [==============================] - 1s 12ms/step - loss: 0.0157 - val_loss: 0.0154\n",
            "Epoch 75/120\n",
            "47/47 [==============================] - 1s 11ms/step - loss: 0.0151 - val_loss: 0.0149\n",
            "Epoch 76/120\n",
            "47/47 [==============================] - 1s 11ms/step - loss: 0.0145 - val_loss: 0.0144\n",
            "Epoch 77/120\n",
            "47/47 [==============================] - 1s 11ms/step - loss: 0.0140 - val_loss: 0.0137\n",
            "Epoch 78/120\n",
            "47/47 [==============================] - 1s 13ms/step - loss: 0.0133 - val_loss: 0.0131\n",
            "Epoch 79/120\n",
            "47/47 [==============================] - 1s 11ms/step - loss: 0.0128 - val_loss: 0.0125\n",
            "Epoch 80/120\n",
            "47/47 [==============================] - 1s 13ms/step - loss: 0.0122 - val_loss: 0.0120\n",
            "Epoch 81/120\n",
            "47/47 [==============================] - 1s 11ms/step - loss: 0.0118 - val_loss: 0.0116\n",
            "Epoch 82/120\n",
            "47/47 [==============================] - 1s 11ms/step - loss: 0.0113 - val_loss: 0.0111\n",
            "Epoch 83/120\n",
            "47/47 [==============================] - 1s 12ms/step - loss: 0.0109 - val_loss: 0.0108\n",
            "Epoch 84/120\n",
            "47/47 [==============================] - 1s 15ms/step - loss: 0.0106 - val_loss: 0.0105\n",
            "Epoch 85/120\n",
            "47/47 [==============================] - 1s 15ms/step - loss: 0.0101 - val_loss: 0.0100\n",
            "Epoch 86/120\n",
            "47/47 [==============================] - 1s 17ms/step - loss: 0.0097 - val_loss: 0.0095\n",
            "Epoch 87/120\n",
            "47/47 [==============================] - 1s 16ms/step - loss: 0.0093 - val_loss: 0.0093\n",
            "Epoch 88/120\n",
            "47/47 [==============================] - 1s 15ms/step - loss: 0.0090 - val_loss: 0.0089\n",
            "Epoch 89/120\n",
            "47/47 [==============================] - 1s 11ms/step - loss: 0.0086 - val_loss: 0.0086\n",
            "Epoch 90/120\n",
            "47/47 [==============================] - 1s 11ms/step - loss: 0.0083 - val_loss: 0.0082\n",
            "Epoch 91/120\n",
            "47/47 [==============================] - 1s 13ms/step - loss: 0.0080 - val_loss: 0.0078\n",
            "Epoch 92/120\n",
            "47/47 [==============================] - 1s 16ms/step - loss: 0.0077 - val_loss: 0.0075\n",
            "Epoch 93/120\n",
            "47/47 [==============================] - 1s 15ms/step - loss: 0.0073 - val_loss: 0.0072\n",
            "Epoch 94/120\n",
            "47/47 [==============================] - 1s 15ms/step - loss: 0.0071 - val_loss: 0.0069\n",
            "Epoch 95/120\n",
            "47/47 [==============================] - 1s 15ms/step - loss: 0.0067 - val_loss: 0.0066\n",
            "Epoch 96/120\n",
            "47/47 [==============================] - 1s 16ms/step - loss: 0.0064 - val_loss: 0.0063\n",
            "Epoch 97/120\n",
            "47/47 [==============================] - 1s 11ms/step - loss: 0.0062 - val_loss: 0.0061\n",
            "Epoch 98/120\n",
            "47/47 [==============================] - 1s 11ms/step - loss: 0.0059 - val_loss: 0.0058\n",
            "Epoch 99/120\n",
            "47/47 [==============================] - 1s 11ms/step - loss: 0.0057 - val_loss: 0.0056\n",
            "Epoch 100/120\n",
            "47/47 [==============================] - 1s 11ms/step - loss: 0.0055 - val_loss: 0.0054\n",
            "Epoch 101/120\n",
            "47/47 [==============================] - 1s 11ms/step - loss: 0.0053 - val_loss: 0.0052\n",
            "Epoch 102/120\n",
            "47/47 [==============================] - 1s 17ms/step - loss: 0.0051 - val_loss: 0.0050\n",
            "Epoch 103/120\n",
            "47/47 [==============================] - 1s 22ms/step - loss: 0.0049 - val_loss: 0.0048\n",
            "Epoch 104/120\n",
            "47/47 [==============================] - 1s 32ms/step - loss: 0.0047 - val_loss: 0.0046\n",
            "Epoch 105/120\n",
            "47/47 [==============================] - 1s 28ms/step - loss: 0.0046 - val_loss: 0.0046\n",
            "Epoch 106/120\n",
            "47/47 [==============================] - 1s 32ms/step - loss: 0.0044 - val_loss: 0.0043\n",
            "Epoch 107/120\n",
            "47/47 [==============================] - 1s 27ms/step - loss: 0.0042 - val_loss: 0.0043\n",
            "Epoch 108/120\n",
            "47/47 [==============================] - 1s 16ms/step - loss: 0.0041 - val_loss: 0.0040\n",
            "Epoch 109/120\n",
            "47/47 [==============================] - 1s 11ms/step - loss: 0.0039 - val_loss: 0.0039\n",
            "Epoch 110/120\n",
            "47/47 [==============================] - 1s 11ms/step - loss: 0.0038 - val_loss: 0.0037\n",
            "Epoch 111/120\n",
            "47/47 [==============================] - 1s 12ms/step - loss: 0.0037 - val_loss: 0.0036\n",
            "Epoch 112/120\n",
            "47/47 [==============================] - 1s 11ms/step - loss: 0.0035 - val_loss: 0.0035\n",
            "Epoch 113/120\n",
            "47/47 [==============================] - 1s 11ms/step - loss: 0.0034 - val_loss: 0.0034\n",
            "Epoch 114/120\n",
            "47/47 [==============================] - 1s 11ms/step - loss: 0.0033 - val_loss: 0.0032\n",
            "Epoch 115/120\n",
            "47/47 [==============================] - 1s 11ms/step - loss: 0.0032 - val_loss: 0.0031\n",
            "Epoch 116/120\n",
            "47/47 [==============================] - 1s 11ms/step - loss: 0.0031 - val_loss: 0.0031\n",
            "Epoch 117/120\n",
            "47/47 [==============================] - 1s 13ms/step - loss: 0.0030 - val_loss: 0.0030\n",
            "Epoch 118/120\n",
            "47/47 [==============================] - 1s 11ms/step - loss: 0.0029 - val_loss: 0.0028\n",
            "Epoch 119/120\n",
            "47/47 [==============================] - 1s 12ms/step - loss: 0.0028 - val_loss: 0.0027\n",
            "Epoch 120/120\n",
            "47/47 [==============================] - 1s 11ms/step - loss: 0.0027 - val_loss: 0.0030\n"
          ]
        }
      ]
    },
    {
      "cell_type": "code",
      "source": [
        "import matplotlib.pyplot as plt\n",
        "\n",
        "# Crear el gráfico\n",
        "plt.figure(figsize=(12, 8))\n",
        "epochs = range(1, len(loss) + 1)\n",
        "plt.plot(epochs, loss, color='r', label='Training loss')\n",
        "plt.plot(epochs, val_loss, color='g', label='Validation loss')\n",
        "plt.title('Training and validation loss')\n",
        "plt.xlabel('Epochs')\n",
        "plt.ylabel('Loss')\n",
        "plt.legend()\n",
        "plt.show()"
      ],
      "metadata": {
        "colab": {
          "base_uri": "https://localhost:8080/",
          "height": 513
        },
        "id": "OriRCDn9TyrH",
        "outputId": "7ba7d7a4-6079-46a7-ef90-9a48ecae218b"
      },
      "execution_count": null,
      "outputs": [
        {
          "output_type": "display_data",
          "data": {
            "text/plain": [
              "<Figure size 864x576 with 1 Axes>"
            ],
            "image/png": "[encoded data removed]"
          },
          "metadata": {
            "needs_background": "light"
          }
        }
      ]
    },
    {
      "cell_type": "code",
      "source": [
        "with open('/content/drive/MyDrive/parametros.txt', 'w') as file:\n",
        "    \n",
        "    for layer in model.layers:\n",
        "        # Obtener los pesos y bias de la capa\n",
        "        weights = layer.get_weights()\n",
        "        if weights: # verificar si la lista no está vacía\n",
        "            # Guardar los pesos y bias en el archivo de texto\n",
        "            file.write(f'Capa: {layer.name}\\n')\n",
        "            file.write(f'Pesos: {weights[0]}\\n')\n",
        "            if len(weights) > 1:\n",
        "                file.write(f'Bias: {weights[1]}\\n')\n",
        "            else:\n",
        "                file.write('Advertencia: No se encontraron biases para esta capa\\n')\n",
        "        else:\n",
        "            print(f'Advertencia: No se encontraron pesos para la capa {layer.name}')\n",
        "\n"
      ],
      "metadata": {
        "colab": {
          "base_uri": "https://localhost:8080/"
        },
        "id": "9KIfgIcnXbrL",
        "outputId": "c8a0440b-67e0-4b00-bec8-151dfa34d1e3"
      },
      "execution_count": null,
      "outputs": [
        {
          "output_type": "stream",
          "name": "stdout",
          "text": [
            "Advertencia: No se encontraron pesos para la capa input_10\n",
            "Advertencia: No se encontraron pesos para la capa input_11\n"
          ]
        }
      ]
    },
    {
      "cell_type": "code",
      "source": [
        "model.evaluate([X_test.reshape(X_test.shape[0],1,4),z_test])"
      ],
      "metadata": {
        "colab": {
          "base_uri": "https://localhost:8080/"
        },
        "id": "yuCfc9m79haW",
        "outputId": "2e04cf69-10b5-43df-d88b-d4eab2f47343"
      },
      "execution_count": null,
      "outputs": [
        {
          "output_type": "stream",
          "name": "stdout",
          "text": [
            "63/63 [==============================] - 1s 2ms/step - loss: 0.0000e+00\n"
          ]
        },
        {
          "output_type": "execute_result",
          "data": {
            "text/plain": [
              "0.0"
            ]
          },
          "metadata": {},
          "execution_count": 21
        }
      ]
    },
    {
      "cell_type": "code",
      "source": [
        "def predictions(preds):\n",
        "    preds_words = []\n",
        "    for i in range(preds.shape[0]):\n",
        "        preds_row = preds[i]\n",
        "        preds_row_words = []\n",
        "        for idx in preds_row:\n",
        "            if idx in tokenizer.index_word:\n",
        "                preds_row_words.append(tokenizer.index_word[idx])\n",
        "        preds_words.append(preds_row_words)\n",
        "\n",
        "    return preds_words\n",
        "\n",
        "\n",
        "  "
      ],
      "metadata": {
        "id": "goSATozD9j7_"
      },
      "execution_count": null,
      "outputs": []
    },
    {
      "cell_type": "code",
      "source": [
        "inPrueba = np.array([z_test])\n",
        "inPrueba = scaler_values.transform(inPrueba).reshape(z_test.shape(0),1,4)"
      ],
      "metadata": {
        "id": "39ATBhGT9lr3",
        "colab": {
          "base_uri": "https://localhost:8080/",
          "height": 345
        },
        "outputId": "97473b9c-4f20-409b-9ef6-9ead708e0892"
      },
      "execution_count": null,
      "outputs": [
        {
          "output_type": "error",
          "ename": "ValueError",
          "evalue": "ignored",
          "traceback": [
            "\u001b[0;31m---------------------------------------------------------------------------\u001b[0m",
            "\u001b[0;31mValueError\u001b[0m                                Traceback (most recent call last)",
            "\u001b[0;32m<ipython-input-28-de8e4b2f7ab0>\u001b[0m in \u001b[0;36m<module>\u001b[0;34m\u001b[0m\n\u001b[1;32m      1\u001b[0m \u001b[0minPrueba\u001b[0m \u001b[0;34m=\u001b[0m \u001b[0mnp\u001b[0m\u001b[0;34m.\u001b[0m\u001b[0marray\u001b[0m\u001b[0;34m(\u001b[0m\u001b[0;34m[\u001b[0m\u001b[0mz_test\u001b[0m\u001b[0;34m]\u001b[0m\u001b[0;34m)\u001b[0m\u001b[0;34m\u001b[0m\u001b[0;34m\u001b[0m\u001b[0m\n\u001b[0;32m----> 2\u001b[0;31m \u001b[0minPrueba\u001b[0m \u001b[0;34m=\u001b[0m \u001b[0mscaler_values\u001b[0m\u001b[0;34m.\u001b[0m\u001b[0mtransform\u001b[0m\u001b[0;34m(\u001b[0m\u001b[0minPrueba\u001b[0m\u001b[0;34m)\u001b[0m\u001b[0;34m.\u001b[0m\u001b[0mreshape\u001b[0m\u001b[0;34m(\u001b[0m\u001b[0mz_test\u001b[0m\u001b[0;34m.\u001b[0m\u001b[0mshape\u001b[0m\u001b[0;34m(\u001b[0m\u001b[0;36m0\u001b[0m\u001b[0;34m)\u001b[0m\u001b[0;34m,\u001b[0m\u001b[0;36m1\u001b[0m\u001b[0;34m,\u001b[0m\u001b[0;36m4\u001b[0m\u001b[0;34m)\u001b[0m\u001b[0;34m\u001b[0m\u001b[0;34m\u001b[0m\u001b[0m\n\u001b[0m",
            "\u001b[0;32m/usr/local/lib/python3.9/dist-packages/sklearn/utils/_set_output.py\u001b[0m in \u001b[0;36mwrapped\u001b[0;34m(self, X, *args, **kwargs)\u001b[0m\n\u001b[1;32m    138\u001b[0m     \u001b[0;34m@\u001b[0m\u001b[0mwraps\u001b[0m\u001b[0;34m(\u001b[0m\u001b[0mf\u001b[0m\u001b[0;34m)\u001b[0m\u001b[0;34m\u001b[0m\u001b[0;34m\u001b[0m\u001b[0m\n\u001b[1;32m    139\u001b[0m     \u001b[0;32mdef\u001b[0m \u001b[0mwrapped\u001b[0m\u001b[0;34m(\u001b[0m\u001b[0mself\u001b[0m\u001b[0;34m,\u001b[0m \u001b[0mX\u001b[0m\u001b[0;34m,\u001b[0m \u001b[0;34m*\u001b[0m\u001b[0margs\u001b[0m\u001b[0;34m,\u001b[0m \u001b[0;34m**\u001b[0m\u001b[0mkwargs\u001b[0m\u001b[0;34m)\u001b[0m\u001b[0;34m:\u001b[0m\u001b[0;34m\u001b[0m\u001b[0;34m\u001b[0m\u001b[0m\n\u001b[0;32m--> 140\u001b[0;31m         \u001b[0mdata_to_wrap\u001b[0m \u001b[0;34m=\u001b[0m \u001b[0mf\u001b[0m\u001b[0;34m(\u001b[0m\u001b[0mself\u001b[0m\u001b[0;34m,\u001b[0m \u001b[0mX\u001b[0m\u001b[0;34m,\u001b[0m \u001b[0;34m*\u001b[0m\u001b[0margs\u001b[0m\u001b[0;34m,\u001b[0m \u001b[0;34m**\u001b[0m\u001b[0mkwargs\u001b[0m\u001b[0;34m)\u001b[0m\u001b[0;34m\u001b[0m\u001b[0;34m\u001b[0m\u001b[0m\n\u001b[0m\u001b[1;32m    141\u001b[0m         \u001b[0;32mif\u001b[0m \u001b[0misinstance\u001b[0m\u001b[0;34m(\u001b[0m\u001b[0mdata_to_wrap\u001b[0m\u001b[0;34m,\u001b[0m \u001b[0mtuple\u001b[0m\u001b[0;34m)\u001b[0m\u001b[0;34m:\u001b[0m\u001b[0;34m\u001b[0m\u001b[0;34m\u001b[0m\u001b[0m\n\u001b[1;32m    142\u001b[0m             \u001b[0;31m# only wrap the first output for cross decomposition\u001b[0m\u001b[0;34m\u001b[0m\u001b[0;34m\u001b[0m\u001b[0m\n",
            "\u001b[0;32m/usr/local/lib/python3.9/dist-packages/sklearn/preprocessing/_data.py\u001b[0m in \u001b[0;36mtransform\u001b[0;34m(self, X, copy)\u001b[0m\n\u001b[1;32m    990\u001b[0m \u001b[0;34m\u001b[0m\u001b[0m\n\u001b[1;32m    991\u001b[0m         \u001b[0mcopy\u001b[0m \u001b[0;34m=\u001b[0m \u001b[0mcopy\u001b[0m \u001b[0;32mif\u001b[0m \u001b[0mcopy\u001b[0m \u001b[0;32mis\u001b[0m \u001b[0;32mnot\u001b[0m \u001b[0;32mNone\u001b[0m \u001b[0;32melse\u001b[0m \u001b[0mself\u001b[0m\u001b[0;34m.\u001b[0m\u001b[0mcopy\u001b[0m\u001b[0;34m\u001b[0m\u001b[0;34m\u001b[0m\u001b[0m\n\u001b[0;32m--> 992\u001b[0;31m         X = self._validate_data(\n\u001b[0m\u001b[1;32m    993\u001b[0m             \u001b[0mX\u001b[0m\u001b[0;34m,\u001b[0m\u001b[0;34m\u001b[0m\u001b[0;34m\u001b[0m\u001b[0m\n\u001b[1;32m    994\u001b[0m             \u001b[0mreset\u001b[0m\u001b[0;34m=\u001b[0m\u001b[0;32mFalse\u001b[0m\u001b[0;34m,\u001b[0m\u001b[0;34m\u001b[0m\u001b[0;34m\u001b[0m\u001b[0m\n",
            "\u001b[0;32m/usr/local/lib/python3.9/dist-packages/sklearn/base.py\u001b[0m in \u001b[0;36m_validate_data\u001b[0;34m(self, X, y, reset, validate_separately, **check_params)\u001b[0m\n\u001b[1;32m    563\u001b[0m             \u001b[0;32mraise\u001b[0m \u001b[0mValueError\u001b[0m\u001b[0;34m(\u001b[0m\u001b[0;34m\"Validation should be done on X, y or both.\"\u001b[0m\u001b[0;34m)\u001b[0m\u001b[0;34m\u001b[0m\u001b[0;34m\u001b[0m\u001b[0m\n\u001b[1;32m    564\u001b[0m         \u001b[0;32melif\u001b[0m \u001b[0;32mnot\u001b[0m \u001b[0mno_val_X\u001b[0m \u001b[0;32mand\u001b[0m \u001b[0mno_val_y\u001b[0m\u001b[0;34m:\u001b[0m\u001b[0;34m\u001b[0m\u001b[0;34m\u001b[0m\u001b[0m\n\u001b[0;32m--> 565\u001b[0;31m             \u001b[0mX\u001b[0m \u001b[0;34m=\u001b[0m \u001b[0mcheck_array\u001b[0m\u001b[0;34m(\u001b[0m\u001b[0mX\u001b[0m\u001b[0;34m,\u001b[0m \u001b[0minput_name\u001b[0m\u001b[0;34m=\u001b[0m\u001b[0;34m\"X\"\u001b[0m\u001b[0;34m,\u001b[0m \u001b[0;34m**\u001b[0m\u001b[0mcheck_params\u001b[0m\u001b[0;34m)\u001b[0m\u001b[0;34m\u001b[0m\u001b[0;34m\u001b[0m\u001b[0m\n\u001b[0m\u001b[1;32m    566\u001b[0m             \u001b[0mout\u001b[0m \u001b[0;34m=\u001b[0m \u001b[0mX\u001b[0m\u001b[0;34m\u001b[0m\u001b[0;34m\u001b[0m\u001b[0m\n\u001b[1;32m    567\u001b[0m         \u001b[0;32melif\u001b[0m \u001b[0mno_val_X\u001b[0m \u001b[0;32mand\u001b[0m \u001b[0;32mnot\u001b[0m \u001b[0mno_val_y\u001b[0m\u001b[0;34m:\u001b[0m\u001b[0;34m\u001b[0m\u001b[0;34m\u001b[0m\u001b[0m\n",
            "\u001b[0;32m/usr/local/lib/python3.9/dist-packages/sklearn/utils/validation.py\u001b[0m in \u001b[0;36mcheck_array\u001b[0;34m(array, accept_sparse, accept_large_sparse, dtype, order, copy, force_all_finite, ensure_2d, allow_nd, ensure_min_samples, ensure_min_features, estimator, input_name)\u001b[0m\n\u001b[1;32m    913\u001b[0m             )\n\u001b[1;32m    914\u001b[0m         \u001b[0;32mif\u001b[0m \u001b[0;32mnot\u001b[0m \u001b[0mallow_nd\u001b[0m \u001b[0;32mand\u001b[0m \u001b[0marray\u001b[0m\u001b[0;34m.\u001b[0m\u001b[0mndim\u001b[0m \u001b[0;34m>=\u001b[0m \u001b[0;36m3\u001b[0m\u001b[0;34m:\u001b[0m\u001b[0;34m\u001b[0m\u001b[0;34m\u001b[0m\u001b[0m\n\u001b[0;32m--> 915\u001b[0;31m             raise ValueError(\n\u001b[0m\u001b[1;32m    916\u001b[0m                 \u001b[0;34m\"Found array with dim %d. %s expected <= 2.\"\u001b[0m\u001b[0;34m\u001b[0m\u001b[0;34m\u001b[0m\u001b[0m\n\u001b[1;32m    917\u001b[0m                 \u001b[0;34m%\u001b[0m \u001b[0;34m(\u001b[0m\u001b[0marray\u001b[0m\u001b[0;34m.\u001b[0m\u001b[0mndim\u001b[0m\u001b[0;34m,\u001b[0m \u001b[0mestimator_name\u001b[0m\u001b[0;34m)\u001b[0m\u001b[0;34m\u001b[0m\u001b[0;34m\u001b[0m\u001b[0m\n",
            "\u001b[0;31mValueError\u001b[0m: Found array with dim 3. StandardScaler expected <= 2."
          ]
        }
      ]
    },
    {
      "cell_type": "code",
      "source": [
        "z_prueba = ['muy lejos acercandose muy rapidamente hacia delante muy lento hacia atrás']\n",
        "z_prueba = tokenizer.texts_to_sequences(z_prueba)\n",
        "z_prueba = pad_sequences(z_prueba, maxlen=num_decoder_tokens, padding='post', truncating='post')"
      ],
      "metadata": {
        "id": "vdMt7xRD9qbd"
      },
      "execution_count": null,
      "outputs": []
    },
    {
      "cell_type": "code",
      "source": [
        "X_test.shape"
      ],
      "metadata": {
        "colab": {
          "base_uri": "https://localhost:8080/"
        },
        "id": "KIpggpBX-UY4",
        "outputId": "74b5bf82-752e-4bd2-ec60-0544222ce5a6"
      },
      "execution_count": null,
      "outputs": [
        {
          "output_type": "execute_result",
          "data": {
            "text/plain": [
              "(2000, 4)"
            ]
          },
          "metadata": {},
          "execution_count": 25
        }
      ]
    },
    {
      "cell_type": "code",
      "source": [
        "preds = model.predict([inPrueba.reshape(1,1,4), z_prueba])\n",
        "preds = np.argmax(preds, axis=-1)"
      ],
      "metadata": {
        "colab": {
          "base_uri": "https://localhost:8080/"
        },
        "id": "nqotS5EY9zxP",
        "outputId": "f7f7aef9-25c9-4678-c7aa-e94a5c68e54a"
      },
      "execution_count": null,
      "outputs": [
        {
          "output_type": "stream",
          "name": "stdout",
          "text": [
            "1/1 [==============================] - 1s 951ms/step\n"
          ]
        }
      ]
    },
    {
      "cell_type": "code",
      "source": [
        "frasesnlg = predictions(preds)\n",
        "print(frasesnlg)"
      ],
      "metadata": {
        "colab": {
          "base_uri": "https://localhost:8080/"
        },
        "id": "1uCFibEN91tz",
        "outputId": "b03d43cf-4eee-43ac-fc22-c10d153d8db5"
      },
      "execution_count": null,
      "outputs": [
        {
          "output_type": "stream",
          "name": "stdout",
          "text": [
            "[['cuando', 'estés', 'muy', 'lejos', 'de', 'la', 'pared', 'pero', 'te', 'estás', 'acercando', 'a', 'ella', 'gira', 'tu', 'rueda', 'izquierda', 'rápidamente', 'hacia', 'delante', 'y', 'gira', 'tu', 'rueda', 'derecha', 'muy', 'lento', 'hacia', 'atrás']]\n"
          ]
        }
      ]
    }
  ],
  "metadata": {
    "accelerator": "GPU",
    "colab": {
      "provenance": []
    },
    "gpuClass": "standard",
    "kernelspec": {
      "display_name": "deepLearning",
      "language": "python",
      "name": "python3"
    },
    "language_info": {
      "codemirror_mode": {
        "name": "ipython",
        "version": 3
      },
      "file_extension": ".py",
      "mimetype": "text/x-python",
      "name": "python",
      "nbconvert_exporter": "python",
      "pygments_lexer": "ipython3",
      "version": "3.9.16"
    },
    "vscode": {
      "interpreter": {
        "hash": "2b41b25ee1e44cae6d514ffd9667bc76b20c566b16ce2b68cdb08e6b78e7fb09"
      }
    }
  },
  "nbformat": 4,
  "nbformat_minor": 0
}