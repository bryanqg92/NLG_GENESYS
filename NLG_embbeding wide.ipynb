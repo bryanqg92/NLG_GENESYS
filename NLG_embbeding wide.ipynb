{
  "cells": [
    {
      "cell_type": "code",
      "execution_count": null,
      "metadata": {
        "colab": {
          "base_uri": "https://localhost:8080/"
        },
        "id": "vFH7RZJIIkT9",
        "outputId": "aa079d83-d7ca-44e5-df89-495fd013cd90"
      },
      "outputs": [],
      "source": [
        "from google.colab import drive\n",
        "drive.mount('/content/drive')"
      ]
    },
    {
      "cell_type": "code",
      "execution_count": 1,
      "metadata": {
        "id": "YvxTjRjX9tPt"
      },
      "outputs": [],
      "source": [
        "import pandas as pd\n",
        "import numpy as np\n",
        "from tensorflow.keras.preprocessing.text import Tokenizer\n",
        "from sklearn.model_selection import train_test_split\n",
        "from sklearn.preprocessing import StandardScaler\n",
        "from tensorflow.keras.preprocessing.sequence import pad_sequences"
      ]
    },
    {
      "cell_type": "code",
      "execution_count": 2,
      "metadata": {
        "colab": {
          "base_uri": "https://localhost:8080/"
        },
        "id": "AQgynOSEpSI9",
        "outputId": "43491431-43d4-4cc0-daf0-d4cd2902d0ee"
      },
      "outputs": [
        {
          "name": "stdout",
          "output_type": "stream",
          "text": [
            "          P         D         L         R P_fuzzy_set  P_membership   \n",
            "0  0.001536  0.019074  0.228509  0.344146          ok      0.996160  \\\n",
            "1  0.020376 -0.013247  0.221109  0.290854          ok      0.949059   \n",
            "2  0.484156 -0.776060  0.041204  0.314878       cerca      0.859741   \n",
            "3 -0.905154 -0.482209  0.927263 -0.502158   muy lejos      0.841923   \n",
            "4  0.941052  0.694558 -0.346665 -0.119857   muy cerca      0.901753   \n",
            "\n",
            "   D_fuzzy_set  D_membership               L_fuzzy_set  L_membership   \n",
            "0   sin cambio      0.904630   despacito hacia delante      0.642544  \\\n",
            "1   sin cambio      0.933766   despacito hacia delante      0.605545   \n",
            "2   alejandose      1.000000   muy lento hacia delante      0.706021   \n",
            "3   alejandose      1.000000  muy rápido hacia delante      1.000000   \n",
            "4  acercandose      1.000000     despacito hacia atrás      0.533348   \n",
            "\n",
            "                      R_fuzzy_set  R_membership   \n",
            "0         despacito hacia delante      0.779270  \\\n",
            "1         despacito hacia delante      0.954269   \n",
            "2         despacito hacia delante      0.925611   \n",
            "3  más o menos rápido hacia atrás      0.744605   \n",
            "4           muy lento hacia atrás      0.900713   \n",
            "\n",
            "                                               FRASE  CAT  \n",
            "0  cuando estén a la distancia que es, y ni te ac...    8  \n",
            "1  cuando estén a la distancia que es, y ni te ac...    8  \n",
            "2  cuando estés cerca de la pared y te alejas de ...   14  \n",
            "3  si te estás alejando de la pared y aún te encu...   11  \n",
            "4  si te estás acercando a la pared, pero ya está...    5  \n"
          ]
        }
      ],
      "source": [
        "# Cargar el dataset\n",
        "data = pd.read_csv('C:\\\\Users\\\\leand\\\\Documents\\\\LEANDRO\\\\UBA\\\\CEIA\\\\PROYECTO DE GRADO\\\\data\\\\dataset_wide.csv')\n",
        "    \n",
        "# Mostrar las primeras filas del dataset\n",
        "print(data.head())"
      ]
    },
    {
      "cell_type": "code",
      "execution_count": 3,
      "metadata": {},
      "outputs": [
        {
          "name": "stdout",
          "output_type": "stream",
          "text": [
            "<class 'pandas.core.frame.DataFrame'>\n",
            "RangeIndex: 9999 entries, 0 to 9998\n",
            "Data columns (total 14 columns):\n",
            " #   Column        Non-Null Count  Dtype  \n",
            "---  ------        --------------  -----  \n",
            " 0   P             9999 non-null   float64\n",
            " 1   D             9999 non-null   float64\n",
            " 2   L             9999 non-null   float64\n",
            " 3   R             9999 non-null   float64\n",
            " 4   P_fuzzy_set   9999 non-null   object \n",
            " 5   P_membership  9999 non-null   float64\n",
            " 6   D_fuzzy_set   9999 non-null   object \n",
            " 7   D_membership  9999 non-null   float64\n",
            " 8   L_fuzzy_set   9999 non-null   object \n",
            " 9   L_membership  9999 non-null   float64\n",
            " 10  R_fuzzy_set   9999 non-null   object \n",
            " 11  R_membership  9999 non-null   float64\n",
            " 12  FRASE         9999 non-null   object \n",
            " 13  CAT           9999 non-null   int64  \n",
            "dtypes: float64(8), int64(1), object(5)\n",
            "memory usage: 1.1+ MB\n"
          ]
        }
      ],
      "source": [
        "data.info()"
      ]
    },
    {
      "cell_type": "code",
      "execution_count": 4,
      "metadata": {},
      "outputs": [],
      "source": [
        "# Diccionarios para mapear valores únicos a valores numéricos\n",
        "mapping_P_fuzzy_set = {value: index for index, value in enumerate(data['P_fuzzy_set'].unique())}\n",
        "mapping_D_fuzzy_set = {value: index for index, value in enumerate(data['D_fuzzy_set'].unique())}\n",
        "mapping_L_fuzzy_set = {value: index for index, value in enumerate(data['L_fuzzy_set'].unique())}\n",
        "mapping_R_fuzzy_set = {value: index for index, value in enumerate(data['R_fuzzy_set'].unique())}"
      ]
    },
    {
      "cell_type": "code",
      "execution_count": 5,
      "metadata": {},
      "outputs": [
        {
          "name": "stdout",
          "output_type": "stream",
          "text": [
            "          P         D         L         R P_fuzzy_set  P_membership   \n",
            "0  0.001536  0.019074  0.228509  0.344146          ok      0.996160  \\\n",
            "1  0.020376 -0.013247  0.221109  0.290854          ok      0.949059   \n",
            "2  0.484156 -0.776060  0.041204  0.314878       cerca      0.859741   \n",
            "3 -0.905154 -0.482209  0.927263 -0.502158   muy lejos      0.841923   \n",
            "4  0.941052  0.694558 -0.346665 -0.119857   muy cerca      0.901753   \n",
            "\n",
            "   D_fuzzy_set  D_membership               L_fuzzy_set  L_membership   \n",
            "0   sin cambio      0.904630   despacito hacia delante      0.642544  \\\n",
            "1   sin cambio      0.933766   despacito hacia delante      0.605545   \n",
            "2   alejandose      1.000000   muy lento hacia delante      0.706021   \n",
            "3   alejandose      1.000000  muy rápido hacia delante      1.000000   \n",
            "4  acercandose      1.000000     despacito hacia atrás      0.533348   \n",
            "\n",
            "                      R_fuzzy_set  R_membership   \n",
            "0         despacito hacia delante      0.779270  \\\n",
            "1         despacito hacia delante      0.954269   \n",
            "2         despacito hacia delante      0.925611   \n",
            "3  más o menos rápido hacia atrás      0.744605   \n",
            "4           muy lento hacia atrás      0.900713   \n",
            "\n",
            "                                               FRASE  CAT   \n",
            "0  cuando estén a la distancia que es, y ni te ac...    8  \\\n",
            "1  cuando estén a la distancia que es, y ni te ac...    8   \n",
            "2  cuando estés cerca de la pared y te alejas de ...   14   \n",
            "3  si te estás alejando de la pared y aún te encu...   11   \n",
            "4  si te estás acercando a la pared, pero ya está...    5   \n",
            "\n",
            "   P_fuzzy_set_encoded  D_fuzzy_set_encoded  L_fuzzy_set_encoded   \n",
            "0                    0                    0                    0  \\\n",
            "1                    0                    0                    0   \n",
            "2                    1                    1                    1   \n",
            "3                    2                    1                    2   \n",
            "4                    3                    2                    3   \n",
            "\n",
            "   R_fuzzy_set_encoded  \n",
            "0                    0  \n",
            "1                    0  \n",
            "2                    0  \n",
            "3                    1  \n",
            "4                    2  \n"
          ]
        }
      ],
      "source": [
        "# Aplicar el label encoding manualmente a cada característica categórica\n",
        "data['P_fuzzy_set_encoded']  = data['P_fuzzy_set'].map(mapping_P_fuzzy_set)\n",
        "data['D_fuzzy_set_encoded'] = data['D_fuzzy_set'].map(mapping_D_fuzzy_set)\n",
        "data['L_fuzzy_set_encoded'] = data['L_fuzzy_set'].map(mapping_L_fuzzy_set)\n",
        "data['R_fuzzy_set_encoded'] = data['R_fuzzy_set'].map(mapping_R_fuzzy_set)\n",
        "\n",
        "# Verificar los cambios\n",
        "print(data.head())\n"
      ]
    },
    {
      "cell_type": "code",
      "execution_count": 6,
      "metadata": {},
      "outputs": [
        {
          "data": {
            "text/plain": [
              "Index(['P', 'D', 'L', 'R', 'P_fuzzy_set', 'P_membership', 'D_fuzzy_set',\n",
              "       'D_membership', 'L_fuzzy_set', 'L_membership', 'R_fuzzy_set',\n",
              "       'R_membership', 'FRASE', 'CAT', 'P_fuzzy_set_encoded',\n",
              "       'D_fuzzy_set_encoded', 'L_fuzzy_set_encoded', 'R_fuzzy_set_encoded'],\n",
              "      dtype='object')"
            ]
          },
          "execution_count": 6,
          "metadata": {},
          "output_type": "execute_result"
        }
      ],
      "source": [
        "data.columns"
      ]
    },
    {
      "cell_type": "code",
      "execution_count": 7,
      "metadata": {
        "id": "kpic9ASVgrlE"
      },
      "outputs": [],
      "source": [
        "X = data[['P','D','L','R','CAT','P_fuzzy_set_encoded','D_fuzzy_set_encoded', 'L_fuzzy_set_encoded', 'R_fuzzy_set_encoded']]\n",
        "y = data['FRASE']\n",
        "z = data[['P_fuzzy_set', 'D_fuzzy_set', 'L_fuzzy_set', 'R_fuzzy_set']].apply(lambda x: ' '.join(x), axis=1)"
      ]
    },
    {
      "cell_type": "code",
      "execution_count": 8,
      "metadata": {
        "id": "RTEQp3BugrlH"
      },
      "outputs": [],
      "source": [
        "tokenizer = Tokenizer()\n",
        "tokenizer.fit_on_texts(y)\n",
        "num_decoder_tokens = len(tokenizer.word_index) + 1\n",
        "\n",
        "y = tokenizer.texts_to_sequences(y)\n",
        "z = tokenizer.texts_to_sequences(z)\n",
        "\n",
        "max_len = max(len(s) for s in y)\n",
        "\n",
        "y = pad_sequences(y, maxlen=num_decoder_tokens, padding='post', truncating='post')\n",
        "z = pad_sequences(z, maxlen=num_decoder_tokens, padding='post', truncating='post')"
      ]
    },
    {
      "cell_type": "code",
      "execution_count": 9,
      "metadata": {
        "id": "_jxPUXh9rH4Q"
      },
      "outputs": [],
      "source": [
        "# Dividir los datos en conjunto de entrenamiento y prueba\n",
        "X_train, X_test, y_train, y_test = train_test_split(X, y, stratify = X['CAT'], test_size=0.2, random_state=42)\n",
        "\n",
        "# Dividir el conjunto de entrenamiento en conjunto de entrenamiento y validación\n",
        "X_train, X_val, y_train, y_val = train_test_split(X_train, y_train, test_size=0.25, random_state=42)\n",
        "\n",
        "# Obtener el índice de las filas de X_train, X_val y X_test\n",
        "idx_train = X_train.index\n",
        "idx_val = X_val.index\n",
        "idx_test = X_test.index"
      ]
    },
    {
      "cell_type": "code",
      "execution_count": 10,
      "metadata": {
        "id": "DIILcf0OgrlK"
      },
      "outputs": [],
      "source": [
        "# Dividir z en z_train, z_val y z_test\n",
        "z_train = z[idx_train]\n",
        "z_val = z[idx_val]\n",
        "z_test = z[idx_test]"
      ]
    },
    {
      "cell_type": "code",
      "execution_count": 14,
      "metadata": {},
      "outputs": [],
      "source": [
        "fuzzy_train = X_train[['P_fuzzy_set_encoded', 'D_fuzzy_set_encoded', 'L_fuzzy_set_encoded', 'R_fuzzy_set_encoded']].values\n",
        "fuzzy_val = X_val[['P_fuzzy_set_encoded', 'D_fuzzy_set_encoded', 'L_fuzzy_set_encoded', 'R_fuzzy_set_encoded']].values\n",
        "fuzzy_test = X_train[['P_fuzzy_set_encoded', 'D_fuzzy_set_encoded', 'L_fuzzy_set_encoded', 'R_fuzzy_set_encoded']].values"
      ]
    },
    {
      "cell_type": "code",
      "execution_count": 15,
      "metadata": {
        "id": "JwRtZWu3grlO"
      },
      "outputs": [],
      "source": [
        "X_train = X_train[['P','D','L','R']].values\n",
        "X_val = X_val[['P','D','L','R']].values\n",
        "X_test = X_test[['P','D','L','R']].values"
      ]
    },
    {
      "cell_type": "code",
      "execution_count": 16,
      "metadata": {},
      "outputs": [
        {
          "data": {
            "text/plain": [
              "(numpy.ndarray, numpy.ndarray, numpy.ndarray, numpy.ndarray)"
            ]
          },
          "execution_count": 16,
          "metadata": {},
          "output_type": "execute_result"
        }
      ],
      "source": [
        "type(z_train),type(y_train),type(X_train),type(fuzzy_train\n",
        "                                               )"
      ]
    },
    {
      "cell_type": "code",
      "execution_count": null,
      "metadata": {
        "colab": {
          "base_uri": "https://localhost:8080/",
          "height": 74
        },
        "id": "O_yu_i2Usgz5",
        "outputId": "58bc2a23-cf40-4830-d440-663878f88afb"
      },
      "outputs": [],
      "source": [
        "# Ajusta las columnas numéricas con StandardScaler\n",
        "scaler_values = StandardScaler()\n",
        "scaler_values.fit(X_train[['P','D','L','R']])"
      ]
    },
    {
      "cell_type": "code",
      "execution_count": null,
      "metadata": {
        "id": "vX_8qyCFbKsg"
      },
      "outputs": [],
      "source": [
        "X_train[['P','D','L','R']] = scaler_values.transform(X_train[['P','D','L','R']])\n",
        "X_val[['P','D','L','R']] = scaler_values.transform(X_val[['P','D','L','R']])\n",
        "X_test[['P','D','L','R']] = scaler_values.transform(X_test[['P','D','L','R']])"
      ]
    },
    {
      "cell_type": "code",
      "execution_count": 17,
      "metadata": {
        "colab": {
          "base_uri": "https://localhost:8080/"
        },
        "id": "BzzSmRNU8--y",
        "outputId": "b4341a3f-9d68-4adc-8dba-f49c671e5e22"
      },
      "outputs": [
        {
          "name": "stdout",
          "output_type": "stream",
          "text": [
            "tamaño X train_scaled (5999, 4)\n",
            "tamaño y train (5999, 96)\n",
            "tamaño z train (5999, 96)\n",
            "tamaño X val_scaled (2000, 4)\n",
            "tamaño y val (2000, 96)\n",
            "tamaño z val_scaled (2000, 96)\n",
            "tamaño X test_scaled (2000, 4)\n",
            "tamaño y test (2000, 96)\n",
            "tamaño z test (2000, 96)\n"
          ]
        }
      ],
      "source": [
        "print('tamaño X train_scaled', X_train.shape)\n",
        "print('tamaño y train', y_train.shape)\n",
        "print('tamaño z train', z_train.shape)\n",
        "\n",
        "\n",
        "print('tamaño X val_scaled', X_val.shape)\n",
        "print('tamaño y val', y_val.shape)\n",
        "print('tamaño z val_scaled', z_val.shape)\n",
        "\n",
        "print('tamaño X test_scaled', X_test.shape)\n",
        "print('tamaño y test', y_test.shape)\n",
        "print('tamaño z test', z_test.shape)"
      ]
    },
    {
      "cell_type": "code",
      "execution_count": 95,
      "metadata": {
        "id": "8zL432ZGjJPj"
      },
      "outputs": [],
      "source": [
        "import torch\n",
        "from torch.utils.data import DataLoader, Dataset\n",
        "\n",
        "# Definir los conjuntos de datos\n",
        "class MyDataset(Dataset):\n",
        "    def __init__(self, X, y, z, fuzzy):\n",
        "        self.X = X\n",
        "        self.y = y\n",
        "        self.z = z\n",
        "        self.fuzzy = fuzzy\n",
        "    \n",
        "    def __len__(self):\n",
        "        return len(self.X)  # Devuelve el tamaño del conjunto de datos\n",
        "    \n",
        "    def __getitem__(self, index):\n",
        "        # Obtener ejemplo y su longitud\n",
        "        x = self.X[index]\n",
        "        y = self.y[index]\n",
        "        z = self.z[index]\n",
        "        fuzzy = self.fuzzy[index]\n",
        "        \n",
        "\n",
        "        # Convertir a tensores de PyTorch y agregar dimensión adicional\n",
        "        x = torch.tensor(x).float().unsqueeze(0)  # (1, 1, input_size)\n",
        "        y = torch.tensor(y).long() # (1,)\n",
        "        z = torch.tensor(z).long()  # (1,)\n",
        "        fuzzy = torch.tensor(fuzzy).unsqueeze(0).long()\n",
        "\n",
        "        return x, y, z, fuzzy\n"
      ]
    },
    {
      "cell_type": "code",
      "execution_count": 96,
      "metadata": {
        "colab": {
          "base_uri": "https://localhost:8080/"
        },
        "id": "lS_fQXikxm0V",
        "outputId": "4f50b71d-bd9e-4491-fb88-1ab2e62c545a"
      },
      "outputs": [
        {
          "data": {
            "text/plain": [
              "((5999, 4), (5999, 96), (5999, 96), (5999, 4))"
            ]
          },
          "execution_count": 96,
          "metadata": {},
          "output_type": "execute_result"
        }
      ],
      "source": [
        "X_train.shape,y_train.shape,z_train.shape, fuzzy_train.shape"
      ]
    },
    {
      "cell_type": "code",
      "execution_count": 97,
      "metadata": {
        "id": "8pI5TOL2nqfX"
      },
      "outputs": [],
      "source": [
        "train_ds = MyDataset(X_train, y_train, z_train, fuzzy_train)\n",
        "valid_ds = MyDataset(X_val, y_val, z_val, fuzzy_val)\n",
        "test_ds = MyDataset(X_test, y_test, z_test, fuzzy_test)"
      ]
    },
    {
      "cell_type": "code",
      "execution_count": 98,
      "metadata": {
        "id": "4Lr8l79Sopup"
      },
      "outputs": [],
      "source": [
        "# Pytorch utiliza DataLoader para entregar los dataset de a batches\n",
        "train_dataloader = DataLoader(train_ds, batch_size = 64)\n",
        "valid_dataloader = DataLoader(valid_ds, batch_size=64)\n",
        "test_dataloader = DataLoader(test_ds, batch_size=64)"
      ]
    },
    {
      "cell_type": "code",
      "execution_count": 107,
      "metadata": {
        "id": "2NWj2SV7qrt7"
      },
      "outputs": [
        {
          "data": {
            "text/plain": [
              "device(type='cpu')"
            ]
          },
          "execution_count": 107,
          "metadata": {},
          "output_type": "execute_result"
        }
      ],
      "source": [
        "import torch\n",
        "import torch.nn as nn\n",
        "import torch.optim as optim\n",
        "\n",
        "# Definir dimensiones de entrada y salida\n",
        "input_size = 4\n",
        "hidden_size = 256\n",
        "p_class = 5\n",
        "d_class = 3\n",
        "l_class = 11\n",
        "r_class = 9\n",
        "\n",
        "# Definir modelo\n",
        "\n",
        "class seq2seqLSTM(nn.Module):\n",
        "    \n",
        "    def __init__(self, input_size, hidden_size, num_decoder_tokens, num_layers=4):\n",
        "        super(seq2seqLSTM, self).__init__()\n",
        "\n",
        "        self.p_embbeding = nn.Embedding(p_class, 5)\n",
        "        self.d_embbeding = nn.Embedding(d_class, 5)\n",
        "        self.l_embbeding = nn.Embedding(l_class, 5)\n",
        "        self.r_embbeding = nn.Embedding(r_class, 5)\n",
        "        self.encoder_lstm = nn.LSTM(input_size+20, hidden_size, num_layers, batch_first=True)\n",
        "        self.decoder_embedding = nn.Embedding(num_decoder_tokens, 128)\n",
        "        self.decoder_lstm = nn.LSTM(128, hidden_size, num_layers=4, batch_first=True)\n",
        "        self.linear_layer = nn.Linear(hidden_size, num_decoder_tokens)\n",
        "\n",
        "    def forward(self, inputs, labels, fuzzy):\n",
        "\n",
        "        p_emb = self.p_embbeding(fuzzy[:,:,0])\n",
        "        d_emb = self.d_embbeding(fuzzy[:,:,1])\n",
        "        l_emb = self.l_embbeding(fuzzy[:,:,2])\n",
        "        r_emb = self.r_embbeding(fuzzy[:,:,3])\n",
        "\n",
        "        inputs_concat = torch.cat((inputs, p_emb, d_emb, l_emb, r_emb), dim=2)\n",
        "        _, (state_h, state_c) = self.encoder_lstm(inputs_concat)\n",
        "\n",
        "        embedding = self.decoder_embedding(labels)\n",
        "        decoder_output, _ = self.decoder_lstm(embedding, (state_h, state_c))\n",
        "        decoder_output = decoder_output.reshape(-1, decoder_output.shape[2])\n",
        "        linear_output = self.linear_layer(decoder_output)\n",
        "\n",
        "        # Remodela para que tenga el mismo número de pasos de tiempo que dec_inputs\n",
        "        linear_output = linear_output.reshape(dec_inputs.shape[0], dec_inputs.shape[1], -1)\n",
        "        return linear_output\n",
        "\n",
        "\n",
        "\n",
        "model = seq2seqLSTM(input_size, hidden_size, num_decoder_tokens)\n",
        "device = torch.device('cuda' if torch.cuda.is_available() else 'cpu')\n",
        "model.to(device)\n",
        "device"
      ]
    },
    {
      "cell_type": "code",
      "execution_count": 108,
      "metadata": {},
      "outputs": [
        {
          "data": {
            "text/plain": [
              "seq2seqLSTM(\n",
              "  (p_embbeding): Embedding(5, 5)\n",
              "  (d_embbeding): Embedding(3, 5)\n",
              "  (l_embbeding): Embedding(11, 5)\n",
              "  (r_embbeding): Embedding(9, 5)\n",
              "  (encoder_lstm): LSTM(24, 256, num_layers=4, batch_first=True)\n",
              "  (decoder_embedding): Embedding(96, 128)\n",
              "  (decoder_lstm): LSTM(128, 256, num_layers=4, batch_first=True)\n",
              "  (linear_layer): Linear(in_features=256, out_features=96, bias=True)\n",
              ")"
            ]
          },
          "execution_count": 108,
          "metadata": {},
          "output_type": "execute_result"
        }
      ],
      "source": [
        "model"
      ]
    },
    {
      "cell_type": "code",
      "execution_count": 109,
      "metadata": {
        "colab": {
          "base_uri": "https://localhost:8080/",
          "height": 395
        },
        "id": "Su5nucZKr5qA",
        "outputId": "5604d546-cd50-4e16-9932-c667ef12e18a"
      },
      "outputs": [
        {
          "ename": "KeyboardInterrupt",
          "evalue": "",
          "output_type": "error",
          "traceback": [
            "\u001b[1;31m---------------------------------------------------------------------------\u001b[0m",
            "\u001b[1;31mKeyboardInterrupt\u001b[0m                         Traceback (most recent call last)",
            "Cell \u001b[1;32mIn[109], line 22\u001b[0m\n\u001b[0;32m     20\u001b[0m outputs \u001b[39m=\u001b[39m model(inputs\u001b[39m.\u001b[39mto(device), dec_inputs\u001b[39m.\u001b[39mto(device), fuzzy\u001b[39m.\u001b[39mto(device))\n\u001b[0;32m     21\u001b[0m loss \u001b[39m=\u001b[39m criterion(outputs, labels\u001b[39m.\u001b[39mto(device))\n\u001b[1;32m---> 22\u001b[0m loss\u001b[39m.\u001b[39;49mbackward()\n\u001b[0;32m     23\u001b[0m optimizer\u001b[39m.\u001b[39mstep()\n\u001b[0;32m     24\u001b[0m train_loss \u001b[39m+\u001b[39m\u001b[39m=\u001b[39m loss\u001b[39m.\u001b[39mitem()\n",
            "File \u001b[1;32mc:\\ProgramData\\Anaconda3\\envs\\grade\\lib\\site-packages\\torch\\_tensor.py:487\u001b[0m, in \u001b[0;36mTensor.backward\u001b[1;34m(self, gradient, retain_graph, create_graph, inputs)\u001b[0m\n\u001b[0;32m    477\u001b[0m \u001b[39mif\u001b[39;00m has_torch_function_unary(\u001b[39mself\u001b[39m):\n\u001b[0;32m    478\u001b[0m     \u001b[39mreturn\u001b[39;00m handle_torch_function(\n\u001b[0;32m    479\u001b[0m         Tensor\u001b[39m.\u001b[39mbackward,\n\u001b[0;32m    480\u001b[0m         (\u001b[39mself\u001b[39m,),\n\u001b[1;32m   (...)\u001b[0m\n\u001b[0;32m    485\u001b[0m         inputs\u001b[39m=\u001b[39minputs,\n\u001b[0;32m    486\u001b[0m     )\n\u001b[1;32m--> 487\u001b[0m torch\u001b[39m.\u001b[39;49mautograd\u001b[39m.\u001b[39;49mbackward(\n\u001b[0;32m    488\u001b[0m     \u001b[39mself\u001b[39;49m, gradient, retain_graph, create_graph, inputs\u001b[39m=\u001b[39;49minputs\n\u001b[0;32m    489\u001b[0m )\n",
            "File \u001b[1;32mc:\\ProgramData\\Anaconda3\\envs\\grade\\lib\\site-packages\\torch\\autograd\\__init__.py:200\u001b[0m, in \u001b[0;36mbackward\u001b[1;34m(tensors, grad_tensors, retain_graph, create_graph, grad_variables, inputs)\u001b[0m\n\u001b[0;32m    195\u001b[0m     retain_graph \u001b[39m=\u001b[39m create_graph\n\u001b[0;32m    197\u001b[0m \u001b[39m# The reason we repeat same the comment below is that\u001b[39;00m\n\u001b[0;32m    198\u001b[0m \u001b[39m# some Python versions print out the first line of a multi-line function\u001b[39;00m\n\u001b[0;32m    199\u001b[0m \u001b[39m# calls in the traceback and some print out the last line\u001b[39;00m\n\u001b[1;32m--> 200\u001b[0m Variable\u001b[39m.\u001b[39;49m_execution_engine\u001b[39m.\u001b[39;49mrun_backward(  \u001b[39m# Calls into the C++ engine to run the backward pass\u001b[39;49;00m\n\u001b[0;32m    201\u001b[0m     tensors, grad_tensors_, retain_graph, create_graph, inputs,\n\u001b[0;32m    202\u001b[0m     allow_unreachable\u001b[39m=\u001b[39;49m\u001b[39mTrue\u001b[39;49;00m, accumulate_grad\u001b[39m=\u001b[39;49m\u001b[39mTrue\u001b[39;49;00m)\n",
            "\u001b[1;31mKeyboardInterrupt\u001b[0m: "
          ]
        }
      ],
      "source": [
        "import matplotlib.pyplot as plt\n",
        "\n",
        "# Definir función de pérdida y optimizador\n",
        "criterion = nn.CrossEntropyLoss()\n",
        "optimizer = optim.Adam(model.parameters(), lr=0.01)\n",
        "\n",
        "# Inicializar listas para almacenar los valores de loss y accuracy\n",
        "train_loss_list = []\n",
        "val_loss_list = []\n",
        "accuracy_list = []\n",
        "\n",
        "# Entrenamiento\n",
        "num_epochs = 150\n",
        "for epoch in range(num_epochs):\n",
        "    # Entrenamiento\n",
        "    model.train()\n",
        "    train_loss = 0\n",
        "    for i, (inputs, labels, dec_inputs, fuzzy) in enumerate(train_dataloader):\n",
        "        optimizer.zero_grad()\n",
        "        outputs = model(inputs.to(device), dec_inputs.to(device), fuzzy.to(device))\n",
        "        loss = criterion(outputs, labels.to(device))\n",
        "        loss.backward()\n",
        "        optimizer.step()\n",
        "        train_loss += loss.item()\n",
        "    train_loss /= len(train_dataloader)\n",
        "    train_loss_list.append(train_loss)\n",
        "    \n",
        "    # Validación\n",
        "    model.eval()\n",
        "    val_loss = 0\n",
        "    correct = 0\n",
        "    total = 0\n",
        "    with torch.no_grad():\n",
        "        for i, (inputs, labels, dec_inputs, fuzzy) in enumerate(valid_dataloader):\n",
        "            outputs = model(inputs.to(device), dec_inputs.to(device), fuzzy.to(device))\n",
        "            loss = criterion(outputs, labels.to(device))\n",
        "            val_loss += loss.item()\n",
        "            _, predicted = torch.max(outputs.data, 1)\n",
        "            total += labels.size(0) * labels.size(1)\n",
        "            correct += (predicted == labels).sum().item()\n",
        "    val_loss /= len(valid_dataloader)\n",
        "    val_loss_list.append(val_loss)\n",
        "    accuracy = 100 * correct / total\n",
        "    accuracy_list.append(accuracy)\n",
        "    \n",
        "    print(f'Epoch {epoch+1}/{num_epochs}, Train Loss: {train_loss:.4f}, Validation Loss: {val_loss:.4f}, Accuracy: {accuracy:.2f}%')"
      ]
    },
    {
      "cell_type": "code",
      "execution_count": 106,
      "metadata": {},
      "outputs": [
        {
          "data": {
            "image/png": "[encoded data removed]",
            "text/plain": [
              "<Figure size 640x480 with 1 Axes>"
            ]
          },
          "metadata": {},
          "output_type": "display_data"
        },
        {
          "data": {
            "image/png": "[encoded data removed]",
            "text/plain": [
              "<Figure size 640x480 with 1 Axes>"
            ]
          },
          "metadata": {},
          "output_type": "display_data"
        }
      ],
      "source": [
        "# Graficar loss y accuracy\n",
        "plt.plot(train_loss_list, label='Train Loss')\n",
        "plt.plot(val_loss_list, label='Validation Loss')\n",
        "plt.legend()\n",
        "plt.show()\n",
        "\n",
        "plt.plot(accuracy_list)\n",
        "plt.title('Accuracy')\n",
        "plt.show()"
      ]
    },
    {
      "cell_type": "code",
      "execution_count": null,
      "metadata": {
        "id": "goSATozD9j7_"
      },
      "outputs": [],
      "source": [
        "def predictions(preds):\n",
        "    preds_words = []\n",
        "    for i in range(preds.shape[0]):\n",
        "        preds_row = preds[i]\n",
        "        preds_row_words = []\n",
        "        for idx in preds_row:\n",
        "            if idx in tokenizer.index_word:\n",
        "                preds_row_words.append(tokenizer.index_word[idx])\n",
        "        preds_words.append(preds_row_words)\n",
        "\n",
        "    return preds_words\n"
      ]
    },
    {
      "cell_type": "code",
      "execution_count": null,
      "metadata": {
        "id": "1uCFibEN91tz"
      },
      "outputs": [],
      "source": [
        "frasesnlg = predictions(predicted.numpy())\n",
        "print(frasesnlg)"
      ]
    },
    {
      "cell_type": "code",
      "execution_count": null,
      "metadata": {},
      "outputs": [],
      "source": [
        "def predict_eval(model,test_dataloader,criterion):\n",
        "    model.eval()\n",
        "    test_loss = 0\n",
        "    correct = 0\n",
        "    total = 0\n",
        "    with torch.no_grad():\n",
        "        for i, (inputs, labels, dec_inputs) in enumerate(test_dataloader):\n",
        "            outputs = model(inputs, dec_inputs)\n",
        "            loss = criterion(outputs, labels.long())\n",
        "            test_loss += loss.item()\n",
        "            _, predicted = torch.max(outputs.data, 1)\n",
        "            total += labels.size(0) * labels.size(1)\n",
        "            correct += (predicted == labels).sum().item()\n",
        "    test_loss /= len(test_dataloader)\n",
        "    accuracy = 100 * correct / total\n",
        "\n",
        "    print(f'Test Loss: {test_loss:.4f}, Accuracy: {accuracy:.2f}%')\n",
        "\n",
        "    return predicted.numpy()"
      ]
    },
    {
      "cell_type": "code",
      "execution_count": null,
      "metadata": {},
      "outputs": [],
      "source": [
        "preds = predict_eval(model,test_dataloader,criterion)"
      ]
    },
    {
      "cell_type": "code",
      "execution_count": null,
      "metadata": {},
      "outputs": [],
      "source": [
        "frasestest = predictions(preds)\n",
        "for i in range(len(frasestest)-1):\n",
        "    print(frasestest[i])"
      ]
    },
    {
      "cell_type": "code",
      "execution_count": null,
      "metadata": {},
      "outputs": [],
      "source": [
        "torch.save(model.state_dict(), 'C:\\\\Users\\\\leand\\Documents\\\\LEANDRO\\\\UBA\\\\CEIA\\\\PROYECTO DE GRADO\\\\Modelos\\\\pytorch_lim_vocab\\\\seq2seqLSTM_model.pt')"
      ]
    },
    {
      "cell_type": "code",
      "execution_count": null,
      "metadata": {},
      "outputs": [],
      "source": [
        "import json\n",
        "\n",
        "# Obtén la configuración del tokenizer\n",
        "tokenizer_config = tokenizer.to_json()\n",
        "\n",
        "# Guarda la configuración en un archivo JSON\n",
        "with open('C:\\\\Users\\\\leand\\\\Documents\\\\LEANDRO\\\\UBA\\\\CEIA\\\\PROYECTO DE GRADO\\src\\\\tokenizer.json', 'w') as json_file:\n",
        "    json_file.write(tokenizer_config)"
      ]
    },
    {
      "cell_type": "code",
      "execution_count": null,
      "metadata": {},
      "outputs": [],
      "source": [
        "prueba_de = np.array([0.05123237,-0.99533163,0.5028787,-0.01450637])\n",
        "target = np.array([36, 23, 4, 14, 15, 26, 4, 9, 0, 0, 0, 0, 0, 0, 0, 0, 0, 0, 0, 0, 0, 0, 0, 0, 0, 0, 0, 0, 0, 0, 0, 0, 0, 0, 0, 0, 0, 0, 0, 0, 0])"
      ]
    },
    {
      "cell_type": "code",
      "execution_count": null,
      "metadata": {},
      "outputs": [],
      "source": [
        "model.eval()\n",
        "test_in = torch.tensor(prueba_de.reshape(1,1,4)).float()\n",
        "dec_test_in = torch.tensor(target).long().unsqueeze(0)"
      ]
    },
    {
      "cell_type": "code",
      "execution_count": null,
      "metadata": {},
      "outputs": [],
      "source": [
        "test_in, dec_test_in"
      ]
    },
    {
      "cell_type": "code",
      "execution_count": null,
      "metadata": {},
      "outputs": [],
      "source": [
        "X_test[2],z_test[2]"
      ]
    },
    {
      "cell_type": "code",
      "execution_count": null,
      "metadata": {},
      "outputs": [],
      "source": [
        "test_in = torch.tensor(X_test[0].reshape(1,1,4)).float()\n",
        "dec_test_in = torch.tensor(z_test[0]).long().unsqueeze(0)"
      ]
    },
    {
      "cell_type": "code",
      "execution_count": null,
      "metadata": {},
      "outputs": [],
      "source": [
        "# Hacer predicciones con el modelo cargado\n",
        "with torch.no_grad():\n",
        "    prediction = model(test_in, dec_test_in)\n",
        "    _, predicts = torch.max(prediction.data, 1)\n",
        "    \n",
        "\n",
        "# Imprimir las predicciones\n",
        "print(predicts)"
      ]
    },
    {
      "cell_type": "code",
      "execution_count": null,
      "metadata": {},
      "outputs": [],
      "source": [
        "predicciones_finales = predictions(dec_test_in.numpy())"
      ]
    },
    {
      "cell_type": "code",
      "execution_count": null,
      "metadata": {},
      "outputs": [],
      "source": [
        "predicciones_finales"
      ]
    },
    {
      "cell_type": "code",
      "execution_count": null,
      "metadata": {},
      "outputs": [],
      "source": [
        "tokenizer.word_index"
      ]
    }
  ],
  "metadata": {
    "accelerator": "GPU",
    "colab": {
      "provenance": []
    },
    "gpuClass": "standard",
    "kernelspec": {
      "display_name": "deepLearning",
      "language": "python",
      "name": "python3"
    },
    "language_info": {
      "codemirror_mode": {
        "name": "ipython",
        "version": 3
      },
      "file_extension": ".py",
      "mimetype": "text/x-python",
      "name": "python",
      "nbconvert_exporter": "python",
      "pygments_lexer": "ipython3",
      "version": "3.9.16"
    },
    "vscode": {
      "interpreter": {
        "hash": "2b41b25ee1e44cae6d514ffd9667bc76b20c566b16ce2b68cdb08e6b78e7fb09"
      }
    }
  },
  "nbformat": 4,
  "nbformat_minor": 0
}
